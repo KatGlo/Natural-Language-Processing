{
 "cells": [
  {
   "cell_type": "markdown",
   "id": "6a045d6a39428ca5",
   "metadata": {
    "collapsed": false
   },
   "source": [
    "# Lemmatization and full text search (FTS)\n",
    "\n",
    "The task is concentrated on using full text search engine (ElasticSearch) to perform basic search\n",
    "operations in a text corpus.\n",
    "\n",
    "## Tasks\n",
    "\n",
    "Task objective (8 points):\n",
    "1. Install ElasticSearch (ES).\n",
    "2. Install an ES plugin for Polish https://github.com/allegro/elasticsearch-analysis-morfologik "
   ]
  },
  {
   "cell_type": "markdown",
   "id": "f434e17beb3345c1",
   "metadata": {
    "collapsed": false
   },
   "source": [
    "Steps to accomplish tasks 1 and 2 in the terminal::\n",
    "* Navigate to the elastic directory (from the nlp repository on GitHub): cd elastic\n",
    "* Start the services with Docker Compose: docker compose up -d\n",
    "* To install the plugin, run: docker exec -it elastic-search-1 ./bin/elasticsearch-plugin install https://github.com/allegro/elasticsearch-analysis-morfologik/releases/download/v8.15.2/elasticsearch-analysis-morfologik-8.15.2.zip\n",
    "* Restart the Docker Compose services: docker-compose restart"
   ]
  },
  {
   "cell_type": "code",
   "execution_count": 73,
   "id": "991e905b2b2c070a",
   "metadata": {
    "collapsed": false,
    "ExecuteTime": {
     "end_time": "2024-10-27T14:06:00.350113Z",
     "start_time": "2024-10-27T14:05:58.948713Z"
    }
   },
   "outputs": [
    {
     "name": "stdout",
     "output_type": "stream",
     "text": [
      "Requirement already satisfied: elasticsearch in /Users/kasia/miniconda3/lib/python3.12/site-packages (8.15.1)\r\n",
      "Requirement already satisfied: elastic-transport<9,>=8.13 in /Users/kasia/miniconda3/lib/python3.12/site-packages (from elasticsearch) (8.15.1)\r\n",
      "Requirement already satisfied: urllib3<3,>=1.26.2 in /Users/kasia/miniconda3/lib/python3.12/site-packages (from elastic-transport<9,>=8.13->elasticsearch) (2.2.2)\r\n",
      "Requirement already satisfied: certifi in /Users/kasia/miniconda3/lib/python3.12/site-packages (from elastic-transport<9,>=8.13->elasticsearch) (2024.8.30)\r\n"
     ]
    }
   ],
   "source": [
    "!pip install elasticsearch"
   ]
  },
  {
   "cell_type": "code",
   "execution_count": 74,
   "id": "b2fcc0bff8ecb64e",
   "metadata": {
    "collapsed": false,
    "ExecuteTime": {
     "end_time": "2024-10-27T14:06:00.391934Z",
     "start_time": "2024-10-27T14:06:00.354880Z"
    }
   },
   "outputs": [
    {
     "name": "stdout",
     "output_type": "stream",
     "text": [
      "ElasticSearch works correct!\n"
     ]
    }
   ],
   "source": [
    "from elasticsearch import Elasticsearch\n",
    "\n",
    "es = Elasticsearch([{'host': 'localhost', 'port': 9200, 'scheme': 'http'}])\n",
    "\n",
    "if es.ping():\n",
    "    print(\"ElasticSearch works correct!\")\n",
    "else:\n",
    "    print(\"No connection with ElasticSearch.\")\n"
   ]
  },
  {
   "cell_type": "code",
   "execution_count": 75,
   "id": "1ea4a2dda3d50fbb",
   "metadata": {
    "collapsed": false,
    "ExecuteTime": {
     "end_time": "2024-10-27T14:06:00.472818Z",
     "start_time": "2024-10-27T14:06:00.388988Z"
    }
   },
   "outputs": [
    {
     "name": "stdout",
     "output_type": "stream",
     "text": [
      "name   component           version description\n",
      "node-1 analysis-morfologik 8.15.2  Morfologik Polish Lemmatizer plugin for Elasticsearch\n"
     ]
    },
    {
     "name": "stderr",
     "output_type": "stream",
     "text": [
      "/var/folders/dh/xy853v6969d25m5d35x8gwj80000gn/T/ipykernel_7838/1994088682.py:1: DeprecationWarning: The 'params' parameter is deprecated and will be removed in a future version. Instead use individual parameters.\n",
      "  print(es.cat.plugins(\n"
     ]
    }
   ],
   "source": [
    "print(es.cat.plugins(\n",
    "    params={\n",
    "        'v': 'true',\n",
    "        'h': 'name,component,version,description'\n",
    "    }\n",
    "))"
   ]
  },
  {
   "cell_type": "markdown",
   "id": "5eec11305e425fb7",
   "metadata": {
    "collapsed": false
   },
   "source": [
    "Imports"
   ]
  },
  {
   "cell_type": "code",
   "execution_count": 76,
   "id": "323d3a4051a38d60",
   "metadata": {
    "collapsed": false,
    "ExecuteTime": {
     "end_time": "2024-10-27T14:06:00.473720Z",
     "start_time": "2024-10-27T14:06:00.423717Z"
    }
   },
   "outputs": [],
   "source": [
    "import time\n",
    "import datasets\n",
    "import numpy as np\n",
    "import elasticsearch\n",
    "import pandas as pd\n",
    "from datasets import load_dataset"
   ]
  },
  {
   "cell_type": "markdown",
   "id": "d2a2c5a638590f95",
   "metadata": {
    "collapsed": false
   },
   "source": [
    "3. Define an ES analyzer for Polish texts containing:\n",
    "   1. standard tokenizer\n",
    "   2. synonym filter with alternative forms for months, e.g. `kwiecień`, `kwi`, `IV`.\n",
    "   3. lowercase filter\n",
    "   4. Morfologik-based lemmatizer\n",
    "   5. lowercase filter (looks strange, but Morfologi produces capitalized base forms for proper names, so we have to lowercase them once more)."
   ]
  },
  {
   "cell_type": "markdown",
   "id": "66cb0c517d45eace",
   "metadata": {
    "collapsed": false
   },
   "source": [
    "Polish analyzer with synonyms"
   ]
  },
  {
   "cell_type": "code",
   "execution_count": 77,
   "id": "72945b425082cc20",
   "metadata": {
    "collapsed": false,
    "ExecuteTime": {
     "end_time": "2024-10-27T14:06:00.508783Z",
     "start_time": "2024-10-27T14:06:00.433524Z"
    }
   },
   "outputs": [],
   "source": [
    "synonyms_settings = {\n",
    "    \"analysis\": {\n",
    "        \"analyzer\": {\n",
    "            \"synonyms_analyzer\": {\n",
    "                \"type\": \"custom\",\n",
    "                \"tokenizer\": \"standard\",\n",
    "                \"filter\": [\n",
    "                    \"lowercase\",\n",
    "                    \"polish_synonyms\",\n",
    "                    \"morfologik_stem\",\n",
    "                ]\n",
    "            }\n",
    "        },\n",
    "        \"filter\": {\n",
    "            \"polish_synonyms\": {\n",
    "                \"type\": \"synonym\",\n",
    "                \"synonyms\": [\n",
    "                    \"styczeń, sty, I\",\n",
    "                    \"luty, lut, II\",\n",
    "                    \"marzec, mar, III\",\n",
    "                    \"kwiecień, kwi, IV\",\n",
    "                    \"maj, V\",\n",
    "                    \"czerwiec, cze, VI\",\n",
    "                    \"lipiec, lip, VII\",\n",
    "                    \"sierpień, sie, VIII\",\n",
    "                    \"wrzesień, wrz, IX\",\n",
    "                    \"październik, paź, X\",\n",
    "                    \"listopad, lis, XI\",\n",
    "                    \"grudzień, gru, XII\"\n",
    "                ]\n",
    "            }\n",
    "        }\n",
    "    }\n",
    "}\n"
   ]
  },
  {
   "cell_type": "code",
   "execution_count": 78,
   "id": "a62504f214fe7b00",
   "metadata": {
    "collapsed": false,
    "ExecuteTime": {
     "end_time": "2024-10-27T14:06:00.509413Z",
     "start_time": "2024-10-27T14:06:00.438562Z"
    }
   },
   "outputs": [],
   "source": [
    "synonyms_mappings = {\n",
    "    \"properties\": {\n",
    "        \"text\": {\n",
    "            \"type\": \"text\",\n",
    "            \"analyzer\": \"synonyms_analyzer\"\n",
    "        }\n",
    "    }\n",
    "}"
   ]
  },
  {
   "cell_type": "markdown",
   "id": "937281c710866256",
   "metadata": {
    "collapsed": false
   },
   "source": [
    "4. Define another analyzer for Polish, without the synonym filter."
   ]
  },
  {
   "cell_type": "markdown",
   "id": "3aa157c9c04062f4",
   "metadata": {
    "collapsed": false
   },
   "source": [
    "Polish analyzer without synonyms"
   ]
  },
  {
   "cell_type": "code",
   "execution_count": 79,
   "id": "9664a641c7078aba",
   "metadata": {
    "collapsed": false,
    "ExecuteTime": {
     "end_time": "2024-10-27T14:06:00.509627Z",
     "start_time": "2024-10-27T14:06:00.444432Z"
    }
   },
   "outputs": [],
   "source": [
    "no_synonyms_settings = {\n",
    "    \"analysis\": {\n",
    "        \"analyzer\": {\n",
    "            \"no_synonyms_analyzer\": {\n",
    "                \"type\": \"custom\",\n",
    "                \"tokenizer\": \"standard\",\n",
    "                \"filter\": [\n",
    "                    \"lowercase\",\n",
    "                    \"morfologik_stem\",\n",
    "                ]\n",
    "            }\n",
    "        }\n",
    "    }\n",
    "}"
   ]
  },
  {
   "cell_type": "code",
   "execution_count": 80,
   "id": "78a33d34c060937",
   "metadata": {
    "collapsed": false,
    "ExecuteTime": {
     "end_time": "2024-10-27T14:06:00.509809Z",
     "start_time": "2024-10-27T14:06:00.448973Z"
    }
   },
   "outputs": [],
   "source": [
    "no_synonyms_mappings = {\n",
    "    \"properties\": {\n",
    "        \"text\": {\n",
    "            \"type\": \"text\",\n",
    "            \"analyzer\": \"no_synonyms_analyzer\"\n",
    "        }\n",
    "    }\n",
    "}"
   ]
  },
  {
   "cell_type": "markdown",
   "id": "a3d9d928487da34d",
   "metadata": {
    "collapsed": false
   },
   "source": [
    "5. Define an ES index for storing the contents of the corpus [FiQA-PL](https://huggingface.co/datasets/clarin-knext/fiqa-pl) using both analyzers.\n",
    "   Use different names for the fields analyzed with a different pipeline."
   ]
  },
  {
   "cell_type": "code",
   "execution_count": 81,
   "id": "91b3e98144b7f1a7",
   "metadata": {
    "collapsed": false,
    "ExecuteTime": {
     "end_time": "2024-10-27T14:06:00.809928Z",
     "start_time": "2024-10-27T14:06:00.454332Z"
    }
   },
   "outputs": [
    {
     "data": {
      "text/plain": "ObjectApiResponse({'acknowledged': True, 'shards_acknowledged': True, 'index': 'synonyms_index'})"
     },
     "execution_count": 81,
     "metadata": {},
     "output_type": "execute_result"
    }
   ],
   "source": [
    "# es.indices.delete(index=\"synonyms_index\")\n",
    "es.indices.create(index=\"synonyms_index\", settings=synonyms_settings, mappings=synonyms_mappings)"
   ]
  },
  {
   "cell_type": "code",
   "execution_count": 82,
   "id": "34f2fb6ae1d0bdbd",
   "metadata": {
    "collapsed": false,
    "ExecuteTime": {
     "end_time": "2024-10-27T14:06:01.093901Z",
     "start_time": "2024-10-27T14:06:00.812329Z"
    }
   },
   "outputs": [
    {
     "data": {
      "text/plain": "ObjectApiResponse({'acknowledged': True, 'shards_acknowledged': True, 'index': 'no_synonyms_index'})"
     },
     "execution_count": 82,
     "metadata": {},
     "output_type": "execute_result"
    }
   ],
   "source": [
    "# es.indices.delete(index=\"no_synonyms_index\")\n",
    "es.indices.create(index=\"no_synonyms_index\", settings=no_synonyms_settings, mappings=no_synonyms_mappings)"
   ]
  },
  {
   "cell_type": "markdown",
   "id": "b6644fe89f8aaf98",
   "metadata": {
    "collapsed": false
   },
   "source": [
    "Both indexes were created correctly"
   ]
  },
  {
   "cell_type": "markdown",
   "id": "26c4f329cfa84d73",
   "metadata": {
    "collapsed": false
   },
   "source": [
    "6.Load the data to the ES index."
   ]
  },
  {
   "cell_type": "code",
   "execution_count": 83,
   "id": "a3a86a5c86b7d8a6",
   "metadata": {
    "collapsed": false,
    "ExecuteTime": {
     "end_time": "2024-10-27T14:06:02.701026Z",
     "start_time": "2024-10-27T14:06:01.104056Z"
    }
   },
   "outputs": [],
   "source": [
    "dataset = load_dataset(\"clarin-knext/fiqa-pl\", \"corpus\")"
   ]
  },
  {
   "cell_type": "code",
   "execution_count": 84,
   "id": "4082b982ee3994d2",
   "metadata": {
    "collapsed": false,
    "ExecuteTime": {
     "end_time": "2024-10-27T14:06:04.937077Z",
     "start_time": "2024-10-27T14:06:02.696981Z"
    }
   },
   "outputs": [],
   "source": [
    "df = pd.DataFrame(dataset['corpus'])"
   ]
  },
  {
   "cell_type": "code",
   "execution_count": 85,
   "id": "f77b5927d9308821",
   "metadata": {
    "collapsed": false,
    "ExecuteTime": {
     "end_time": "2024-10-27T14:06:04.951871Z",
     "start_time": "2024-10-27T14:06:04.940264Z"
    }
   },
   "outputs": [],
   "source": [
    "df_text = df['text']"
   ]
  },
  {
   "cell_type": "code",
   "execution_count": 86,
   "id": "78831536f757d17e",
   "metadata": {
    "collapsed": false,
    "ExecuteTime": {
     "end_time": "2024-10-27T14:06:04.976219Z",
     "start_time": "2024-10-27T14:06:04.956138Z"
    }
   },
   "outputs": [
    {
     "data": {
      "text/plain": "          _id title                                               text\n0           3        Nie mówię, że nie podoba mi się też pomysł szk...\n1          31        Tak więc nic nie zapobiega fałszywym ocenom po...\n2          56        Nigdy nie możesz korzystać z FSA dla indywidua...\n3          59        Samsung stworzył LCD i inne technologie płaski...\n4          63        Oto wymagania SEC: Federalne przepisy dotycząc...\n...       ...   ...                                                ...\n57633  599946        >Cóż, po pierwsze, drogi to coś więcej niż hob...\n57634  599953        Tak, robią. Na dotacje dla firm farmaceutyczny...\n57635  599966        >To bardzo smutne, że nie rozumiesz ludzkiej n...\n57636  599975        „Czy Twój CTO pozwolił dużej grupie użyć „„adm...\n57637  599987        Zapewnienie rządowi większej kontroli nad dyst...\n\n[57638 rows x 3 columns]",
      "text/html": "<div>\n<style scoped>\n    .dataframe tbody tr th:only-of-type {\n        vertical-align: middle;\n    }\n\n    .dataframe tbody tr th {\n        vertical-align: top;\n    }\n\n    .dataframe thead th {\n        text-align: right;\n    }\n</style>\n<table border=\"1\" class=\"dataframe\">\n  <thead>\n    <tr style=\"text-align: right;\">\n      <th></th>\n      <th>_id</th>\n      <th>title</th>\n      <th>text</th>\n    </tr>\n  </thead>\n  <tbody>\n    <tr>\n      <th>0</th>\n      <td>3</td>\n      <td></td>\n      <td>Nie mówię, że nie podoba mi się też pomysł szk...</td>\n    </tr>\n    <tr>\n      <th>1</th>\n      <td>31</td>\n      <td></td>\n      <td>Tak więc nic nie zapobiega fałszywym ocenom po...</td>\n    </tr>\n    <tr>\n      <th>2</th>\n      <td>56</td>\n      <td></td>\n      <td>Nigdy nie możesz korzystać z FSA dla indywidua...</td>\n    </tr>\n    <tr>\n      <th>3</th>\n      <td>59</td>\n      <td></td>\n      <td>Samsung stworzył LCD i inne technologie płaski...</td>\n    </tr>\n    <tr>\n      <th>4</th>\n      <td>63</td>\n      <td></td>\n      <td>Oto wymagania SEC: Federalne przepisy dotycząc...</td>\n    </tr>\n    <tr>\n      <th>...</th>\n      <td>...</td>\n      <td>...</td>\n      <td>...</td>\n    </tr>\n    <tr>\n      <th>57633</th>\n      <td>599946</td>\n      <td></td>\n      <td>&gt;Cóż, po pierwsze, drogi to coś więcej niż hob...</td>\n    </tr>\n    <tr>\n      <th>57634</th>\n      <td>599953</td>\n      <td></td>\n      <td>Tak, robią. Na dotacje dla firm farmaceutyczny...</td>\n    </tr>\n    <tr>\n      <th>57635</th>\n      <td>599966</td>\n      <td></td>\n      <td>&gt;To bardzo smutne, że nie rozumiesz ludzkiej n...</td>\n    </tr>\n    <tr>\n      <th>57636</th>\n      <td>599975</td>\n      <td></td>\n      <td>„Czy Twój CTO pozwolił dużej grupie użyć „„adm...</td>\n    </tr>\n    <tr>\n      <th>57637</th>\n      <td>599987</td>\n      <td></td>\n      <td>Zapewnienie rządowi większej kontroli nad dyst...</td>\n    </tr>\n  </tbody>\n</table>\n<p>57638 rows × 3 columns</p>\n</div>"
     },
     "execution_count": 86,
     "metadata": {},
     "output_type": "execute_result"
    }
   ],
   "source": [
    "df"
   ]
  },
  {
   "cell_type": "code",
   "execution_count": 87,
   "id": "8c7448e5be5b85ae",
   "metadata": {
    "collapsed": false,
    "ExecuteTime": {
     "end_time": "2024-10-27T14:06:04.976948Z",
     "start_time": "2024-10-27T14:06:04.964983Z"
    }
   },
   "outputs": [],
   "source": [
    "df_text = df['text']"
   ]
  },
  {
   "cell_type": "markdown",
   "id": "6b41d7489c3c5242",
   "metadata": {
    "collapsed": false
   },
   "source": [
    "Loading data to the indexes"
   ]
  },
  {
   "cell_type": "code",
   "execution_count": 88,
   "id": "f995aded815362d2",
   "metadata": {
    "collapsed": false,
    "ExecuteTime": {
     "end_time": "2024-10-27T14:14:14.669152Z",
     "start_time": "2024-10-27T14:06:04.970869Z"
    }
   },
   "outputs": [],
   "source": [
    "for idx, text in enumerate(df_text):\n",
    "    document = {\n",
    "        \"text\": text,\n",
    "    }\n",
    "    es.index(index=\"synonyms_index\", id=idx, document=document)\n",
    "    es.index(index=\"no_synonyms_index\", id=idx, document=document)"
   ]
  },
  {
   "cell_type": "code",
   "execution_count": 89,
   "id": "f0cfae1b43f69a10",
   "metadata": {
    "collapsed": false,
    "ExecuteTime": {
     "end_time": "2024-10-27T14:14:14.797556Z",
     "start_time": "2024-10-27T14:14:14.680767Z"
    }
   },
   "outputs": [
    {
     "data": {
      "text/plain": "57638"
     },
     "execution_count": 89,
     "metadata": {},
     "output_type": "execute_result"
    }
   ],
   "source": [
    "es.count(index=\"synonyms_index\")['count']"
   ]
  },
  {
   "cell_type": "code",
   "execution_count": 90,
   "id": "82086749ae1d6091",
   "metadata": {
    "collapsed": false,
    "ExecuteTime": {
     "end_time": "2024-10-27T14:14:14.946031Z",
     "start_time": "2024-10-27T14:14:14.787329Z"
    }
   },
   "outputs": [
    {
     "data": {
      "text/plain": "57638"
     },
     "execution_count": 90,
     "metadata": {},
     "output_type": "execute_result"
    }
   ],
   "source": [
    "es.count(index=\"no_synonyms_index\")['count']"
   ]
  },
  {
   "cell_type": "markdown",
   "id": "3c8d54b637f8560b",
   "metadata": {
    "collapsed": false
   },
   "source": [
    "7. Determine the number of documents and the number of matches containing the word `kwiecień` (in any form) including and excluding the synonyms."
   ]
  },
  {
   "cell_type": "markdown",
   "id": "e91fa507d49ea756",
   "metadata": {
    "collapsed": false
   },
   "source": [
    "Including synonyms"
   ]
  },
  {
   "cell_type": "code",
   "execution_count": 91,
   "id": "d8b3dece070fa746",
   "metadata": {
    "collapsed": false,
    "ExecuteTime": {
     "end_time": "2024-10-27T14:14:14.946960Z",
     "start_time": "2024-10-27T14:14:14.858775Z"
    }
   },
   "outputs": [],
   "source": [
    "query_synonyms = {\n",
    "    \"match\": {\n",
    "        \"text\":{\n",
    "            \"query\":\"kwiecień\",\n",
    "            \"analyzer\":\"synonyms_analyzer\"\n",
    "        }\n",
    "    }\n",
    "}"
   ]
  },
  {
   "cell_type": "code",
   "execution_count": 92,
   "outputs": [
    {
     "name": "stdout",
     "output_type": "stream",
     "text": [
      "Got 306 documents for synonyms_index\n"
     ]
    }
   ],
   "source": [
    "result = es.search(index=\"synonyms_index\", query=query_synonyms)\n",
    "print(\"Got\", result['hits']['total']['value'],  \"documents for\" , \"synonyms_index\")"
   ],
   "metadata": {
    "collapsed": false,
    "ExecuteTime": {
     "end_time": "2024-10-27T14:14:14.947590Z",
     "start_time": "2024-10-27T14:14:14.869626Z"
    }
   },
   "id": "f6b36fe1ad305926"
  },
  {
   "cell_type": "markdown",
   "id": "8be5e3b43ab1462a",
   "metadata": {
    "collapsed": false,
    "ExecuteTime": {
     "end_time": "2024-10-27T12:51:25.582039Z",
     "start_time": "2024-10-27T12:51:25.555080Z"
    }
   },
   "source": [
    "Excluding synonyms"
   ]
  },
  {
   "cell_type": "code",
   "execution_count": 93,
   "id": "7f4406cff1d3461e",
   "metadata": {
    "collapsed": false,
    "ExecuteTime": {
     "end_time": "2024-10-27T14:14:14.947782Z",
     "start_time": "2024-10-27T14:14:14.903843Z"
    }
   },
   "outputs": [],
   "source": [
    "query_no_synonyms = {\n",
    "    \"match\": {\n",
    "        \"text\":{\n",
    "            \"query\":\"kwiecień\",\n",
    "            \"analyzer\":\"no_synonyms_analyzer\"\n",
    "        }\n",
    "    }\n",
    "}"
   ]
  },
  {
   "cell_type": "code",
   "execution_count": 94,
   "outputs": [
    {
     "name": "stdout",
     "output_type": "stream",
     "text": [
      "Got 257 documents for no_synonyms_index\n"
     ]
    }
   ],
   "source": [
    "result = es.search(index=\"no_synonyms_index\", query=query_no_synonyms)\n",
    "print(\"Got\", result['hits']['total']['value'],  \"documents for\" , \"no_synonyms_index\")"
   ],
   "metadata": {
    "collapsed": false,
    "ExecuteTime": {
     "end_time": "2024-10-27T14:14:14.950249Z",
     "start_time": "2024-10-27T14:14:14.908795Z"
    }
   },
   "id": "5ee8a5c2e9c8d9ee"
  },
  {
   "cell_type": "markdown",
   "id": "d6f4a2995764adf0",
   "metadata": {
    "collapsed": false,
    "ExecuteTime": {
     "end_time": "2024-10-27T12:26:37.096763Z",
     "start_time": "2024-10-27T12:26:37.061280Z"
    }
   },
   "source": [
    "8.Download the QA pairs for the [FiQA-PL dataset](https://huggingface.co/datasets/clarin-knext/fiqa-pl-qrels)."
   ]
  },
  {
   "cell_type": "code",
   "execution_count": 95,
   "id": "272011d6cfcb9257",
   "metadata": {
    "collapsed": false,
    "ExecuteTime": {
     "end_time": "2024-10-27T14:14:17.558868Z",
     "start_time": "2024-10-27T14:14:14.932296Z"
    }
   },
   "outputs": [],
   "source": [
    "dataset_QA = load_dataset(\"clarin-knext/fiqa-pl-qrels\")\n",
    "dataset_QA_test = dataset_QA['test']\n",
    "df_qa_test = pd.DataFrame(dataset_QA['test'])"
   ]
  },
  {
   "cell_type": "code",
   "execution_count": 96,
   "id": "d86aba63913f97ca",
   "metadata": {
    "collapsed": false,
    "ExecuteTime": {
     "end_time": "2024-10-27T14:14:18.616591Z",
     "start_time": "2024-10-27T14:14:17.563075Z"
    }
   },
   "outputs": [],
   "source": [
    "dataset_queries = datasets.load_dataset(\"clarin-knext/fiqa-pl\", \"queries\")\n",
    "df_queries = pd.DataFrame(dataset_queries['queries'])"
   ]
  },
  {
   "cell_type": "code",
   "execution_count": 97,
   "outputs": [
    {
     "data": {
      "text/plain": "array([    8,    15,    18,    26,    34,    42,    56,    68,    89,\n          90,    94,    98,   104,   106,   109,   475,   503,   504,\n         515,   529,   547,   549,   559,   570,   585,   588,   594,\n         603,   604,   620,   622,   659,   672,   684,   687,   689,\n         691,   699,   701,   715,   721,   744,   750,   753,   766,\n         776,   810,   813,   849,   852,   853,   858,   859,   864,\n         879,   885,   895,   904,   928,   929,   932,   939,   945,\n         957,   988,  1074,  1085,  1090,  1150,  1157,  1159,  1198,\n        1230,  1281,  1284,  1297,  1306,  1309,  1310,  1321,  1322,\n        1391,  1393,  1415,  1416,  1441,  1451,  1469,  1530,  1670,\n        1676,  1736,  1748,  1783,  1812,  1815,  1819,  1824,  1826,\n        1832,  1871,  1877,  1889,  1915,  1920,  1933,  1948,  1994,\n        2010,  2051,  2070,  2075,  2076,  2088,  2108,  2118,  2154,\n        2181,  2183,  2204,  2264,  2296,  2306,  2316,  2318,  2330,\n        2334,  2348,  2376,  2383,  2384,  2385,  2388,  2395,  2398,\n        2399,  2400,  2407,  2416,  2423,  2443,  2445,  2460,  2465,\n        2472,  2486,  2498,  2513,  2516,  2549,  2551,  2568,  2579,\n        2580,  2587,  2589,  2590,  2593,  2598,  2648,  2676,  2685,\n        2695,  2713,  2724,  2737,  2747,  2749,  2790,  2801,  2856,\n        2857,  2880,  2885,  2891,  2895,  2903,  2923,  2964,  2968,\n        2994,  3006,  3008,  3014,  3033,  3039,  3049,  3051,  3067,\n        3085,  3091,  3103,  3115,  3125,  3148,  3149,  3177,  3179,\n        3186,  3189,  3254,  3264,  3357,  3369,  3394,  3404,  3405,\n        3446,  3451,  3453,  3480,  3490,  3500,  3503,  3512,  3528,\n        3530,  3534,  3566,  3569,  3594,  3612,  3615,  3625,  3682,\n        3683,  3694,  3724,  3735,  3759,  3767,  3771,  3781,  3789,\n        3791,  3801,  3822,  3829,  3830,  3837,  3859,  3875,  3888,\n        3909,  3932,  3934,  3995,  4007,  4011,  4019,  4031,  4037,\n        4047,  4071,  4084,  4102,  4103,  4105,  4116,  4125,  4142,\n        4153,  4179,  4188,  4205,  4233,  4265,  4286,  4289,  4306,\n        4312,  4335,  4339,  4394,  4409,  4411,  4414,  4415,  4433,\n        4447,  4464,  4465,  4484,  4499,  4500,  4504,  4514,  4523,\n        4539,  4571,  4600,  4605,  4615,  4640,  4641,  4678,  4681,\n        4700,  4714,  4756,  4767,  4775,  4777,  4785,  4804,  4813,\n        4823,  4827,  4837,  4844,  4845,  4846,  4863,  4865,  4920,\n        4942,  4946,  4955,  4962,  4968,  4981,  4999,  5021,  5030,\n        5045,  5054,  5061,  5064,  5067,  5080,  5083,  5085,  5086,\n        5090,  5125,  5134,  5150,  5155,  5172,  5178,  5185,  5196,\n        5206,  5228,  5231,  5241,  5254,  5255,  5264,  5271,  5331,\n        5343,  5347,  5356,  5369,  5374,  5380,  5402,  5410,  5422,\n        5427,  5460,  5464,  5503,  5505,  5511,  5534,  5549,  5585,\n        5592,  5616,  5620,  5646,  5653,  5683,  5710,  5741,  5763,\n        5782,  5790,  5808,  5853,  5862,  5888,  5903,  5906,  5940,\n        5951,  5970,  5981,  5993,  6002,  6004,  6005,  6009,  6041,\n        6080,  6110,  6121,  6122,  6131,  6133,  6142,  6146,  6199,\n        6219,  6221,  6252,  6262,  6278,  6395,  6410,  6420,  6441,\n        6467,  6468,  6479,  6525,  6554,  6562,  6611,  6612,  6625,\n        6629,  6635,  6644,  6647,  6668,  6679,  6683,  6713,  6715,\n        6746,  6787,  6792,  6800,  6803,  6807,  6814,  6832,  6835,\n        6849,  6862,  6867,  6875,  6890,  6891,  6896,  6901,  6907,\n        6909,  6959,  6985,  7017,  7068,  7071,  7080,  7096,  7098,\n        7105,  7109,  7124,  7141,  7145,  7178,  7188,  7205,  7206,\n        7218,  7221,  7269,  7279,  7295,  7311,  7326,  7329,  7344,\n        7345,  7377,  7431,  7441,  7445,  7448,  7456,  7463,  7467,\n        7484,  7509,  7512,  7513,  7529,  7533,  7534,  7590,  7592,\n        7594,  7622,  7633,  7674,  7700,  7702,  7705,  7734,  7747,\n        7754,  7758,  7801,  7803,  7823,  7876,  7879,  7880,  7911,\n        7925,  7928,  7936,  7992,  8002,  8005,  8013,  8017,  8034,\n        8040,  8072,  8079,  8102,  8116,  8121,  8202,  8230,  8247,\n        8271,  8275,  8296,  8332,  8351,  8378,  8456,  8475,  8507,\n        8512,  8513,  8532,  8537,  8539,  8544,  8592,  8632,  8635,\n        8702,  8779,  8789,  8795,  8832,  8834,  8855,  8874,  8934,\n        8937,  8947,  8959,  8970,  8974,  8982,  9060,  9088,  9108,\n        9115,  9126,  9164,  9174,  9188,  9245,  9275,  9291,  9296,\n        9329,  9332,  9381,  9385,  9391,  9403,  9481,  9487,  9548,\n        9556,  9565,  9598,  9617,  9633,  9643,  9644,  9646,  9668,\n        9701,  9733,  9735,  9737,  9771,  9808,  9824,  9871,  9882,\n        9925,  9929,  9961,  9979, 10034, 10039, 10109, 10122, 10136,\n       10137, 10152, 10183, 10213, 10246, 10267, 10414, 10447, 10462,\n       10482, 10497, 10526, 10547, 10558, 10596, 10601, 10628, 10639,\n       10645, 10674, 10710, 10734, 10792, 10808, 10809, 10812, 10827,\n       10845, 10912, 10932, 10975, 10979, 10994, 11039, 11054, 11088])"
     },
     "execution_count": 97,
     "metadata": {},
     "output_type": "execute_result"
    }
   ],
   "source": [
    "df_qa_test['query-id'].unique()"
   ],
   "metadata": {
    "collapsed": false,
    "ExecuteTime": {
     "end_time": "2024-10-27T14:14:18.633095Z",
     "start_time": "2024-10-27T14:14:18.621235Z"
    }
   },
   "id": "1cd27eddabf4373f"
  },
  {
   "cell_type": "code",
   "execution_count": 98,
   "outputs": [
    {
     "data": {
      "text/plain": "       _id title                                               text\n0        0        Co jest uważane za wydatek służbowy w podróży ...\n1        4        Wydatki służbowe - ubezpieczenie samochodu pod...\n2        5                        Rozpoczęcie nowego biznesu online\n3        6           „Dzień roboczy” i „termin płatności” rachunków\n4        7        Nowy właściciel firmy – Jak działają podatki d...\n...    ...   ...                                                ...\n6643  4102        Jak mogę ustalić, czy moja stopa zwrotu jest „...\n6644  3566        Gdzie mogę kupić akcje, jeśli chcę zainwestowa...\n6645    94        Wykorzystywanie punktów kart kredytowych do op...\n6646  2551        Jak znaleźć tańszą alternatywę dla tradycyjnej...\n6647  2399        Skąd strony internetowe uzyskują informacje o ...\n\n[6648 rows x 3 columns]",
      "text/html": "<div>\n<style scoped>\n    .dataframe tbody tr th:only-of-type {\n        vertical-align: middle;\n    }\n\n    .dataframe tbody tr th {\n        vertical-align: top;\n    }\n\n    .dataframe thead th {\n        text-align: right;\n    }\n</style>\n<table border=\"1\" class=\"dataframe\">\n  <thead>\n    <tr style=\"text-align: right;\">\n      <th></th>\n      <th>_id</th>\n      <th>title</th>\n      <th>text</th>\n    </tr>\n  </thead>\n  <tbody>\n    <tr>\n      <th>0</th>\n      <td>0</td>\n      <td></td>\n      <td>Co jest uważane za wydatek służbowy w podróży ...</td>\n    </tr>\n    <tr>\n      <th>1</th>\n      <td>4</td>\n      <td></td>\n      <td>Wydatki służbowe - ubezpieczenie samochodu pod...</td>\n    </tr>\n    <tr>\n      <th>2</th>\n      <td>5</td>\n      <td></td>\n      <td>Rozpoczęcie nowego biznesu online</td>\n    </tr>\n    <tr>\n      <th>3</th>\n      <td>6</td>\n      <td></td>\n      <td>„Dzień roboczy” i „termin płatności” rachunków</td>\n    </tr>\n    <tr>\n      <th>4</th>\n      <td>7</td>\n      <td></td>\n      <td>Nowy właściciel firmy – Jak działają podatki d...</td>\n    </tr>\n    <tr>\n      <th>...</th>\n      <td>...</td>\n      <td>...</td>\n      <td>...</td>\n    </tr>\n    <tr>\n      <th>6643</th>\n      <td>4102</td>\n      <td></td>\n      <td>Jak mogę ustalić, czy moja stopa zwrotu jest „...</td>\n    </tr>\n    <tr>\n      <th>6644</th>\n      <td>3566</td>\n      <td></td>\n      <td>Gdzie mogę kupić akcje, jeśli chcę zainwestowa...</td>\n    </tr>\n    <tr>\n      <th>6645</th>\n      <td>94</td>\n      <td></td>\n      <td>Wykorzystywanie punktów kart kredytowych do op...</td>\n    </tr>\n    <tr>\n      <th>6646</th>\n      <td>2551</td>\n      <td></td>\n      <td>Jak znaleźć tańszą alternatywę dla tradycyjnej...</td>\n    </tr>\n    <tr>\n      <th>6647</th>\n      <td>2399</td>\n      <td></td>\n      <td>Skąd strony internetowe uzyskują informacje o ...</td>\n    </tr>\n  </tbody>\n</table>\n<p>6648 rows × 3 columns</p>\n</div>"
     },
     "execution_count": 98,
     "metadata": {},
     "output_type": "execute_result"
    }
   ],
   "source": [
    "df_queries"
   ],
   "metadata": {
    "collapsed": false,
    "ExecuteTime": {
     "end_time": "2024-10-27T14:14:18.670850Z",
     "start_time": "2024-10-27T14:14:18.639018Z"
    }
   },
   "id": "6f53ce3926adce4e"
  },
  {
   "cell_type": "markdown",
   "id": "241dafb32dd48707",
   "metadata": {
    "collapsed": false,
    "ExecuteTime": {
     "start_time": "2024-10-27T12:26:37.081836Z"
    }
   },
   "source": [
    "9.Compute NDCG@5 for the QA dataset (the test subset) for the following setusp:\n",
    "   * synonyms enabled and disabled,\n",
    "   * lemmatization in the query enabled and disabled."
   ]
  },
  {
   "cell_type": "code",
   "execution_count": 99,
   "id": "b328f46ff2c50bd3",
   "metadata": {
    "collapsed": false,
    "ExecuteTime": {
     "end_time": "2024-10-27T14:14:18.671226Z",
     "start_time": "2024-10-27T14:14:18.647869Z"
    }
   },
   "outputs": [],
   "source": [
    "K = 5\n",
    "\n",
    "def calc_ndcg_k(scores):\n",
    "    if len(scores) != K : Exception(\"Invalid scores arr size, != 5\")\n",
    "    dcg = np.sum(scores / np.log2(np.arange(2, len(scores) + 2)))\n",
    "    idcg = np.sum(sorted(scores, reverse=True) / np.log2(np.arange(2, len(scores) + 2)))\n",
    "    ndcg = dcg / idcg if idcg > 0 else 0.0\n",
    "    return ndcg\n",
    "\n",
    "df_queries_text = df_queries['text']\n",
    "arr = np.array([0.0 for i in range(K)])\n",
    "tmp = set()"
   ]
  },
  {
   "cell_type": "code",
   "execution_count": 100,
   "outputs": [],
   "source": [
    "es_synonyms = {\n",
    "        \"match\": {\n",
    "            \"text\":{\n",
    "                \"query\":\"To fill up\",\n",
    "                \"analyzer\":\"synonyms_analyzer\"\n",
    "            }\n",
    "        }\n",
    "    }\n",
    "\n",
    "es_no_lemmatizaion = {\n",
    "        \"match\": {\n",
    "            \"text\":{\n",
    "                \"query\":\"To fill up\",\n",
    "                \"analyzer\":\"standard\"\n",
    "            }\n",
    "        }\n",
    "    }\n",
    "\n",
    "es_no_synonyms = {\n",
    "        \"match\": {\n",
    "            \"text\":{\n",
    "                \"query\":\"To fill up\",\n",
    "                \"analyzer\":\"no_synonyms_analyzer\"\n",
    "            }\n",
    "        }\n",
    "    }"
   ],
   "metadata": {
    "collapsed": false,
    "ExecuteTime": {
     "end_time": "2024-10-27T14:14:18.671462Z",
     "start_time": "2024-10-27T14:14:18.653866Z"
    }
   },
   "id": "bc9eb3c974e4fcd7"
  },
  {
   "cell_type": "markdown",
   "source": [
    "Synonyms Enabled"
   ],
   "metadata": {
    "collapsed": false,
    "ExecuteTime": {
     "start_time": "2024-10-27T12:26:37.092434Z"
    }
   },
   "id": "36aa18ceda563985"
  },
  {
   "cell_type": "code",
   "execution_count": 101,
   "outputs": [],
   "source": [
    "ndcg = 0\n",
    "iterator = 0\n",
    "\n",
    "for query_id in df_qa_test['query-id'].unique():\n",
    "    query = df_queries[df_queries['_id'] == str(query_id)].iloc[0]['text']\n",
    "    es_synonyms['match']['text']['query'] = query\n",
    "    resp = es.search(index=\"synonyms_index\", query=es_synonyms)\n",
    "    corpus_ids = df_qa_test[df_qa_test['query-id'] == query_id]['corpus-id']\n",
    "    \n",
    "    tmp = set()\n",
    "    for idx in corpus_ids:\n",
    "        _id = df[df['_id'] == str(idx)].index.tolist()[0]\n",
    "        tmp.add(_id)\n",
    "        \n",
    "    for idx, val in enumerate(resp['hits']['hits'][:K]):\n",
    "        _id = np.float64(val['_id'])\n",
    "        if _id in tmp:\n",
    "            arr[idx] = 3\n",
    "        else:\n",
    "            arr[idx] = 0\n",
    "    ndcg += calc_ndcg_k(arr)\n",
    "    iterator += 1"
   ],
   "metadata": {
    "collapsed": false,
    "ExecuteTime": {
     "end_time": "2024-10-27T14:14:34.321363Z",
     "start_time": "2024-10-27T14:14:18.665607Z"
    }
   },
   "id": "c7774ef1a4aad41d"
  },
  {
   "cell_type": "code",
   "execution_count": 102,
   "outputs": [
    {
     "name": "stdout",
     "output_type": "stream",
     "text": [
      "NDCG for synonyms is: 0.2669137178379146\n"
     ]
    }
   ],
   "source": [
    "mean_ndcg = ndcg / iterator\n",
    "print(\"NDCG for synonyms is:\", mean_ndcg)"
   ],
   "metadata": {
    "collapsed": false,
    "ExecuteTime": {
     "end_time": "2024-10-27T14:14:34.337807Z",
     "start_time": "2024-10-27T14:14:34.324499Z"
    }
   },
   "id": "3e290bac08e7bc20"
  },
  {
   "cell_type": "markdown",
   "source": [
    "Synonyms Disabled"
   ],
   "metadata": {
    "collapsed": false,
    "ExecuteTime": {
     "end_time": "2024-10-27T12:26:37.223157Z",
     "start_time": "2024-10-27T12:26:37.098878Z"
    }
   },
   "id": "7f6544faae53b079"
  },
  {
   "cell_type": "code",
   "execution_count": 103,
   "outputs": [],
   "source": [
    "ndcg = 0\n",
    "iterator = 0\n",
    "\n",
    "for query_id in df_qa_test['query-id'].unique():\n",
    "    query = df_queries[df_queries['_id'] == str(query_id)].iloc[0]['text']\n",
    "    es_no_synonyms['match']['text']['query'] = query\n",
    "    resp = es.search(index=\"no_synonyms_index\", query=es_no_synonyms)\n",
    "    corpus_ids = df_qa_test[df_qa_test['query-id'] == query_id]['corpus-id']\n",
    "    \n",
    "    tmp = set()\n",
    "    for idx in corpus_ids:\n",
    "        _id = df[df['_id'] == str(idx)].index.tolist()[0]\n",
    "        tmp.add(_id)\n",
    "        \n",
    "    for idx, val in enumerate(resp['hits']['hits'][:K]):\n",
    "        _id = np.float64(val['_id'])\n",
    "        if _id in tmp:\n",
    "            arr[idx] = 3\n",
    "        else:\n",
    "            arr[idx] = 0\n",
    "    ndcg += calc_ndcg_k(arr)\n",
    "    iterator += 1"
   ],
   "metadata": {
    "collapsed": false,
    "ExecuteTime": {
     "end_time": "2024-10-27T14:14:47.738752Z",
     "start_time": "2024-10-27T14:14:34.334183Z"
    }
   },
   "id": "4bf235f40263141c"
  },
  {
   "cell_type": "code",
   "execution_count": 104,
   "outputs": [
    {
     "name": "stdout",
     "output_type": "stream",
     "text": [
      "NDCG for no synonyms is: 0.2657322972429152\n"
     ]
    }
   ],
   "source": [
    "mean_ndcg = ndcg / iterator\n",
    "print(\"NDCG for no synonyms is:\", mean_ndcg)"
   ],
   "metadata": {
    "collapsed": false,
    "ExecuteTime": {
     "end_time": "2024-10-27T14:14:47.756365Z",
     "start_time": "2024-10-27T14:14:47.740628Z"
    }
   },
   "id": "4a97c201485697a5"
  },
  {
   "cell_type": "markdown",
   "source": [
    "No Lemmatization"
   ],
   "metadata": {
    "collapsed": false,
    "ExecuteTime": {
     "start_time": "2024-10-27T12:26:37.103587Z"
    }
   },
   "id": "83e597649fa86fe8"
  },
  {
   "cell_type": "code",
   "execution_count": 105,
   "outputs": [],
   "source": [
    "no_lemmatization_mappings = {\n",
    "    \"properties\": {\n",
    "        \"text\": {\n",
    "            \"type\": \"text\",\n",
    "            \"analyzer\": \"standard\"\n",
    "        }\n",
    "    }\n",
    "}"
   ],
   "metadata": {
    "collapsed": false,
    "ExecuteTime": {
     "end_time": "2024-10-27T14:14:47.756570Z",
     "start_time": "2024-10-27T14:14:47.747394Z"
    }
   },
   "id": "2f2fb48e861eb4fa"
  },
  {
   "cell_type": "code",
   "execution_count": 106,
   "outputs": [
    {
     "data": {
      "text/plain": "ObjectApiResponse({'acknowledged': True, 'shards_acknowledged': True, 'index': 'no_lemmatization_index'})"
     },
     "execution_count": 106,
     "metadata": {},
     "output_type": "execute_result"
    }
   ],
   "source": [
    "# es.indices.delete(index=\"no_lemmatization_index\")\n",
    "es.indices.create(index=\"no_lemmatization_index\", mappings=no_lemmatization_mappings)"
   ],
   "metadata": {
    "collapsed": false,
    "ExecuteTime": {
     "end_time": "2024-10-27T14:14:48.030546Z",
     "start_time": "2024-10-27T14:14:47.753807Z"
    }
   },
   "id": "33a4ec4f9447c6c8"
  },
  {
   "cell_type": "code",
   "execution_count": 107,
   "outputs": [],
   "source": [
    "for idx, text in enumerate(df_text):\n",
    "    document = {\n",
    "        \"text\": text,\n",
    "    }\n",
    "    es.index(index=\"no_lemmatization_index\", id=idx, document=document)"
   ],
   "metadata": {
    "collapsed": false,
    "ExecuteTime": {
     "end_time": "2024-10-27T14:18:28.900350Z",
     "start_time": "2024-10-27T14:14:48.032807Z"
    }
   },
   "id": "8abdf7b6648ddb95"
  },
  {
   "cell_type": "code",
   "execution_count": 108,
   "outputs": [
    {
     "data": {
      "text/plain": "57638"
     },
     "execution_count": 108,
     "metadata": {},
     "output_type": "execute_result"
    }
   ],
   "source": [
    "es.count(index=\"no_lemmatization_index\")['count']"
   ],
   "metadata": {
    "collapsed": false,
    "ExecuteTime": {
     "end_time": "2024-10-27T14:18:29.330163Z",
     "start_time": "2024-10-27T14:18:28.904090Z"
    }
   },
   "id": "2e156c2590f8f521"
  },
  {
   "cell_type": "code",
   "execution_count": 109,
   "outputs": [],
   "source": [
    "ndcg = 0\n",
    "iterator = 0\n",
    "\n",
    "for query_id in df_qa_test['query-id'].unique():\n",
    "    query = df_queries[df_queries['_id'] == str(query_id)].iloc[0]['text']\n",
    "    es_no_lemmatizaion['match']['text']['query'] = query\n",
    "    resp = es.search(index=\"no_lemmatization_index\", query=es_no_lemmatizaion)\n",
    "    corpus_ids = df_qa_test[df_qa_test['query-id'] == query_id]['corpus-id']\n",
    "    \n",
    "    tmp = set()\n",
    "    for idx in corpus_ids:\n",
    "        _id = df[df['_id'] == str(idx)].index.tolist()[0]\n",
    "        tmp.add(_id)\n",
    "        \n",
    "    for idx, val in enumerate(resp['hits']['hits'][:K]):\n",
    "        _id = np.float64(val['_id'])\n",
    "        if _id in tmp:\n",
    "            arr[idx] = 3\n",
    "        else:\n",
    "            arr[idx] = 0\n",
    "    ndcg += calc_ndcg_k(arr)\n",
    "    iterator += 1"
   ],
   "metadata": {
    "collapsed": false,
    "ExecuteTime": {
     "end_time": "2024-10-27T14:18:42.153719Z",
     "start_time": "2024-10-27T14:18:29.361376Z"
    }
   },
   "id": "8a4f3fdc1a773733"
  },
  {
   "cell_type": "code",
   "execution_count": 110,
   "outputs": [
    {
     "name": "stdout",
     "output_type": "stream",
     "text": [
      "NDCG for no lemmatization is: 0.207829023930387\n"
     ]
    }
   ],
   "source": [
    "mean_ndcg = ndcg / iterator\n",
    "print(\"NDCG for no lemmatization is:\", mean_ndcg)"
   ],
   "metadata": {
    "collapsed": false,
    "ExecuteTime": {
     "end_time": "2024-10-27T14:18:42.170373Z",
     "start_time": "2024-10-27T14:18:42.156738Z"
    }
   },
   "id": "ee0cf4e0c1f399a9"
  },
  {
   "cell_type": "markdown",
   "source": [
    "The NDCG results show that enabling synonyms slightly improves search relevance compared to disabling them, with the score increasing from 0.2657 to 0.2669. \n",
    "The much lower NDCG score for no lemmatization\" which is 0.2078 indicates that lemmatization significantly impacts relevance. Both synonyms and lemmatization improve search effectiveness, with lemmatization having an especially strong influence."
   ],
   "metadata": {
    "collapsed": false
   },
   "id": "16ae07b7da7407f7"
  },
  {
   "cell_type": "markdown",
   "source": [
    "Answer the following questions (2 points):\n",
    "1. What are the strengths and weaknesses of regular expressions versus full text search regarding processing of text?\n",
    "Regex is good for precise pattern matching, like identifying specific structures in text, but it’s complex, resource-heavy, and lacks relevance ranking. Full text search is more scalable, ranks results by relevance, and supports broader, fuzzier searches, but it can't handle detailed patterns like regex.\n",
    "\n",
    "2. Can an LLM be applied in the context of searching for documents? Justify your answer, excluding the obvious observation that an LLM can be used to formulate the answer.\n",
    "LLM improve searches by understanding the meaning behind queries, retrieving relevant results even when keywords don't match exactly. They’re especially good with complex queries and summarizing information, but they require a lot of computing power and might need fine-tuning for specific fields. Overall, LLMs boost search precision with context-aware results."
   ],
   "metadata": {
    "collapsed": false,
    "ExecuteTime": {
     "start_time": "2024-10-27T12:26:37.116267Z"
    }
   },
   "id": "b851ae9db9d780d9"
  },
  {
   "cell_type": "markdown",
   "id": "a49b1086ab357f7e",
   "metadata": {
    "ExecuteTime": {
     "start_time": "2024-10-23T21:45:55.583335Z"
    },
    "collapsed": false
   },
   "source": [
    "## Hints\n",
    "\n",
    "1. Full text search engines were developed for storing and searching textual data.\n",
    "1. The most popular FTSes are SOLR and ElasticSearch (ES).\n",
    "1. Some relational databases support full text search, but usually it is limited and not easy to adapt.\n",
    "1. Both for SOLR and ES there are plugins supporting Polish.\n",
    "1. FTSes use *inverted-index* to store the data. At loading time the text is split by *tokenizer* into \n",
    "   *tokens* and individual tokens go through *filters*. The resulting tokens are placed as keys in a hash-like\n",
    "   structure. The values are so called *posting lists*, containing pointers to the documents where the tokens come from.\n",
    "1. The minimal FTS configuration requires two elements: a tokenizer and a set of filters (the set might be empty in the extreme\n",
    "   case). **Changing the configuration of an index does not result in the new definitions being applied to the already\n",
    "   stored documents.** In such cases the index has to be *rebuilt*, meaning that the documents have to be loaded once\n",
    "   again.\n",
    "1. FTSes contain a large number of tokenizers, e.g. they may know semantics of HTML documents and treat HTML tags as\n",
    "   tokens. Some popular tokenizers include:\n",
    "   1. *standard tokenizer* - based on the Unicode tokenization rules,\n",
    "   1. *whitespace tokenizer* - which splits the tokens by white spaces,\n",
    "   1. *url tokenizer* - which keeps the URLs as indivisible tokens.\n",
    "1. Some tokens such as commas and full stops might be removed at the stage of filtering. Filtering of common tokens reduces the index size.\n",
    "1. Some popular filters include:\n",
    "   1. *lowercase filter* - which downcases the letters,\n",
    "   1. *ASCII folding filter* - which removes Polish diacritics,\n",
    "   1. *stop token filter* - which removes the specified tokens (described above),\n",
    "   1. *lematizers* - which find the base form of a word,\n",
    "   1. etc. (present implementation of ES has more than 50 filters)\n",
    "1. **Lemmatization** is a process when the inflected form of a word is replaced with its base form, e.g\n",
    "   the form *psu* is replaced with *pies*. You should notice that there are many ambiguous forms, e.g.\n",
    "   *goli* can have the following base forms: *golić*, *gol* and *goły*. To overcome the ambiguity, FTSes \n",
    "   take very pragmatic approach - for a given inflected form all possible base forms are put in the index.\n",
    "   Even though it's not valid from the linguistics' point of view, it works well in practice.\n",
    "1. [Term vector API](https://www.elastic.co/guide/en/elasticsearch/reference/current/docs-termvectors.html) allows to retrieve useful \n",
    "   statistics of a given term in a particular document or in the whole document collection.\n",
    "1. Polish retrieval models comparison is available at :https://huggingface.co/spaces/sdadas/pirb\n",
    "2. In the `elastic` directory there's a basic configuration for runnig ElasticSearch with `docker compose`:\n",
    "   1. You can use the `docker-compose.yml` configuration - it will start ES with the morfologik plugin installed.\n",
    "   2. You can also modify the `Dockerfile` configuration and run it locally.\n",
    "   3. In the `query.sh` file there's a check for ES showing if it is possible to connect to the instance using `curl`. \n",
    "   4. The correct output from curl is `[]` meaning there aren't any indices defined."
   ]
  },
  {
   "cell_type": "code",
   "execution_count": 110,
   "id": "b5e21926d3875261",
   "metadata": {
    "collapsed": false,
    "ExecuteTime": {
     "end_time": "2024-10-27T14:18:42.170592Z",
     "start_time": "2024-10-27T14:18:42.161464Z"
    }
   },
   "outputs": [],
   "source": []
  }
 ],
 "metadata": {
  "kernelspec": {
   "display_name": "Python 3 (ipykernel)",
   "language": "python",
   "name": "python3"
  },
  "language_info": {
   "codemirror_mode": {
    "name": "ipython",
    "version": 3
   },
   "file_extension": ".py",
   "mimetype": "text/x-python",
   "name": "python",
   "nbconvert_exporter": "python",
   "pygments_lexer": "ipython3",
   "version": "3.10.11"
  }
 },
 "nbformat": 4,
 "nbformat_minor": 5
}
