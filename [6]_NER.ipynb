{
 "cells": [
  {
   "cell_type": "markdown",
   "id": "e98c13c5e0713090",
   "metadata": {
    "collapsed": false
   },
   "source": [
    "# Named entity recognition\n",
    "\n",
    "The exercise shows how we may extract elements such as names of companies, countries and similar objects from text."
   ]
  },
  {
   "cell_type": "markdown",
   "id": "3fbf389a4f7a526",
   "metadata": {
    "collapsed": false
   },
   "source": [
    "## Tasks\n",
    "\n",
    "Objectives (8 points):"
   ]
  },
  {
   "cell_type": "markdown",
   "id": "4ec844b21527cee9",
   "metadata": {
    "collapsed": false
   },
   "source": [
    "Imports"
   ]
  },
  {
   "cell_type": "code",
   "execution_count": 1,
   "id": "f27b73fdf49579ed",
   "metadata": {
    "ExecuteTime": {
     "end_time": "2024-11-28T15:56:52.877130Z",
     "start_time": "2024-11-28T15:56:43.597925Z"
    },
    "collapsed": false
   },
   "outputs": [],
   "source": [
    "import datasets\n",
    "import pandas as pd\n",
    "import spacy\n",
    "from spacy import displacy\n",
    "from tqdm import tqdm\n",
    "from collections import Counter\n",
    "import matplotlib.pyplot as plt"
   ]
  },
  {
   "cell_type": "markdown",
   "id": "7294d3f91e54f11",
   "metadata": {
    "collapsed": false
   },
   "source": [
    "1. Read the API of [NER](https://spacy.io/api/entityrecognizer) in Spacy\n",
    "2. Take 1 thousand random passages from the FIQA-PL corpus."
   ]
  },
  {
   "cell_type": "code",
   "execution_count": 2,
   "id": "f148f961284a1bd9",
   "metadata": {
    "ExecuteTime": {
     "end_time": "2024-11-28T15:56:58.256542Z",
     "start_time": "2024-11-28T15:56:55.269443Z"
    },
    "collapsed": false
   },
   "outputs": [],
   "source": [
    "data = datasets.load_dataset(\"clarin-knext/fiqa-pl\", \"corpus\", split=\"corpus\") "
   ]
  },
  {
   "cell_type": "code",
   "execution_count": 3,
   "id": "6f6caaac4b42cbd5",
   "metadata": {
    "ExecuteTime": {
     "end_time": "2024-11-28T15:56:59.293307Z",
     "start_time": "2024-11-28T15:56:59.226144Z"
    },
    "collapsed": false
   },
   "outputs": [
    {
     "data": {
      "text/plain": [
       "Dataset({\n",
       "    features: ['_id', 'title', 'text'],\n",
       "    num_rows: 57638\n",
       "})"
      ]
     },
     "execution_count": 3,
     "metadata": {},
     "output_type": "execute_result"
    }
   ],
   "source": [
    "data"
   ]
  },
  {
   "cell_type": "code",
   "execution_count": 4,
   "id": "2e8c2f8a9cad58b6",
   "metadata": {
    "ExecuteTime": {
     "end_time": "2024-11-28T15:57:04.319472Z",
     "start_time": "2024-11-28T15:57:00.131158Z"
    },
    "collapsed": false
   },
   "outputs": [],
   "source": [
    "df = pd.DataFrame(data).sample(n=1000)"
   ]
  },
  {
   "cell_type": "code",
   "execution_count": 5,
   "id": "d87ff53663e730d3",
   "metadata": {
    "ExecuteTime": {
     "end_time": "2024-11-28T15:57:04.361738Z",
     "start_time": "2024-11-28T15:57:04.328796Z"
    },
    "collapsed": false
   },
   "outputs": [
    {
     "data": {
      "text/html": [
       "<div>\n",
       "<style scoped>\n",
       "    .dataframe tbody tr th:only-of-type {\n",
       "        vertical-align: middle;\n",
       "    }\n",
       "\n",
       "    .dataframe tbody tr th {\n",
       "        vertical-align: top;\n",
       "    }\n",
       "\n",
       "    .dataframe thead th {\n",
       "        text-align: right;\n",
       "    }\n",
       "</style>\n",
       "<table border=\"1\" class=\"dataframe\">\n",
       "  <thead>\n",
       "    <tr style=\"text-align: right;\">\n",
       "      <th></th>\n",
       "      <th>_id</th>\n",
       "      <th>title</th>\n",
       "      <th>text</th>\n",
       "    </tr>\n",
       "  </thead>\n",
       "  <tbody>\n",
       "    <tr>\n",
       "      <th>1929</th>\n",
       "      <td>20102</td>\n",
       "      <td></td>\n",
       "      <td>&gt;Ci ludzie są utrzymywani poniżej standardu ży...</td>\n",
       "    </tr>\n",
       "    <tr>\n",
       "      <th>24062</th>\n",
       "      <td>249273</td>\n",
       "      <td></td>\n",
       "      <td>Dow Jones jest bezsensownym indeksem, o którym...</td>\n",
       "    </tr>\n",
       "    <tr>\n",
       "      <th>40599</th>\n",
       "      <td>422783</td>\n",
       "      <td></td>\n",
       "      <td>&gt; Myślę, że on myśli, że nie może być rasistow...</td>\n",
       "    </tr>\n",
       "    <tr>\n",
       "      <th>1549</th>\n",
       "      <td>16270</td>\n",
       "      <td></td>\n",
       "      <td>W Houston w Teksasie w USA, gdzie chodziłem do...</td>\n",
       "    </tr>\n",
       "    <tr>\n",
       "      <th>24648</th>\n",
       "      <td>255096</td>\n",
       "      <td></td>\n",
       "      <td>Uber musi być pierwszym, który stworzy flotę t...</td>\n",
       "    </tr>\n",
       "    <tr>\n",
       "      <th>...</th>\n",
       "      <td>...</td>\n",
       "      <td>...</td>\n",
       "      <td>...</td>\n",
       "    </tr>\n",
       "    <tr>\n",
       "      <th>6957</th>\n",
       "      <td>71692</td>\n",
       "      <td></td>\n",
       "      <td>„Przepraszam, nie. Nie lubię słyszeć, że różni...</td>\n",
       "    </tr>\n",
       "    <tr>\n",
       "      <th>39809</th>\n",
       "      <td>414284</td>\n",
       "      <td></td>\n",
       "      <td>„Ogólnie rzecz biorąc, przestrzeganie instrukc...</td>\n",
       "    </tr>\n",
       "    <tr>\n",
       "      <th>34124</th>\n",
       "      <td>354058</td>\n",
       "      <td></td>\n",
       "      <td>nie, to tylko problem ze związkiem policyjnym....</td>\n",
       "    </tr>\n",
       "    <tr>\n",
       "      <th>18914</th>\n",
       "      <td>196385</td>\n",
       "      <td></td>\n",
       "      <td>Samochód stworzył mnóstwo miejsc pracy. Widzie...</td>\n",
       "    </tr>\n",
       "    <tr>\n",
       "      <th>56520</th>\n",
       "      <td>588242</td>\n",
       "      <td></td>\n",
       "      <td>Nie tyle akcja, co towar. Eter jest w rzeczywi...</td>\n",
       "    </tr>\n",
       "  </tbody>\n",
       "</table>\n",
       "<p>1000 rows × 3 columns</p>\n",
       "</div>"
      ],
      "text/plain": [
       "          _id title                                               text\n",
       "1929    20102        >Ci ludzie są utrzymywani poniżej standardu ży...\n",
       "24062  249273        Dow Jones jest bezsensownym indeksem, o którym...\n",
       "40599  422783        > Myślę, że on myśli, że nie może być rasistow...\n",
       "1549    16270        W Houston w Teksasie w USA, gdzie chodziłem do...\n",
       "24648  255096        Uber musi być pierwszym, który stworzy flotę t...\n",
       "...       ...   ...                                                ...\n",
       "6957    71692        „Przepraszam, nie. Nie lubię słyszeć, że różni...\n",
       "39809  414284        „Ogólnie rzecz biorąc, przestrzeganie instrukc...\n",
       "34124  354058        nie, to tylko problem ze związkiem policyjnym....\n",
       "18914  196385        Samochód stworzył mnóstwo miejsc pracy. Widzie...\n",
       "56520  588242        Nie tyle akcja, co towar. Eter jest w rzeczywi...\n",
       "\n",
       "[1000 rows x 3 columns]"
      ]
     },
     "execution_count": 5,
     "metadata": {},
     "output_type": "execute_result"
    }
   ],
   "source": [
    "df"
   ]
  },
  {
   "cell_type": "markdown",
   "id": "d60e56b7f203c9c3",
   "metadata": {
    "collapsed": false
   },
   "source": [
    "3. Use the lemmatized and sentence split documents (using SpaCy API for [lemmatization](https://spacy.io/api/lemmatizer) and [sentence splitting](https://spacy.io/api/sentencizer)) to identify the expressions that consist of consecutive\n",
    "   words starting with a capital letter (you will have to look at the inflected form of the word to check its\n",
    "   capitalization) that do not occupy the first position in a sentence. E.g. the sentence:\n",
    "   ```\n",
    "   Wczoraj w Krakowie miało miejsce spotkanie prezydentów Polski i Stanów Zjednoczonych.\n",
    "   ```\n",
    "   should yield the following entries: `Kraków`, `Polska`, `Stan Zjednoczony`."
   ]
  },
  {
   "cell_type": "code",
   "execution_count": 6,
   "id": "dae95b3efa9f7622",
   "metadata": {
    "ExecuteTime": {
     "end_time": "2024-11-28T15:57:08.115502Z",
     "start_time": "2024-11-28T15:57:06.772312Z"
    },
    "collapsed": false
   },
   "outputs": [],
   "source": [
    "nlp = spacy.load(\"pl_core_news_sm\")"
   ]
  },
  {
   "cell_type": "code",
   "execution_count": 7,
   "id": "a650606c26708f22",
   "metadata": {
    "ExecuteTime": {
     "end_time": "2024-11-28T15:57:08.838256Z",
     "start_time": "2024-11-28T15:57:08.810730Z"
    },
    "collapsed": false
   },
   "outputs": [],
   "source": [
    "def getConsecutiveWords(text):\n",
    "    tokens = []\n",
    "    tmp = \"\"\n",
    "    doc = nlp(text)\n",
    "\n",
    "    for sentence in doc.sents:\n",
    "        for idx, token in enumerate(sentence):\n",
    "            if idx != 0: \n",
    "                if token.text[0] == token.text[0].upper() and token.text[0].isalpha():\n",
    "                    lemma = token.lemma_\n",
    "                    lemma = lemma[0].upper() + lemma[1:]\n",
    "                    if len(tmp) > 0:\n",
    "                        tmp += \" \" \n",
    "                    tmp += lemma\n",
    "                elif len(tmp) > 0:\n",
    "                    tokens.append(tmp)\n",
    "                    tmp = \"\"\n",
    "                    \n",
    "    return tokens"
   ]
  },
  {
   "cell_type": "code",
   "execution_count": 9,
   "id": "8004916b69385ad1",
   "metadata": {
    "ExecuteTime": {
     "end_time": "2024-11-28T15:57:19.519330Z",
     "start_time": "2024-11-28T15:57:19.452817Z"
    },
    "collapsed": false
   },
   "outputs": [
    {
     "name": "stdout",
     "output_type": "stream",
     "text": [
      "['Kraków', 'Polska', 'Stany Zjednoczone']\n"
     ]
    }
   ],
   "source": [
    "text = (\"Wczoraj w Krakowie miało miejsce spotkanie prezydentów Polski i Stanów Zjednoczonych. \")\n",
    "print(getConsecutiveWords(text))"
   ]
  },
  {
   "cell_type": "code",
   "execution_count": 10,
   "id": "156899e88c6075d2",
   "metadata": {
    "ExecuteTime": {
     "end_time": "2024-11-28T15:57:21.296266Z",
     "start_time": "2024-11-28T15:57:21.228661Z"
    },
    "collapsed": false
   },
   "outputs": [
    {
     "name": "stdout",
     "output_type": "stream",
     "text": [
      "Token: Stany, Lemmatized: Stany, POS: PROPN\n",
      "Token: Zjednoczone, Lemmatized: Zjednoczone, POS: ADJ\n",
      "Token: to, Lemmatized: to, POS: AUX\n",
      "Token: kraj, Lemmatized: kraj, POS: NOUN\n",
      "Token: w, Lemmatized: w, POS: ADP\n",
      "Token: Ameryce, Lemmatized: Ameryka, POS: PROPN\n",
      "Token: Północnej, Lemmatized: północny, POS: ADJ\n",
      "Token: ., Lemmatized: ., POS: PUNCT\n"
     ]
    }
   ],
   "source": [
    "text = \"Stany Zjednoczone to kraj w Ameryce Północnej.\"\n",
    "doc = nlp(text)\n",
    "\n",
    "for token in doc:\n",
    "    print(f\"Token: {token.text}, Lemmatized: {token.lemma_}, POS: {token.pos_}\")"
   ]
  },
  {
   "cell_type": "code",
   "execution_count": 11,
   "id": "bf31d63177e63a48",
   "metadata": {
    "ExecuteTime": {
     "end_time": "2024-11-28T15:57:29.401996Z",
     "start_time": "2024-11-28T15:57:29.372495Z"
    },
    "collapsed": false
   },
   "outputs": [
    {
     "name": "stdout",
     "output_type": "stream",
     "text": [
      "Stan Zjednoczony\n"
     ]
    }
   ],
   "source": [
    "corrections = {\n",
    "    \"Stany Zjednoczone\": \"Stan Zjednoczony\"\n",
    "}\n",
    "\n",
    "def lemmatize_with_corrections(phrase):\n",
    "    if phrase in corrections:\n",
    "        return corrections[phrase]\n",
    "    doc = nlp(phrase)\n",
    "    lemmatized_tokens = [token.lemma_ for token in doc if token.is_alpha]\n",
    "    return \" \".join(lemmatized_tokens)\n",
    "\n",
    "print(lemmatize_with_corrections(\"Stany Zjednoczone\"))"
   ]
  },
  {
   "cell_type": "markdown",
   "id": "f3789d9b6cb2b519",
   "metadata": {
    "collapsed": false
   },
   "source": [
    "The issue with the phrase \"Stany Zjednoczone\" in pl_core_news_sm arises because the model does not correctly lemmatize plural forms into singular forms for multi-word expressions. For example, \"Stany\" remains \"Stany\" instead of \"Stan,\" and \"Zjednoczone\" remains \"Zjednoczone\" instead of \"Zjednoczony.\"\n",
    "\n",
    "To address this, I implemented a correction mechanism using a dictionary of exceptions (corrections) to manually map problematic plural phrases to their singular equivalents (e.g., \"Stany Zjednoczone\" -> \"Stan Zjednoczony\"). "
   ]
  },
  {
   "cell_type": "markdown",
   "id": "90a2e70f80b0a07",
   "metadata": {
    "collapsed": false
   },
   "source": [
    "4. Compute the frequency of each identified expression and print 50 results with the largest number of occurrences."
   ]
  },
  {
   "cell_type": "code",
   "execution_count": 12,
   "id": "5298ede5cafb4e94",
   "metadata": {
    "ExecuteTime": {
     "end_time": "2024-11-28T15:58:08.202461Z",
     "start_time": "2024-11-28T15:57:33.093915Z"
    },
    "collapsed": false
   },
   "outputs": [
    {
     "name": "stderr",
     "output_type": "stream",
     "text": [
      "100%|██████████| 1000/1000 [00:35<00:00, 28.49it/s]\n"
     ]
    }
   ],
   "source": [
    "frequency_list = Counter()\n",
    "\n",
    "for text in tqdm(df['text']):\n",
    "    words = getConsecutiveWords(text)\n",
    "    words = Counter(words)\n",
    "    frequency_list.update(words)"
   ]
  },
  {
   "cell_type": "code",
   "execution_count": 13,
   "id": "e2a8b0a1d7e0e81b",
   "metadata": {
    "ExecuteTime": {
     "end_time": "2024-11-28T15:58:20.568189Z",
     "start_time": "2024-11-28T15:58:20.544880Z"
    },
    "collapsed": false
   },
   "outputs": [
    {
     "data": {
      "text/plain": [
       "[('Dolar_amerykański', 235),\n",
       " ('Twój', 180),\n",
       " ('USA', 92),\n",
       " ('Ty', 88),\n",
       " ('Nie', 62),\n",
       " ('IRS', 36),\n",
       " ('Ciebie', 35),\n",
       " ('To', 35),\n",
       " ('IRA', 35),\n",
       " ('ETF', 34),\n",
       " ('Kalifornia', 33),\n",
       " ('Stany Zjednoczone', 31),\n",
       " ('W', 30),\n",
       " ('Jeśli', 29),\n",
       " ('Apple', 22),\n",
       " ('Amazon', 21),\n",
       " ('Być', 20),\n",
       " ('X', 20),\n",
       " ('Nowy Jork', 18),\n",
       " ('Google', 17),\n",
       " ('HSA', 16),\n",
       " ('Tak', 15),\n",
       " ('K', 15),\n",
       " ('Trump', 15),\n",
       " ('MBS', 15),\n",
       " ('Indie', 14),\n",
       " ('Facebook', 14),\n",
       " ('A', 14),\n",
       " ('Czy', 13),\n",
       " ('S&P', 12),\n",
       " ('Po', 12),\n",
       " ('Kanada', 12),\n",
       " ('Wielki Brytania', 12),\n",
       " ('S', 12),\n",
       " ('LLC', 12),\n",
       " ('TotesMessenger', 12),\n",
       " ('Roth', 12),\n",
       " ('Twoją', 11),\n",
       " ('ACH', 11),\n",
       " ('Sie', 11),\n",
       " ('RRSP', 10),\n",
       " ('Ameryka', 10),\n",
       " ('Sculley', 10),\n",
       " ('Wersja', 10),\n",
       " ('SEC', 10),\n",
       " ('MBA', 10),\n",
       " ('Ten', 9),\n",
       " ('Internet', 9),\n",
       " ('IT', 9),\n",
       " ('Amerykanów', 9)]"
      ]
     },
     "execution_count": 13,
     "metadata": {},
     "output_type": "execute_result"
    }
   ],
   "source": [
    "frequency_list.most_common(50)"
   ]
  },
  {
   "cell_type": "markdown",
   "id": "820809fb5bdc3396",
   "metadata": {
    "collapsed": false
   },
   "source": [
    "5. Apply the NER from SpaCy to identify the named entities in the same set of documents."
   ]
  },
  {
   "cell_type": "code",
   "execution_count": 14,
   "id": "6da9f4f36246c5cb",
   "metadata": {
    "ExecuteTime": {
     "end_time": "2024-11-28T15:58:31.414951Z",
     "start_time": "2024-11-28T15:58:31.386201Z"
    },
    "collapsed": false
   },
   "outputs": [],
   "source": [
    "def getEntities(text):\n",
    "    tokens = []\n",
    "    doc = nlp(text)\n",
    "\n",
    "    for ent in doc.ents:\n",
    "        tokens.append((ent.lemma_, ent.label_))\n",
    "    return tokens"
   ]
  },
  {
   "cell_type": "code",
   "execution_count": 15,
   "id": "a6f9990191950c84",
   "metadata": {
    "ExecuteTime": {
     "end_time": "2024-11-28T15:58:38.478565Z",
     "start_time": "2024-11-28T15:58:38.407497Z"
    },
    "collapsed": false
   },
   "outputs": [
    {
     "name": "stdout",
     "output_type": "stream",
     "text": [
      "[('Kraków', 'placeName'), ('Polska', 'placeName'), ('Stany Zjednoczone', 'placeName')]\n"
     ]
    }
   ],
   "source": [
    "text = \"Wczoraj w Krakowie miało miejsce spotkanie prezydentów Polski i Stanów Zjednoczonych.\"\n",
    "print(getEntities(text))"
   ]
  },
  {
   "cell_type": "markdown",
   "id": "d9304f6e215741cd",
   "metadata": {
    "collapsed": false
   },
   "source": [
    "6. Plot the frequency (histogram) of the identified classes.\n"
   ]
  },
  {
   "cell_type": "code",
   "execution_count": 16,
   "id": "b1746e40c241eb8a",
   "metadata": {
    "ExecuteTime": {
     "end_time": "2024-11-28T15:59:41.782590Z",
     "start_time": "2024-11-28T15:59:08.704033Z"
    },
    "collapsed": false
   },
   "outputs": [
    {
     "name": "stderr",
     "output_type": "stream",
     "text": [
      "100%|██████████| 1000/1000 [00:33<00:00, 30.25it/s]"
     ]
    },
    {
     "name": "stdout",
     "output_type": "stream",
     "text": [
      "Counter({'orgName': 896, 'persName': 767, 'placeName': 688, 'date': 222, 'geogName': 90, 'time': 10})\n"
     ]
    },
    {
     "name": "stderr",
     "output_type": "stream",
     "text": [
      "\n"
     ]
    }
   ],
   "source": [
    "entity_classes = Counter()\n",
    "\n",
    "for text in tqdm(df['text']):\n",
    "    ents = getEntities(text)\n",
    "    ents_labels = [item[1] for item in ents]\n",
    "    ents_labels = Counter(ents_labels)\n",
    "    entity_classes.update(ents_labels)\n",
    "print(entity_classes)"
   ]
  },
  {
   "cell_type": "code",
   "execution_count": 17,
   "id": "c8299b5fa09098d7",
   "metadata": {
    "ExecuteTime": {
     "end_time": "2024-11-28T16:00:02.222228Z",
     "start_time": "2024-11-28T16:00:01.831403Z"
    },
    "collapsed": false
   },
   "outputs": [
    {
     "data": {
      "image/png": "[encoded data removed]",
      "text/plain": [
       "<Figure size 640x480 with 1 Axes>"
      ]
     },
     "metadata": {},
     "output_type": "display_data"
    }
   ],
   "source": [
    "categories = list(entity_classes.keys())\n",
    "counts = list(entity_classes.values())\n",
    "\n",
    "plt.bar(categories, counts)\n",
    "plt.xlabel('Categories')\n",
    "plt.ylabel('Counts')\n",
    "plt.title('Bar Plot from Entity Classes')\n",
    "\n",
    "plt.show()"
   ]
  },
  {
   "cell_type": "markdown",
   "id": "2124458fbe8ee420",
   "metadata": {
    "collapsed": false
   },
   "source": [
    "7. Display 10 most frequent Named Entities for each identified type."
   ]
  },
  {
   "cell_type": "code",
   "execution_count": 18,
   "id": "142cf2aebbcf1323",
   "metadata": {
    "ExecuteTime": {
     "end_time": "2024-11-28T16:00:51.730447Z",
     "start_time": "2024-11-28T16:00:16.946930Z"
    },
    "collapsed": false
   },
   "outputs": [
    {
     "name": "stderr",
     "output_type": "stream",
     "text": [
      "100%|██████████| 1000/1000 [00:34<00:00, 28.76it/s]\n"
     ]
    }
   ],
   "source": [
    "counters_per_class = {}\n",
    "\n",
    "for class_name in entity_classes.keys():\n",
    "    counters_per_class[class_name] = Counter()\n",
    "\n",
    "for text in tqdm(df['text']):\n",
    "    ents = getEntities(text)\n",
    "    \n",
    "    for ent in ents:\n",
    "        counters_per_class[ent[1]].update([ent[0]])"
   ]
  },
  {
   "cell_type": "code",
   "execution_count": 19,
   "id": "50e65a6144c1d9cc",
   "metadata": {
    "ExecuteTime": {
     "end_time": "2024-11-28T16:01:28.465965Z",
     "start_time": "2024-11-28T16:01:28.441466Z"
    },
    "collapsed": false
   },
   "outputs": [
    {
     "data": {
      "text/plain": [
       "[('USA', 97),\n",
       " ('amerykański', 65),\n",
       " ('Stany Zjednoczone', 32),\n",
       " ('kalifornia', 23),\n",
       " ('nowy Jork', 16),\n",
       " ('Indie', 14),\n",
       " ('Wielki Brytania', 11),\n",
       " ('Ameryka', 10),\n",
       " ('Kanada', 9),\n",
       " ('Amerykanów', 9)]"
      ]
     },
     "execution_count": 19,
     "metadata": {},
     "output_type": "execute_result"
    }
   ],
   "source": [
    "counters_per_class['placeName'].most_common(10)"
   ]
  },
  {
   "cell_type": "code",
   "execution_count": 20,
   "id": "8eef1399568e0b8e",
   "metadata": {
    "ExecuteTime": {
     "end_time": "2024-11-28T16:01:29.489167Z",
     "start_time": "2024-11-28T16:01:29.441065Z"
    },
    "collapsed": false
   },
   "outputs": [
    {
     "data": {
      "text/plain": [
       "[('IRA', 39),\n",
       " ('ETF', 36),\n",
       " ('IRS', 25),\n",
       " ('Google', 22),\n",
       " ('Apple', 18),\n",
       " ('HSA', 16),\n",
       " ('MBS', 13),\n",
       " ('LLC', 12),\n",
       " ('IMO', 11),\n",
       " ('Roth', 10)]"
      ]
     },
     "execution_count": 20,
     "metadata": {},
     "output_type": "execute_result"
    }
   ],
   "source": [
    "counters_per_class['orgName'].most_common(10)"
   ]
  },
  {
   "cell_type": "code",
   "execution_count": 21,
   "id": "a60cdb596f5c0147",
   "metadata": {
    "ExecuteTime": {
     "end_time": "2024-11-28T16:01:30.097527Z",
     "start_time": "2024-11-28T16:01:30.081630Z"
    },
    "collapsed": false
   },
   "outputs": [
    {
     "data": {
      "text/plain": [
       "[('Amazon', 19),\n",
       " ('Trump', 15),\n",
       " ('sald', 12),\n",
       " ('Excel', 8),\n",
       " ('gdyby być', 8),\n",
       " ('Vanguard', 8),\n",
       " ('amazon', 8),\n",
       " ('Rotha', 8),\n",
       " ('Gdybyś', 6),\n",
       " ('Sculley', 6)]"
      ]
     },
     "execution_count": 21,
     "metadata": {},
     "output_type": "execute_result"
    }
   ],
   "source": [
    "counters_per_class['persName'].most_common(10)"
   ]
  },
  {
   "cell_type": "code",
   "execution_count": 22,
   "id": "6ab6bcdec9ec5b15",
   "metadata": {
    "ExecuteTime": {
     "end_time": "2024-11-28T16:01:30.681325Z",
     "start_time": "2024-11-28T16:01:30.665280Z"
    },
    "collapsed": false
   },
   "outputs": [
    {
     "data": {
      "text/plain": [
       "[('1040', 8),\n",
       " ('2008 rok', 6),\n",
       " ('2017', 6),\n",
       " ('2008', 6),\n",
       " ('rok 80.', 5),\n",
       " ('2016 rok.', 5),\n",
       " ('rok 70.', 4),\n",
       " ('1933 rok.', 4),\n",
       " ('2009', 4),\n",
       " ('2009 rok.', 4)]"
      ]
     },
     "execution_count": 22,
     "metadata": {},
     "output_type": "execute_result"
    }
   ],
   "source": [
    "counters_per_class['date'].most_common(10)"
   ]
  },
  {
   "cell_type": "code",
   "execution_count": 23,
   "id": "cebf119ce1d01e69",
   "metadata": {
    "ExecuteTime": {
     "end_time": "2024-11-28T16:01:31.259875Z",
     "start_time": "2024-11-28T16:01:31.245843Z"
    },
    "collapsed": false
   },
   "outputs": [
    {
     "data": {
      "text/plain": [
       "[('Europa', 8),\n",
       " ('europejski', 6),\n",
       " ('Ziemia', 3),\n",
       " ('Monte Carlo', 2),\n",
       " (\"McDonald's\", 2),\n",
       " ('Mars', 2),\n",
       " ('Wall Street', 2),\n",
       " ('Pacyfik', 2),\n",
       " ('dochód', 2),\n",
       " ('Expenses', 2)]"
      ]
     },
     "execution_count": 23,
     "metadata": {},
     "output_type": "execute_result"
    }
   ],
   "source": [
    "counters_per_class['geogName'].most_common(10)"
   ]
  },
  {
   "cell_type": "code",
   "execution_count": 24,
   "id": "7beb488c29d6033e",
   "metadata": {
    "ExecuteTime": {
     "end_time": "2024-11-28T16:01:31.862032Z",
     "start_time": "2024-11-28T16:01:31.843175Z"
    },
    "collapsed": false
   },
   "outputs": [
    {
     "data": {
      "text/plain": [
       "[('15.', 1),\n",
       " ('00', 1),\n",
       " ('19.', 1),\n",
       " ('90', 1),\n",
       " ('20.', 1),\n",
       " ('10', 1),\n",
       " ('godzina 14:00', 1),\n",
       " ('16', 1),\n",
       " ('godzina 16:00', 1),\n",
       " ('10 rano', 1)]"
      ]
     },
     "execution_count": 24,
     "metadata": {},
     "output_type": "execute_result"
    }
   ],
   "source": [
    "counters_per_class['time'].most_common(10)"
   ]
  },
  {
   "cell_type": "markdown",
   "id": "cbeb2f79f06d694d",
   "metadata": {
    "collapsed": false
   },
   "source": [
    "8. Display 50 most frequent Named Entities including their count and type."
   ]
  },
  {
   "cell_type": "code",
   "execution_count": 25,
   "id": "a694128e7447a0b",
   "metadata": {
    "ExecuteTime": {
     "end_time": "2024-11-28T16:02:03.921784Z",
     "start_time": "2024-11-28T16:01:33.525654Z"
    },
    "collapsed": false
   },
   "outputs": [
    {
     "name": "stderr",
     "output_type": "stream",
     "text": [
      "100%|██████████| 1000/1000 [00:30<00:00, 32.91it/s]\n"
     ]
    }
   ],
   "source": [
    "entities = Counter()\n",
    "\n",
    "for text in tqdm(df['text']):\n",
    "    ents = getEntities(text)\n",
    "    ents = Counter(ents)\n",
    "    entities.update(ents)"
   ]
  },
  {
   "cell_type": "code",
   "execution_count": 26,
   "id": "d1734f0328bbd3c2",
   "metadata": {
    "ExecuteTime": {
     "end_time": "2024-11-28T16:02:06.059395Z",
     "start_time": "2024-11-28T16:02:06.005937Z"
    },
    "collapsed": false
   },
   "outputs": [
    {
     "data": {
      "text/plain": [
       "[(('USA', 'placeName'), 97),\n",
       " (('amerykański', 'placeName'), 65),\n",
       " (('IRA', 'orgName'), 39),\n",
       " (('ETF', 'orgName'), 36),\n",
       " (('Stany Zjednoczone', 'placeName'), 32),\n",
       " (('IRS', 'orgName'), 25),\n",
       " (('kalifornia', 'placeName'), 23),\n",
       " (('Google', 'orgName'), 22),\n",
       " (('Amazon', 'persName'), 19),\n",
       " (('Apple', 'orgName'), 18),\n",
       " (('nowy Jork', 'placeName'), 16),\n",
       " (('HSA', 'orgName'), 16),\n",
       " (('Trump', 'persName'), 15),\n",
       " (('Indie', 'placeName'), 14),\n",
       " (('MBS', 'orgName'), 13),\n",
       " (('sald', 'persName'), 12),\n",
       " (('LLC', 'orgName'), 12),\n",
       " (('IMO', 'orgName'), 11),\n",
       " (('Wielki Brytania', 'placeName'), 11),\n",
       " (('Ameryka', 'placeName'), 10),\n",
       " (('Roth', 'orgName'), 10),\n",
       " (('Kanada', 'placeName'), 9),\n",
       " (('Amerykanów', 'placeName'), 9),\n",
       " (('LOC', 'orgName'), 9),\n",
       " (('Excel', 'persName'), 8),\n",
       " (('kanadyjski', 'placeName'), 8),\n",
       " (('SPY', 'orgName'), 8),\n",
       " (('gdyby być', 'persName'), 8),\n",
       " (('1040', 'date'), 8),\n",
       " (('Vanguard', 'persName'), 8),\n",
       " (('Europa', 'geogName'), 8),\n",
       " (('amazon', 'persName'), 8),\n",
       " (('Rotha', 'persName'), 8),\n",
       " (('CDO', 'orgName'), 8),\n",
       " (('PO', 'orgName'), 7),\n",
       " (('ACA', 'orgName'), 7),\n",
       " (('Chiny', 'placeName'), 7),\n",
       " (('Roth IRA', 'orgName'), 7),\n",
       " (('MBA', 'orgName'), 7),\n",
       " (('Gdybyś', 'persName'), 6),\n",
       " (('Facebook', 'placeName'), 6),\n",
       " (('europejski', 'geogName'), 6),\n",
       " (('2008 rok', 'date'), 6),\n",
       " (('Kalifornia', 'placeName'), 6),\n",
       " (('Sculley', 'persName'), 6),\n",
       " (('2017', 'date'), 6),\n",
       " (('Londyn', 'placeName'), 6),\n",
       " (('SEC', 'orgName'), 6),\n",
       " (('AdWords', 'persName'), 6),\n",
       " (('2008', 'date'), 6)]"
      ]
     },
     "execution_count": 26,
     "metadata": {},
     "output_type": "execute_result"
    }
   ],
   "source": [
    "entities.most_common(50)"
   ]
  },
  {
   "cell_type": "markdown",
   "id": "3868b3b9411e9359",
   "metadata": {
    "collapsed": false
   },
   "source": [
    "9. Display 5 sentences containing at least 2 recognized named entities with different types. Highlight the recognized spans with color.\n",
    "   (For demo application [Streamlit](https://streamlit.io/) might be useful for displaying NER results)."
   ]
  },
  {
   "cell_type": "code",
   "execution_count": 27,
   "id": "2b9add5ab46f1033",
   "metadata": {
    "ExecuteTime": {
     "end_time": "2024-11-28T16:02:08.664555Z",
     "start_time": "2024-11-28T16:02:07.905856Z"
    },
    "collapsed": false
   },
   "outputs": [
    {
     "data": {
      "text/html": [
       "<span class=\"tex2jax_ignore\"><div class=\"entities\" style=\"line-height: 2.5; direction: ltr\">Jeśli nie wydajesz dużo pieniędzy na wizę TD \n",
       "<mark class=\"entity\" style=\"background: #ddd; padding: 0.45em 0.6em; margin: 0 0.25em; line-height: 1; border-radius: 0.35em;\">\n",
       "    Gold Elite\n",
       "    <span style=\"font-size: 0.8em; font-weight: bold; line-height: 1; border-radius: 0.35em; vertical-align: middle; margin-left: 0.5rem\">persName</span>\n",
       "</mark>\n",
       " i nie jesteś zainteresowany Deluxe TD Auto Club, roczna opłata w wysokości 99 USD prawdopodobnie nie jest tego warta. Zamiast tego karta \n",
       "<mark class=\"entity\" style=\"background: #ddd; padding: 0.45em 0.6em; margin: 0 0.25em; line-height: 1; border-radius: 0.35em;\">\n",
       "    Citi Enrich\n",
       "    <span style=\"font-size: 0.8em; font-weight: bold; line-height: 1; border-radius: 0.35em; vertical-align: middle; margin-left: 0.5rem\">persName</span>\n",
       "</mark>\n",
       " MasterCard zapewnia ten sam 1% zwrotu gotówki przy wszystkich zakupach bez opłaty rocznej. Istnieje również niereklamowana wersja karty \n",
       "<mark class=\"entity\" style=\"background: #ddd; padding: 0.45em 0.6em; margin: 0 0.25em; line-height: 1; border-radius: 0.35em;\">\n",
       "    Platinum\n",
       "    <span style=\"font-size: 0.8em; font-weight: bold; line-height: 1; border-radius: 0.35em; vertical-align: middle; margin-left: 0.5rem\">persName</span>\n",
       "</mark>\n",
       ", która zawiera inne korzyści, takie jak ubezpieczenie wynajmu samochodu itp. Z tego, co obliczyłem jakiś czas temu, system PC Financial MasterCard PC Points również daje 1% zwrotu. O ile nie ma dodatkowych ofert, takich jak sprzedaż 5x punktów, o których nie wiem, zimna twarda gotówka byłaby lepszą opcją. Zapoznaj się również z artykułem dotyczącym kart kredytowych \n",
       "<mark class=\"entity\" style=\"background: #ddd; padding: 0.45em 0.6em; margin: 0 0.25em; line-height: 1; border-radius: 0.35em;\">\n",
       "    RFD Head\n",
       "    <span style=\"font-size: 0.8em; font-weight: bold; line-height: 1; border-radius: 0.35em; vertical-align: middle; margin-left: 0.5rem\">orgName</span>\n",
       "</mark>\n",
       " to \n",
       "<mark class=\"entity\" style=\"background: #ddd; padding: 0.45em 0.6em; margin: 0 0.25em; line-height: 1; border-radius: 0.35em;\">\n",
       "    Head\n",
       "    <span style=\"font-size: 0.8em; font-weight: bold; line-height: 1; border-radius: 0.35em; vertical-align: middle; margin-left: 0.5rem\">persName</span>\n",
       "</mark>\n",
       ", aby uzyskać więcej opcji.</div></span>"
      ],
      "text/plain": [
       "<IPython.core.display.HTML object>"
      ]
     },
     "metadata": {},
     "output_type": "display_data"
    },
    {
     "data": {
      "text/html": [
       "<span class=\"tex2jax_ignore\"><div class=\"entities\" style=\"line-height: 2.5; direction: ltr\">Cóż, myślę, że zamierzam rzucić podkręconą piłkę z tego, co do tej pory powiedzieli inni. Mam pracę na poziomie FP&amp;A w średniej wielkości (600 mln USD obrotów) firmy. Używam \n",
       "<mark class=\"entity\" style=\"background: #ddd; padding: 0.45em 0.6em; margin: 0 0.25em; line-height: 1; border-radius: 0.35em;\">\n",
       "    SQL\n",
       "    <span style=\"font-size: 0.8em; font-weight: bold; line-height: 1; border-radius: 0.35em; vertical-align: middle; margin-left: 0.5rem\">orgName</span>\n",
       "</mark>\n",
       " wszystko. . czas. Otrzymujemy wiele żądań danych i zamiast przekazywać je naszemu małemu zespołowi IT, który jest bardziej skoncentrowany na rozwoju, sami musimy tworzyć i weryfikować mnóstwo zapytań \n",
       "<mark class=\"entity\" style=\"background: #ddd; padding: 0.45em 0.6em; margin: 0 0.25em; line-height: 1; border-radius: 0.35em;\">\n",
       "    SQL\n",
       "    <span style=\"font-size: 0.8em; font-weight: bold; line-height: 1; border-radius: 0.35em; vertical-align: middle; margin-left: 0.5rem\">orgName</span>\n",
       "</mark>\n",
       ". W przypadku cyklicznych żądań danych wrzucamy zapytania do pulpitu nawigacyjnego usługi \n",
       "<mark class=\"entity\" style=\"background: #ddd; padding: 0.45em 0.6em; margin: 0 0.25em; line-height: 1; border-radius: 0.35em;\">\n",
       "    Power BI\n",
       "    <span style=\"font-size: 0.8em; font-weight: bold; line-height: 1; border-radius: 0.35em; vertical-align: middle; margin-left: 0.5rem\">orgName</span>\n",
       "</mark>\n",
       " i przeprowadzamy na jego podstawie analizy. Wyczuwam, że działy FP&amp;A mniejszych firm będą bardziej pokrywać się z IT, jeśli chodzi o dane ze względu na mniej sztywno zdefiniowaną strukturę wewnętrzną, więc znajomość niektórych narzędzi, z których korzysta IT, z pewnością może pomóc. Sama wiedza o tym, jak przeszukiwać firmowe bazy danych (jeśli możesz uzyskać dostęp) oszczędza dni oczekiwania + tam iz powrotem z działem IT. Jeśli korzystasz z \n",
       "<mark class=\"entity\" style=\"background: #ddd; padding: 0.45em 0.6em; margin: 0 0.25em; line-height: 1; border-radius: 0.35em;\">\n",
       "    SQL\n",
       "    <span style=\"font-size: 0.8em; font-weight: bold; line-height: 1; border-radius: 0.35em; vertical-align: middle; margin-left: 0.5rem\">orgName</span>\n",
       "</mark>\n",
       " i \n",
       "<mark class=\"entity\" style=\"background: #ddd; padding: 0.45em 0.6em; margin: 0 0.25em; line-height: 1; border-radius: 0.35em;\">\n",
       "    Excela\n",
       "    <span style=\"font-size: 0.8em; font-weight: bold; line-height: 1; border-radius: 0.35em; vertical-align: middle; margin-left: 0.5rem\">persName</span>\n",
       "</mark>\n",
       ", zapoznasz się z funkcją PowerQuery, która pozwala zaoszczędzić czas przy automatycznym przekształcaniu nieprzetworzonych danych. Naturalnym rozszerzeniem \n",
       "<mark class=\"entity\" style=\"background: #ddd; padding: 0.45em 0.6em; margin: 0 0.25em; line-height: 1; border-radius: 0.35em;\">\n",
       "    SQL\n",
       "    <span style=\"font-size: 0.8em; font-weight: bold; line-height: 1; border-radius: 0.35em; vertical-align: middle; margin-left: 0.5rem\">orgName</span>\n",
       "</mark>\n",
       " byłoby wtedy oprogramowanie analityczne lub programowanie, takie jak \n",
       "<mark class=\"entity\" style=\"background: #ddd; padding: 0.45em 0.6em; margin: 0 0.25em; line-height: 1; border-radius: 0.35em;\">\n",
       "    R.\n",
       "    <span style=\"font-size: 0.8em; font-weight: bold; line-height: 1; border-radius: 0.35em; vertical-align: middle; margin-left: 0.5rem\">persName</span>\n",
       "</mark>\n",
       " Firmy takie jak ta, dla której pracuję, próbują zrozumieć analizę biznesową, a my wdrożyliśmy pakiety pulpitów nawigacyjnych \n",
       "<mark class=\"entity\" style=\"background: #ddd; padding: 0.45em 0.6em; margin: 0 0.25em; line-height: 1; border-radius: 0.35em;\">\n",
       "    PBI\n",
       "    <span style=\"font-size: 0.8em; font-weight: bold; line-height: 1; border-radius: 0.35em; vertical-align: middle; margin-left: 0.5rem\">orgName</span>\n",
       "</mark>\n",
       ", co wymaga zrozumienia \n",
       "<mark class=\"entity\" style=\"background: #ddd; padding: 0.45em 0.6em; margin: 0 0.25em; line-height: 1; border-radius: 0.35em;\">\n",
       "    Dax\n",
       "    <span style=\"font-size: 0.8em; font-weight: bold; line-height: 1; border-radius: 0.35em; vertical-align: middle; margin-left: 0.5rem\">placeName</span>\n",
       "</mark>\n",
       " (co jest tylko wystarczająco różni się od VB, aby być denerwującym \n",
       "<mark class=\"entity\" style=\"background: #ddd; padding: 0.45em 0.6em; margin: 0 0.25em; line-height: 1; border-radius: 0.35em;\">\n",
       "    IMO\n",
       "    <span style=\"font-size: 0.8em; font-weight: bold; line-height: 1; border-radius: 0.35em; vertical-align: middle; margin-left: 0.5rem\">orgName</span>\n",
       "</mark>\n",
       "). Zostań czarodziejem w programie \n",
       "<mark class=\"entity\" style=\"background: #ddd; padding: 0.45em 0.6em; margin: 0 0.25em; line-height: 1; border-radius: 0.35em;\">\n",
       "    Excel\n",
       "    <span style=\"font-size: 0.8em; font-weight: bold; line-height: 1; border-radius: 0.35em; vertical-align: middle; margin-left: 0.5rem\">persName</span>\n",
       "</mark>\n",
       ", co na pewno już znasz. Wiedz, jak stosować formatowanie warunkowe na 46 różnych sposobów, wiesz, jak szybko tworzyć i manipulować wykresami przestawnymi, a także być bogiem manipulacji tabelami przestawnymi. Dowiedz się, jak zautomatyzować powtarzalne zadania. Dużym (dla mnie) jest umiejętność szybkiego uzgadniania za pomocą \n",
       "<mark class=\"entity\" style=\"background: #ddd; padding: 0.45em 0.6em; margin: 0 0.25em; line-height: 1; border-radius: 0.35em;\">\n",
       "    Excela\n",
       "    <span style=\"font-size: 0.8em; font-weight: bold; line-height: 1; border-radius: 0.35em; vertical-align: middle; margin-left: 0.5rem\">persName</span>\n",
       "</mark>\n",
       " (FP&amp;A robi dużo uzgadniania w mojej pracy). Wiedza o tym, jak sprytnie stosować i manipulować tabelami przestawnymi i podglądami v, może być różnicą między spędzeniem 4 a 40 godzin na rekonesansie. Zauważ, że te sugestie pochodzą wyłącznie z mojego doświadczenia.</div></span>"
      ],
      "text/plain": [
       "<IPython.core.display.HTML object>"
      ]
     },
     "metadata": {},
     "output_type": "display_data"
    },
    {
     "data": {
      "text/html": [
       "<span class=\"tex2jax_ignore\"><div class=\"entities\" style=\"line-height: 2.5; direction: ltr\">nie, to nie to, co mówię. Sporządzam raporty, przeprowadzam testy warunków skrajnych i \n",
       "<mark class=\"entity\" style=\"background: #ddd; padding: 0.45em 0.6em; margin: 0 0.25em; line-height: 1; border-radius: 0.35em;\">\n",
       "    Movar\n",
       "    <span style=\"font-size: 0.8em; font-weight: bold; line-height: 1; border-radius: 0.35em; vertical-align: middle; margin-left: 0.5rem\">persName</span>\n",
       "</mark>\n",
       " dla ostatnich 2 menedżerów ryzyka. Mam licencjat z ekonomii i administracji biznesowej, więc nie jestem naprawdę twardym facetem od finansów. tak jak nasz pierwszy \n",
       "<mark class=\"entity\" style=\"background: #ddd; padding: 0.45em 0.6em; margin: 0 0.25em; line-height: 1; border-radius: 0.35em;\">\n",
       "    RM\n",
       "    <span style=\"font-size: 0.8em; font-weight: bold; line-height: 1; border-radius: 0.35em; vertical-align: middle; margin-left: 0.5rem\">orgName</span>\n",
       "</mark>\n",
       " był jedną z osób w \n",
       "<mark class=\"entity\" style=\"background: #bfe1d9; padding: 0.45em 0.6em; margin: 0 0.25em; line-height: 1; border-radius: 0.35em;\">\n",
       "    latach 70.\n",
       "    <span style=\"font-size: 0.8em; font-weight: bold; line-height: 1; border-radius: 0.35em; vertical-align: middle; margin-left: 0.5rem\">date</span>\n",
       "</mark>\n",
       ", które w zasadzie tworzyły przyszłość dla ropy. naszym ostatnim facetem był \n",
       "<mark class=\"entity\" style=\"background: #ddd; padding: 0.45em 0.6em; margin: 0 0.25em; line-height: 1; border-radius: 0.35em;\">\n",
       "    Francuz\n",
       "    <span style=\"font-size: 0.8em; font-weight: bold; line-height: 1; border-radius: 0.35em; vertical-align: middle; margin-left: 0.5rem\">placeName</span>\n",
       "</mark>\n",
       " z \n",
       "<mark class=\"entity\" style=\"background: #ddd; padding: 0.45em 0.6em; margin: 0 0.25em; line-height: 1; border-radius: 0.35em;\">\n",
       "    EDF\n",
       "    <span style=\"font-size: 0.8em; font-weight: bold; line-height: 1; border-radius: 0.35em; vertical-align: middle; margin-left: 0.5rem\">orgName</span>\n",
       "</mark>\n",
       ". Po prostu czuję, że brakuje mi ich doświadczenia i naprawdę nie chcę spierdolić, więc proszę ludzi z większym doświadczeniem, aby wskazali mi drogę. książki, programy, zajęcia itp. Myślę też, że pomyliłeś mój komentarz, że nie miałem pojęcia o oprogramowaniu \n",
       "<mark class=\"entity\" style=\"background: #ddd; padding: 0.45em 0.6em; margin: 0 0.25em; line-height: 1; border-radius: 0.35em;\">\n",
       "    Crystal Ball\n",
       "    <span style=\"font-size: 0.8em; font-weight: bold; line-height: 1; border-radius: 0.35em; vertical-align: middle; margin-left: 0.5rem\">persName</span>\n",
       "</mark>\n",
       ". Jestem głównie facetem z \n",
       "<mark class=\"entity\" style=\"background: #ddd; padding: 0.45em 0.6em; margin: 0 0.25em; line-height: 1; border-radius: 0.35em;\">\n",
       "    VBA\n",
       "    <span style=\"font-size: 0.8em; font-weight: bold; line-height: 1; border-radius: 0.35em; vertical-align: middle; margin-left: 0.5rem\">orgName</span>\n",
       "</mark>\n",
       " i \n",
       "<mark class=\"entity\" style=\"background: #ddd; padding: 0.45em 0.6em; margin: 0 0.25em; line-height: 1; border-radius: 0.35em;\">\n",
       "    SQL\n",
       "    <span style=\"font-size: 0.8em; font-weight: bold; line-height: 1; border-radius: 0.35em; vertical-align: middle; margin-left: 0.5rem\">orgName</span>\n",
       "</mark>\n",
       ", ale myślę, że aby uruchomić simów \n",
       "<mark class=\"entity\" style=\"background: #ddd; padding: 0.45em 0.6em; margin: 0 0.25em; line-height: 1; border-radius: 0.35em;\">\n",
       "    Monte Carlo\n",
       "    <span style=\"font-size: 0.8em; font-weight: bold; line-height: 1; border-radius: 0.35em; vertical-align: middle; margin-left: 0.5rem\">geogName</span>\n",
       "</mark>\n",
       ", muszę nauczyć się kryształowej kuli</div></span>"
      ],
      "text/plain": [
       "<IPython.core.display.HTML object>"
      ]
     },
     "metadata": {},
     "output_type": "display_data"
    },
    {
     "data": {
      "text/html": [
       "<span class=\"tex2jax_ignore\"><div class=\"entities\" style=\"line-height: 2.5; direction: ltr\">„Biznes nieruchomościowy może zrównoważyć dochód z zajmowanej nieruchomości kosztami z wolnej nieruchomości przeznaczonej do spekulacji. W przypadku spekulacji można pozwolić, aby budynek zgnił, a następnie poddać go ponownej ocenie. Jeśli jurysdykcja ocenia część lub całość rachunku podatkowego od wartości ulepszeń, może to znacznie obniżyć roczny rachunek podatkowy, gdy będziesz trzymać. Jeśli planujesz trzymać przez dekadę lub dłużej, może to być bardzo ważne. Strategicznie, to również rujnuje wartości nieruchomości w sąsiedztwie, więc możesz składać sąsiednie działki, aby wesprzeć przyszłość głównych wydarzeń. To długa gra spekulacyjna. Przykładami tej strategii są \n",
       "<mark class=\"entity\" style=\"background: #ddd; padding: 0.45em 0.6em; margin: 0 0.25em; line-height: 1; border-radius: 0.35em;\">\n",
       "    Richard Basciano\n",
       "    <span style=\"font-size: 0.8em; font-weight: bold; line-height: 1; border-radius: 0.35em; vertical-align: middle; margin-left: 0.5rem\">persName</span>\n",
       "</mark>\n",
       ", który w \n",
       "<mark class=\"entity\" style=\"background: #bfe1d9; padding: 0.45em 0.6em; margin: 0 0.25em; line-height: 1; border-radius: 0.35em;\">\n",
       "    latach 70.\n",
       "    <span style=\"font-size: 0.8em; font-weight: bold; line-height: 1; border-radius: 0.35em; vertical-align: middle; margin-left: 0.5rem\">date</span>\n",
       "</mark>\n",
       " kupił kilka budynków na \n",
       "<mark class=\"entity\" style=\"background: #ddd; padding: 0.45em 0.6em; margin: 0 0.25em; line-height: 1; border-radius: 0.35em;\">\n",
       "    Times Square\n",
       "    <span style=\"font-size: 0.8em; font-weight: bold; line-height: 1; border-radius: 0.35em; vertical-align: middle; margin-left: 0.5rem\">orgName</span>\n",
       "</mark>\n",
       " w \n",
       "<mark class=\"entity\" style=\"background: #ddd; padding: 0.45em 0.6em; margin: 0 0.25em; line-height: 1; border-radius: 0.35em;\">\n",
       "    Nowym Jorku\n",
       "    <span style=\"font-size: 0.8em; font-weight: bold; line-height: 1; border-radius: 0.35em; vertical-align: middle; margin-left: 0.5rem\">placeName</span>\n",
       "</mark>\n",
       " i zainstalował najemców kin dla dorosłych, aby się dziś wypłacić, oraz nieżyjący już \n",
       "<mark class=\"entity\" style=\"background: #ddd; padding: 0.45em 0.6em; margin: 0 0.25em; line-height: 1; border-radius: 0.35em;\">\n",
       "    Sam Rappaport\n",
       "    <span style=\"font-size: 0.8em; font-weight: bold; line-height: 1; border-radius: 0.35em; vertical-align: middle; margin-left: 0.5rem\">persName</span>\n",
       "</mark>\n",
       ", który realizował strategię ograniczania czynszów i zwyczajnie ignorując naruszenia kontroli budowlanej w \n",
       "<mark class=\"entity\" style=\"background: #ddd; padding: 0.45em 0.6em; margin: 0 0.25em; line-height: 1; border-radius: 0.35em;\">\n",
       "    Filadelfii\n",
       "    <span style=\"font-size: 0.8em; font-weight: bold; line-height: 1; border-radius: 0.35em; vertical-align: middle; margin-left: 0.5rem\">placeName</span>\n",
       "</mark>\n",
       ", taniej montując duże miejskie paczki, a których dzieci sprzedają się teraz w silnych rkety. Legalność: Firmy dla dorosłych to rodzaj szarej strefy objętej określonymi lokalnymi rozporządzeniami, ani całkowicie nielegalnymi, ani całkowicie legalnymi. Ignorowanie naruszeń budynków nie jest legalne, ale kary to grzywny, a nie więzienie. Z pewnością nie jest to „fajna” strategia. \n",
       "<mark class=\"entity\" style=\"background: #ddd; padding: 0.45em 0.6em; margin: 0 0.25em; line-height: 1; border-radius: 0.35em;\">\n",
       "    Richard Basciano\n",
       "    <span style=\"font-size: 0.8em; font-weight: bold; line-height: 1; border-radius: 0.35em; vertical-align: middle; margin-left: 0.5rem\">persName</span>\n",
       "</mark>\n",
       ": http://www.nydailynews.com/new-york/porn-king-richard-basciano-survived-rudy-giuliani-plans-risk-article-1.319185 Sam Rappaport: http://www.bizjournals.com /philadelphia/\n",
       "<mark class=\"entity\" style=\"background: #ddd; padding: 0.45em 0.6em; margin: 0 0.25em; line-height: 1; border-radius: 0.35em;\">\n",
       "    stories/2002/08/05/focus13.html\n",
       "    <span style=\"font-size: 0.8em; font-weight: bold; line-height: 1; border-radius: 0.35em; vertical-align: middle; margin-left: 0.5rem\">geogName</span>\n",
       "</mark>\n",
       "?page=\n",
       "<mark class=\"entity\" style=\"background: #ddd; padding: 0.45em 0.6em; margin: 0 0.25em; line-height: 1; border-radius: 0.35em;\">\n",
       "    all\n",
       "    <span style=\"font-size: 0.8em; font-weight: bold; line-height: 1; border-radius: 0.35em; vertical-align: middle; margin-left: 0.5rem\">persName</span>\n",
       "</mark>\n",
       "&quot;</div></span>"
      ],
      "text/plain": [
       "<IPython.core.display.HTML object>"
      ]
     },
     "metadata": {},
     "output_type": "display_data"
    },
    {
     "data": {
      "text/html": [
       "<span class=\"tex2jax_ignore\"><div class=\"entities\" style=\"line-height: 2.5; direction: ltr\">„Wow, demokrata zabił jedną osobę… ale pod jego okiem wiele ataków terrorystycznych w \n",
       "<mark class=\"entity\" style=\"background: #ddd; padding: 0.45em 0.6em; margin: 0 0.25em; line-height: 1; border-radius: 0.35em;\">\n",
       "    USA\n",
       "    <span style=\"font-size: 0.8em; font-weight: bold; line-height: 1; border-radius: 0.35em; vertical-align: middle; margin-left: 0.5rem\">placeName</span>\n",
       "</mark>\n",
       " i „umowa nuklearna””, która z pewnością uniemożliwi \n",
       "<mark class=\"entity\" style=\"background: #ddd; padding: 0.45em 0.6em; margin: 0 0.25em; line-height: 1; border-radius: 0.35em;\">\n",
       "    Iranowi\n",
       "    <span style=\"font-size: 0.8em; font-weight: bold; line-height: 1; border-radius: 0.35em; vertical-align: middle; margin-left: 0.5rem\">persName</span>\n",
       "</mark>\n",
       " upodobnienie się do \n",
       "<mark class=\"entity\" style=\"background: #ddd; padding: 0.45em 0.6em; margin: 0 0.25em; line-height: 1; border-radius: 0.35em;\">\n",
       "    Korei Północnej\n",
       "    <span style=\"font-size: 0.8em; font-weight: bold; line-height: 1; border-radius: 0.35em; vertical-align: middle; margin-left: 0.5rem\">placeName</span>\n",
       "</mark>\n",
       ". kraj… który uzyskał swoje zdolności nuklearne dzięki „umowie nuklearnej” z \n",
       "<mark class=\"entity\" style=\"background: #ddd; padding: 0.45em 0.6em; margin: 0 0.25em; line-height: 1; border-radius: 0.35em;\">\n",
       "    Billem Clintonem\n",
       "    <span style=\"font-size: 0.8em; font-weight: bold; line-height: 1; border-radius: 0.35em; vertical-align: middle; margin-left: 0.5rem\">persName</span>\n",
       "</mark>\n",
       ", która obejmowała reaktory jądrowe dostarczone przez \n",
       "<mark class=\"entity\" style=\"background: #ddd; padding: 0.45em 0.6em; margin: 0 0.25em; line-height: 1; border-radius: 0.35em;\">\n",
       "    USA\n",
       "    <span style=\"font-size: 0.8em; font-weight: bold; line-height: 1; border-radius: 0.35em; vertical-align: middle; margin-left: 0.5rem\">placeName</span>\n",
       "</mark>\n",
       "”.</div></span>"
      ],
      "text/plain": [
       "<IPython.core.display.HTML object>"
      ]
     },
     "metadata": {},
     "output_type": "display_data"
    }
   ],
   "source": [
    "corpus_ids = []\n",
    "i = 0\n",
    "for idx, text in enumerate(df['text']):\n",
    "    if i == 5:\n",
    "        break\n",
    "    \n",
    "    tokens = []\n",
    "    doc = nlp(text)\n",
    "\n",
    "    labels = [ent.label_ for ent in doc.ents]\n",
    "    labels = Counter(labels)\n",
    "    if len(labels) >= 2:\n",
    "        displacy.render(doc, style='ent', jupyter=True)\n",
    "        corpus_ids.append(idx)\n",
    "        i+=1"
   ]
  },
  {
   "cell_type": "markdown",
   "id": "2867e53570cae949",
   "metadata": {
    "collapsed": false
   },
   "source": [
    "#### Answer the following questions (2 points):\n",
    "\n",
    "**1. Which of the method (counting expressions with capital letters vs. NER) worked better for the task concerned with\n",
    "  identification of the proper names?**\n",
    "  \n",
    "Named Entity Recognition (NER) worked better because counting capitalized words is a simplistic approach. While it matches all words that start with a capital letter, it doesn’t account for context or relevance, leading to many irrelevant results. NER, on the other hand, applies contextual filtering and identifies actual named entities, making it more precise.\n",
    "  \n",
    "**2. What are the drawbacks of the method based on capital letters?**\n",
    "\n",
    "The main drawback is the high number of false positives. Many words that start with a capital letter are not proper names or relevant to the task, such as the first word of a sentence or generic nouns. This lack of specificity reduces its effectiveness.\n",
    "\n",
    "**3. What are the drawbacks of the method based on NER?**\n",
    "\n",
    "NER is model-dependent, meaning its accuracy relies on the quality of the model used. It may fail to recognize certain entities, especially in contexts or languages the model wasn’t trained on, leading to missed entities (false negatives).\n",
    "\n",
    "**4. Which of the coarse-grained NER groups has the best and which has the worst results? Try to justify this\n",
    "  observation.**\n",
    "  \n",
    "- Best: orgName had the best results because organizational names are often standardized and consistently written, particularly in English.\n",
    "- Worst: date performed the worst due to the numerous ways dates can be expressed, including different formats, languages, and even informal phrasing, making it harder for the model to generalize.\n",
    "  \n",
    "**5. Do you think NER is sufficient for identifying different occurrences of the same entity (i.e. consider \"USA\" and\n",
    "  \"Stany Zjednoczone\" and \"Stany Zjednoczone Ameryki Północnej\")? If not, can you suggest an algorithm or a tool that\n",
    "  would be able to group such names together?**\n",
    "  \n",
    "NER alone is not sufficient for grouping such variations, as it focuses on recognizing entities rather than linking them. A possible solution would be to use entity linking algorithms or knowledge graphs that map different expressions to the same entity, such as spaCy’s EntityLinker or external tools like DBpedia Spotlight or Wikipedia-based entity disambiguation.\n",
    "  \n",
    "**6. Can you think of a real world problem that would benefit the most from application of Named Entity Recognition\n",
    "  algorithm?**\n",
    " \n",
    "A good example is search engines. For instance, the word \"Apple\" could refer to a fruit or the tech company, depending on context. NER can help disambiguate such terms, ensuring more relevant search results by understanding the context in which a name is used.\n",
    "\n",
    "## Hints\n",
    "\n",
    "1. Named entity recognition is a process aimed at the identification of entities mentioned in text by determining their\n",
    "   scope and classifying them to a predefined type. The larger the number of types, the more difficult the problem is.\n",
    "2. Named entities are usually proper names and temporal expressions. They usually convey the most important information\n",
    "   in text.\n",
    "3. IOB format is typically used to tag names entities. The name (IOB) comes from the types of tokens (_in_, _out_, _beginning_).\n",
    "   The following example shows how the format works:\n",
    "   ```\n",
    "   W            O\n",
    "   1776         B-TIME\n",
    "   niemiecki    O\n",
    "   zoolog       O\n",
    "   Peter        B-PER\n",
    "   Simon        I-PER\n",
    "   Pallas       I-PER\n",
    "   dokonał      O\n",
    "   formalnego   O\n",
    "   ...\n",
    "   ```\n",
    "4. The set of classes used in NER is partially task dependent. Some general classes such as names of people or cities\n",
    "   are used universally, but categories such as references to law regulations is specific to legal information systems."
   ]
  },
  {
   "cell_type": "code",
   "execution_count": null,
   "id": "b95b094da05d16bb",
   "metadata": {
    "collapsed": false
   },
   "outputs": [],
   "source": []
  }
 ],
 "metadata": {
  "kernelspec": {
   "display_name": "Python 3",
   "language": "python",
   "name": "python3"
  },
  "language_info": {
   "codemirror_mode": {
    "name": "ipython",
    "version": 2
   },
   "file_extension": ".py",
   "mimetype": "text/x-python",
   "name": "python",
   "nbconvert_exporter": "python",
   "pygments_lexer": "ipython2",
   "version": "2.7.6"
  }
 },
 "nbformat": 4,
 "nbformat_minor": 5
}
