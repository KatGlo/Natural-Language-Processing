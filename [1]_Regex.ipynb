{
 "cells": [
  {
   "cell_type": "markdown",
   "source": [
    "# Regular expressions (aka regex)\n",
    "\n",
    "The task is concentrated on using regular expressions for extracting basic information from textual data. \n",
    "You will get more familiar with the regexp features that are particularly important for natural language processing applications, especially when you are preparing data for machine learning models.\n"
   ],
   "metadata": {
    "collapsed": false
   },
   "id": "f875f4b00e75d3e4"
  },
  {
   "cell_type": "markdown",
   "source": [
    "## Task\n",
    "\n",
    "A FIQA-PL dataset containing Polish questions and answers is available at [Huggigface](https://huggingface.co/datasets/clarin-knext/fiqa-pl).\n",
    "In this lab we only concentrate on the `corpus` split of the dataset.\n",
    "\n",
    "Task objectives (8 points):"
   ],
   "metadata": {
    "collapsed": false
   },
   "id": "6ece3949f8a83f6a"
  },
  {
   "cell_type": "code",
   "execution_count": 130,
   "outputs": [],
   "source": [
    "import re\n",
    "import regex\n",
    "import pandas as pd\n",
    "import matplotlib.pyplot as plt\n",
    "from datasets import load_dataset\n",
    "from collections import defaultdict"
   ],
   "metadata": {
    "collapsed": false,
    "ExecuteTime": {
     "end_time": "2024-10-16T21:13:53.998222Z",
     "start_time": "2024-10-16T21:13:53.026467Z"
    }
   },
   "id": "3941ef56d963e7c4"
  },
  {
   "cell_type": "code",
   "execution_count": 131,
   "outputs": [],
   "source": [
    "dataset = load_dataset(\"clarin-knext/fiqa-pl\", \"corpus\")"
   ],
   "metadata": {
    "collapsed": false,
    "ExecuteTime": {
     "end_time": "2024-10-16T21:13:55.639140Z",
     "start_time": "2024-10-16T21:13:53.049582Z"
    }
   },
   "id": "c4e4e97d0a8242"
  },
  {
   "cell_type": "code",
   "execution_count": 132,
   "outputs": [
    {
     "data": {
      "text/plain": "DatasetDict({\n    corpus: Dataset({\n        features: ['_id', 'title', 'text'],\n        num_rows: 57638\n    })\n})"
     },
     "execution_count": 132,
     "metadata": {},
     "output_type": "execute_result"
    }
   ],
   "source": [
    "dataset"
   ],
   "metadata": {
    "collapsed": false,
    "ExecuteTime": {
     "end_time": "2024-10-16T21:13:55.640338Z",
     "start_time": "2024-10-16T21:13:55.618325Z"
    }
   },
   "id": "4bd9678fccb9f750"
  },
  {
   "cell_type": "code",
   "execution_count": 133,
   "outputs": [],
   "source": [
    "df = pd.DataFrame(dataset['corpus'])"
   ],
   "metadata": {
    "collapsed": false,
    "ExecuteTime": {
     "end_time": "2024-10-16T21:14:06.280262Z",
     "start_time": "2024-10-16T21:13:55.627763Z"
    }
   },
   "id": "74696409f438241f"
  },
  {
   "cell_type": "code",
   "execution_count": 134,
   "outputs": [
    {
     "data": {
      "text/plain": "          _id title                                               text\n0           3        Nie mówię, że nie podoba mi się też pomysł szk...\n1          31        Tak więc nic nie zapobiega fałszywym ocenom po...\n2          56        Nigdy nie możesz korzystać z FSA dla indywidua...\n3          59        Samsung stworzył LCD i inne technologie płaski...\n4          63        Oto wymagania SEC: Federalne przepisy dotycząc...\n...       ...   ...                                                ...\n57633  599946        >Cóż, po pierwsze, drogi to coś więcej niż hob...\n57634  599953        Tak, robią. Na dotacje dla firm farmaceutyczny...\n57635  599966        >To bardzo smutne, że nie rozumiesz ludzkiej n...\n57636  599975        „Czy Twój CTO pozwolił dużej grupie użyć „„adm...\n57637  599987        Zapewnienie rządowi większej kontroli nad dyst...\n\n[57638 rows x 3 columns]",
      "text/html": "<div>\n<style scoped>\n    .dataframe tbody tr th:only-of-type {\n        vertical-align: middle;\n    }\n\n    .dataframe tbody tr th {\n        vertical-align: top;\n    }\n\n    .dataframe thead th {\n        text-align: right;\n    }\n</style>\n<table border=\"1\" class=\"dataframe\">\n  <thead>\n    <tr style=\"text-align: right;\">\n      <th></th>\n      <th>_id</th>\n      <th>title</th>\n      <th>text</th>\n    </tr>\n  </thead>\n  <tbody>\n    <tr>\n      <th>0</th>\n      <td>3</td>\n      <td></td>\n      <td>Nie mówię, że nie podoba mi się też pomysł szk...</td>\n    </tr>\n    <tr>\n      <th>1</th>\n      <td>31</td>\n      <td></td>\n      <td>Tak więc nic nie zapobiega fałszywym ocenom po...</td>\n    </tr>\n    <tr>\n      <th>2</th>\n      <td>56</td>\n      <td></td>\n      <td>Nigdy nie możesz korzystać z FSA dla indywidua...</td>\n    </tr>\n    <tr>\n      <th>3</th>\n      <td>59</td>\n      <td></td>\n      <td>Samsung stworzył LCD i inne technologie płaski...</td>\n    </tr>\n    <tr>\n      <th>4</th>\n      <td>63</td>\n      <td></td>\n      <td>Oto wymagania SEC: Federalne przepisy dotycząc...</td>\n    </tr>\n    <tr>\n      <th>...</th>\n      <td>...</td>\n      <td>...</td>\n      <td>...</td>\n    </tr>\n    <tr>\n      <th>57633</th>\n      <td>599946</td>\n      <td></td>\n      <td>&gt;Cóż, po pierwsze, drogi to coś więcej niż hob...</td>\n    </tr>\n    <tr>\n      <th>57634</th>\n      <td>599953</td>\n      <td></td>\n      <td>Tak, robią. Na dotacje dla firm farmaceutyczny...</td>\n    </tr>\n    <tr>\n      <th>57635</th>\n      <td>599966</td>\n      <td></td>\n      <td>&gt;To bardzo smutne, że nie rozumiesz ludzkiej n...</td>\n    </tr>\n    <tr>\n      <th>57636</th>\n      <td>599975</td>\n      <td></td>\n      <td>„Czy Twój CTO pozwolił dużej grupie użyć „„adm...</td>\n    </tr>\n    <tr>\n      <th>57637</th>\n      <td>599987</td>\n      <td></td>\n      <td>Zapewnienie rządowi większej kontroli nad dyst...</td>\n    </tr>\n  </tbody>\n</table>\n<p>57638 rows × 3 columns</p>\n</div>"
     },
     "execution_count": 134,
     "metadata": {},
     "output_type": "execute_result"
    }
   ],
   "source": [
    "df"
   ],
   "metadata": {
    "collapsed": false,
    "ExecuteTime": {
     "end_time": "2024-10-16T21:14:06.344074Z",
     "start_time": "2024-10-16T21:14:06.302515Z"
    }
   },
   "id": "4073e667f113c130"
  },
  {
   "cell_type": "code",
   "execution_count": 135,
   "outputs": [],
   "source": [
    "df_texts=df['text']"
   ],
   "metadata": {
    "collapsed": false,
    "ExecuteTime": {
     "end_time": "2024-10-16T21:14:06.357329Z",
     "start_time": "2024-10-16T21:14:06.342913Z"
    }
   },
   "id": "ceff4fc6c290d80b"
  },
  {
   "cell_type": "code",
   "execution_count": 136,
   "outputs": [
    {
     "data": {
      "text/plain": "0        Nie mówię, że nie podoba mi się też pomysł szk...\n1        Tak więc nic nie zapobiega fałszywym ocenom po...\n2        Nigdy nie możesz korzystać z FSA dla indywidua...\n3        Samsung stworzył LCD i inne technologie płaski...\n4        Oto wymagania SEC: Federalne przepisy dotycząc...\n                               ...                        \n57633    >Cóż, po pierwsze, drogi to coś więcej niż hob...\n57634    Tak, robią. Na dotacje dla firm farmaceutyczny...\n57635    >To bardzo smutne, że nie rozumiesz ludzkiej n...\n57636    „Czy Twój CTO pozwolił dużej grupie użyć „„adm...\n57637    Zapewnienie rządowi większej kontroli nad dyst...\nName: text, Length: 57638, dtype: object"
     },
     "execution_count": 136,
     "metadata": {},
     "output_type": "execute_result"
    }
   ],
   "source": [
    "df_texts"
   ],
   "metadata": {
    "collapsed": false,
    "ExecuteTime": {
     "end_time": "2024-10-16T21:14:06.487792Z",
     "start_time": "2024-10-16T21:14:06.374871Z"
    }
   },
   "id": "2bab0c73278626e4"
  },
  {
   "cell_type": "markdown",
   "source": [
    "### 1. Devise two regular expressions:\n",
    "###   * extracting times, e.g. recognizing `20:30` as an instance of a time.\n",
    "###   * extracting dates, e.g. recognizing `20 września` as an instance of a date."
   ],
   "metadata": {
    "collapsed": false
   },
   "id": "b0c95f79b0fe5418"
  },
  {
   "cell_type": "code",
   "execution_count": 137,
   "outputs": [],
   "source": [
    "def extract_times(text):\n",
    "    pattern = r\"\\b(?:(?:2[0-4])|(?:1?\\d)):(?:[0-5]\\d)(?::[0-5]\\d)?\"\n",
    "    return re.findall(pattern, text)"
   ],
   "metadata": {
    "collapsed": false,
    "ExecuteTime": {
     "end_time": "2024-10-16T21:14:06.503097Z",
     "start_time": "2024-10-16T21:14:06.390304Z"
    }
   },
   "id": "5e05898f153a73c7"
  },
  {
   "cell_type": "code",
   "execution_count": 138,
   "outputs": [],
   "source": [
    "def extract_dates(text):\n",
    "    pattern1 = r'((0?[1-9]|[1-2][0-9]|3[0-1])\\s+(stycz(?:eń|nia)|lut(?:y|ego)|mar(?:zec|ca)|kwie(?:cień|tnia)|maj(?:a)|czerw(?:iec|ca)|lip(?:iec|ca)|sierp(?:ień|nia)|wrze(?:sień|śnia)|październik(?:a)|listopad(?:a)|grud(?:zień|nia)))(?:\\s+\\d{4})?'    \n",
    "    pattern2 = r'(\\d{2}-\\d{2}-\\d{4})' # DD-MM-YYYY\n",
    "    pattern3 = r'(\\d{4}-\\d{2}-\\d{2})' # YYYY-MM-DD\n",
    "    pattern4 = r'(\\d{2}/\\d{2}/\\d{4})' # DD/MM/YYYY\n",
    "    pattern5 = r'(\\d{4}/\\d{2}/\\d{2})' # YYYY/MM/DD\n",
    "\n",
    "    return re.findall(pattern1, text, re.IGNORECASE)+re.findall(pattern2, text, re.IGNORECASE)+re.findall(pattern3, text, re.IGNORECASE)+re.findall(pattern4, text, re.IGNORECASE)+re.findall(pattern5, text, re.IGNORECASE)"
   ],
   "metadata": {
    "collapsed": false,
    "ExecuteTime": {
     "end_time": "2024-10-16T21:14:06.536516Z",
     "start_time": "2024-10-16T21:14:06.413128Z"
    }
   },
   "id": "d1ea953d2f97ccc3"
  },
  {
   "cell_type": "code",
   "execution_count": 139,
   "outputs": [
    {
     "name": "stdout",
     "output_type": "stream",
     "text": [
      "Extracted times: ['14:30']\n",
      "Extracted dates: [('20 września', '20', 'września'), ('2 stycznia', '2', 'stycznia'), '01-12-2023', '01/12/2023', '2023/12/01']\n"
     ]
    }
   ],
   "source": [
    "#Sprawdzenie\n",
    "text = \"\"\"\n",
    "Spotkanie odbędzie się 20 września o 14:30.\n",
    "Rezerwacja jest na 01-12-2023, a czas to 09:45:15.\n",
    "Podano również daty 2023/12/01 oraz 01/12/2023.\n",
    "Czasami podaje się błędne godziny jak 25:00 albo daty jak 32 stycznia.\n",
    "\"\"\"\n",
    "\n",
    "extracted_times = extract_times(text)\n",
    "extracted_dates = extract_dates(text)\n",
    "\n",
    "print(\"Extracted times:\", extracted_times)\n",
    "print(\"Extracted dates:\", extracted_dates)"
   ],
   "metadata": {
    "collapsed": false,
    "ExecuteTime": {
     "end_time": "2024-10-16T21:14:06.540900Z",
     "start_time": "2024-10-16T21:14:06.424239Z"
    }
   },
   "id": "c799040d62952858"
  },
  {
   "cell_type": "markdown",
   "source": [
    "### 2. Search for occurrences of times and dates in the dataset."
   ],
   "metadata": {
    "collapsed": false
   },
   "id": "ad906051767ca80f"
  },
  {
   "cell_type": "code",
   "execution_count": 140,
   "outputs": [],
   "source": [
    "ex_times=df_texts.apply(extract_times)\n",
    "times=ex_times[ex_times.apply(lambda x: len(x)>0)]"
   ],
   "metadata": {
    "collapsed": false,
    "ExecuteTime": {
     "end_time": "2024-10-16T21:14:11.548312Z",
     "start_time": "2024-10-16T21:14:06.457774Z"
    }
   },
   "id": "5bbf30e270911c1e"
  },
  {
   "cell_type": "code",
   "execution_count": 141,
   "outputs": [
    {
     "data": {
      "text/plain": "49        [17:57:23, 17:57:23]\n137                     [6:17]\n165             [20:00, 17:00]\n191                    [22:00]\n264                    [12:00]\n                 ...          \n55716    [18:10, 20:30, 24:30]\n55860     [15:04:00, 15:04:00]\n55867           [16:00, 16:00]\n56143               [10:17:20]\n56348                   [5:53]\nName: text, Length: 281, dtype: object"
     },
     "execution_count": 141,
     "metadata": {},
     "output_type": "execute_result"
    }
   ],
   "source": [
    "times"
   ],
   "metadata": {
    "collapsed": false,
    "ExecuteTime": {
     "end_time": "2024-10-16T21:14:11.567065Z",
     "start_time": "2024-10-16T21:14:11.559927Z"
    }
   },
   "id": "1ed3abf768010427"
  },
  {
   "cell_type": "code",
   "execution_count": 142,
   "outputs": [],
   "source": [
    "ex_dates=df_texts.apply(extract_dates)\n",
    "dates=ex_dates[ex_dates.apply(lambda x: len(x)>0)]"
   ],
   "metadata": {
    "collapsed": false,
    "ExecuteTime": {
     "end_time": "2024-10-16T21:14:24.630761Z",
     "start_time": "2024-10-16T21:14:11.569794Z"
    }
   },
   "id": "6712eb226f25461f"
  },
  {
   "cell_type": "code",
   "execution_count": 143,
   "outputs": [
    {
     "data": {
      "text/plain": "6        [(1 czerwca, 1, czerwca), (1 sierpnia, 1, sier...\n49                                [2017-10-06, 2017-10-06]\n75       [(2 kwietnia, 2, kwietnia), (30 kwietnia, 30, ...\n87                                [2017/09/09, 2009/07/09]\n105      [(1 grudnia, 1, grudnia), (1 grudnia, 1, grudn...\n                               ...                        \n57360                          [(1 stycznia, 1, stycznia)]\n57448       [(4 lutego, 4, lutego), (31 marca, 31, marca)]\n57529                                         [2017-06-21]\n57570                  [(3 października, 3, października)]\n57591                                         [2010/11/10]\nName: text, Length: 1502, dtype: object"
     },
     "execution_count": 143,
     "metadata": {},
     "output_type": "execute_result"
    }
   ],
   "source": [
    "dates"
   ],
   "metadata": {
    "collapsed": false,
    "ExecuteTime": {
     "end_time": "2024-10-16T21:14:24.858057Z",
     "start_time": "2024-10-16T21:14:24.645261Z"
    }
   },
   "id": "c6331d75f6465f59"
  },
  {
   "cell_type": "markdown",
   "source": [
    "### 3. Plot results from point 2:\n",
    "###   * for times create a bar plot for full hours.\n",
    "###   * for dates create a bar plot for months."
   ],
   "metadata": {
    "collapsed": false
   },
   "id": "f85b7e9665fd9c1"
  },
  {
   "cell_type": "code",
   "execution_count": 144,
   "outputs": [],
   "source": [
    "full_hours_dict = defaultdict(lambda: 0)\n",
    "for match_list in times:\n",
    "    for element in match_list:\n",
    "        time_str = element\n",
    "        if ':' in time_str:\n",
    "            hour = int(time_str.split(':')[0])\n",
    "        else:\n",
    "            continue\n",
    "        full_hours_dict[hour] += 1"
   ],
   "metadata": {
    "collapsed": false,
    "ExecuteTime": {
     "end_time": "2024-10-16T21:14:24.935642Z",
     "start_time": "2024-10-16T21:14:24.702779Z"
    }
   },
   "id": "c1c37f237dd38c92"
  },
  {
   "cell_type": "code",
   "execution_count": 145,
   "outputs": [
    {
     "data": {
      "text/plain": "Text(0.5, 0, 'Hour')"
     },
     "execution_count": 145,
     "metadata": {},
     "output_type": "execute_result"
    },
    {
     "data": {
      "text/plain": "<Figure size 640x480 with 1 Axes>",
      "image/png": "[encoded data removed]"
     },
     "metadata": {},
     "output_type": "display_data"
    }
   ],
   "source": [
    "plt.bar(full_hours_dict.keys(), full_hours_dict.values())\n",
    "plt.title('Full hours')\n",
    "plt.ylabel('Amount')\n",
    "plt.xlabel('Hour')"
   ],
   "metadata": {
    "collapsed": false,
    "ExecuteTime": {
     "end_time": "2024-10-16T21:14:25.436205Z",
     "start_time": "2024-10-16T21:14:24.779516Z"
    }
   },
   "id": "4f04c355f4e8e035"
  },
  {
   "cell_type": "code",
   "execution_count": 146,
   "outputs": [
    {
     "data": {
      "text/plain": "<Figure size 640x480 with 1 Axes>",
      "image/png": "[encoded data removed]"
     },
     "metadata": {},
     "output_type": "display_data"
    }
   ],
   "source": [
    "month_mapping = {\n",
    "    1: 'sty',\n",
    "    2: 'lut',\n",
    "    3: 'mar',\n",
    "    4: 'kwi',\n",
    "    5: 'maj',\n",
    "    6: 'cze',\n",
    "    7: 'lip',\n",
    "    8: 'sie',\n",
    "    9: 'wrz',\n",
    "    10: 'paź',\n",
    "    11: 'lis',\n",
    "    12: 'gru'\n",
    "}\n",
    "\n",
    "months_dict = defaultdict(lambda: 0)\n",
    "for match_list in dates:\n",
    "    for el in match_list:\n",
    "        if isinstance(el, tuple):\n",
    "            el = el[0]\n",
    "\n",
    "        if '-' in el:\n",
    "            date_parts = el.split('-')\n",
    "            month = int(date_parts[1])\n",
    "            if month in month_mapping:\n",
    "                months_dict[month_mapping[month]] += 1\n",
    "\n",
    "        elif '/' in el:\n",
    "            date_parts = el.split('/')\n",
    "            month = int(date_parts[1])\n",
    "            if month in month_mapping:\n",
    "                months_dict[month_mapping[month]] += 1\n",
    "\n",
    "        elif el.split()[1][:3].lower() in month_mapping.values():\n",
    "            month_name = el.split()[1][:3].lower()\n",
    "            for key, value in month_mapping.items():\n",
    "                if value == month_name:\n",
    "                    months_dict[key] += 1\n",
    "\n",
    "ordered_months = ['sty', 'lut', 'mar', 'kwi', 'maj', 'cze', 'lip', 'sie', 'wrz', 'paź', 'lis', 'gru']\n",
    "sorted_months_dict = {month: months_dict[month] for month in ordered_months}\n",
    "\n",
    "\n",
    "plt.bar(sorted_months_dict.keys(), sorted_months_dict.values())\n",
    "plt.xlabel('Months')\n",
    "plt.ylabel('Amount')\n",
    "plt.show()"
   ],
   "metadata": {
    "collapsed": false,
    "ExecuteTime": {
     "end_time": "2024-10-16T21:14:25.735536Z",
     "start_time": "2024-10-16T21:14:25.395307Z"
    }
   },
   "id": "33bb2d54d1181667"
  },
  {
   "cell_type": "markdown",
   "source": [
    "### 4. Compute the number of occurrences of `kwiecień` word in any inflectional form. Use a compact form for the query (i.e. joining all forms of the word by alternative is forbidden)."
   ],
   "metadata": {
    "collapsed": false
   },
   "id": "f3dffa23686b3a41"
  },
  {
   "cell_type": "code",
   "execution_count": 147,
   "outputs": [],
   "source": [
    "def count_matches(texts, pattern):\n",
    "    matches: pd.Series = texts.apply(lambda x: regex.findall(pattern, x, re.IGNORECASE))\n",
    "    filtered_matches = matches[matches.apply(lambda x: len(x)>0)]\n",
    "    count = 0\n",
    "    for match_list in filtered_matches:\n",
    "        for match in match_list:\n",
    "            count += 1\n",
    "    return count"
   ],
   "metadata": {
    "collapsed": false,
    "ExecuteTime": {
     "end_time": "2024-10-16T21:14:25.738629Z",
     "start_time": "2024-10-16T21:14:25.726837Z"
    }
   },
   "id": "dc984a880088baa3"
  },
  {
   "cell_type": "code",
   "execution_count": 148,
   "outputs": [],
   "source": [
    "kwiecien_regex = r\"kwie(?:cień|tnia|tniowi|tniem|tniu|tnie|tni|tniami|cieniowy|tniom|tniach)\"\n",
    "number_regex = r\"(0?[1-9]|[1-2][0-9]|3[0-1])\""
   ],
   "metadata": {
    "collapsed": false,
    "ExecuteTime": {
     "end_time": "2024-10-16T21:14:25.826133Z",
     "start_time": "2024-10-16T21:14:25.740955Z"
    }
   },
   "id": "c9bc7176def3f960"
  },
  {
   "cell_type": "code",
   "execution_count": 149,
   "outputs": [],
   "source": [
    "alone=count_matches(df_texts, kwiecien_regex)"
   ],
   "metadata": {
    "collapsed": false,
    "ExecuteTime": {
     "end_time": "2024-10-16T21:14:27.894838Z",
     "start_time": "2024-10-16T21:14:25.759007Z"
    }
   },
   "id": "5cfbb32179708ec1"
  },
  {
   "cell_type": "code",
   "execution_count": 150,
   "outputs": [
    {
     "data": {
      "text/plain": "362"
     },
     "execution_count": 150,
     "metadata": {},
     "output_type": "execute_result"
    }
   ],
   "source": [
    "alone"
   ],
   "metadata": {
    "collapsed": false,
    "ExecuteTime": {
     "end_time": "2024-10-16T21:14:27.918334Z",
     "start_time": "2024-10-16T21:14:27.898739Z"
    }
   },
   "id": "7f727916a1cea38f"
  },
  {
   "cell_type": "markdown",
   "source": [
    "### 5. As in 4, but preceded by a number and a space."
   ],
   "metadata": {
    "collapsed": false
   },
   "id": "78c87732ace3b2b2"
  },
  {
   "cell_type": "code",
   "execution_count": 151,
   "outputs": [],
   "source": [
    "numandspace = count_matches(df_texts, fr'(({number_regex}) {kwiecien_regex})')"
   ],
   "metadata": {
    "collapsed": false,
    "ExecuteTime": {
     "end_time": "2024-10-16T21:14:29.086537Z",
     "start_time": "2024-10-16T21:14:27.906910Z"
    }
   },
   "id": "d93f08d866578fb7"
  },
  {
   "cell_type": "code",
   "execution_count": 152,
   "outputs": [
    {
     "data": {
      "text/plain": "201"
     },
     "execution_count": 152,
     "metadata": {},
     "output_type": "execute_result"
    }
   ],
   "source": [
    "numandspace"
   ],
   "metadata": {
    "collapsed": false,
    "ExecuteTime": {
     "end_time": "2024-10-16T21:14:29.116175Z",
     "start_time": "2024-10-16T21:14:29.089610Z"
    }
   },
   "id": "e7b4604529e52869"
  },
  {
   "cell_type": "markdown",
   "source": [
    "### 6. As in 4, but not preceded by a number and a space. Check if the results from 5 and 6 sum to 4."
   ],
   "metadata": {
    "collapsed": false
   },
   "id": "37e75fc92142b5a4"
  },
  {
   "cell_type": "code",
   "execution_count": 153,
   "outputs": [],
   "source": [
    "nonumandspace = count_matches(df_texts, fr'((?<!({number_regex} )){kwiecien_regex})')"
   ],
   "metadata": {
    "collapsed": false,
    "ExecuteTime": {
     "end_time": "2024-10-16T21:14:30.704753Z",
     "start_time": "2024-10-16T21:14:29.104042Z"
    }
   },
   "id": "2f8f18b4a735d67f"
  },
  {
   "cell_type": "code",
   "execution_count": 154,
   "outputs": [
    {
     "data": {
      "text/plain": "161"
     },
     "execution_count": 154,
     "metadata": {},
     "output_type": "execute_result"
    }
   ],
   "source": [
    "nonumandspace"
   ],
   "metadata": {
    "collapsed": false,
    "ExecuteTime": {
     "end_time": "2024-10-16T21:14:30.725245Z",
     "start_time": "2024-10-16T21:14:30.705221Z"
    }
   },
   "id": "49452fcc579b7a91"
  },
  {
   "cell_type": "code",
   "execution_count": 155,
   "outputs": [
    {
     "name": "stdout",
     "output_type": "stream",
     "text": [
      "362=201+161\n"
     ]
    }
   ],
   "source": [
    "print(f'{alone}={numandspace}+{nonumandspace}')"
   ],
   "metadata": {
    "collapsed": false,
    "ExecuteTime": {
     "end_time": "2024-10-16T21:14:30.855499Z",
     "start_time": "2024-10-16T21:14:30.716072Z"
    }
   },
   "id": "e83fefc8d200f83c"
  },
  {
   "cell_type": "markdown",
   "source": [
    "### 7. Ask an LLM (e.g. [Bielik](https://chat.bielik.ai/)) to complete these tasks for you. Compare and criticize the code generated by the LLM."
   ],
   "metadata": {
    "collapsed": false
   },
   "id": "b84ea1cc6b630da4"
  },
  {
   "cell_type": "markdown",
   "source": [
    "All code below was generated by LLM named Bielik"
   ],
   "metadata": {
    "collapsed": false
   },
   "id": "f742ba745f56cea3"
  },
  {
   "cell_type": "code",
   "execution_count": 156,
   "outputs": [
    {
     "name": "stdout",
     "output_type": "stream",
     "text": [
      "['15:30']\n",
      "['20 września']\n"
     ]
    }
   ],
   "source": [
    "# Zadanie 1\n",
    "import re\n",
    "# Wyrażenie regularne na czas\n",
    "time_regex = re.compile(r'\\d{1,2}:\\d{2}')\n",
    "\n",
    "# Wyrażenie regularne na datę\n",
    "date_regex = re.compile(r'\\d{1,2} \\w+')\n",
    "\n",
    "# Przykładowe testy\n",
    "print(time_regex.findall(\"Spotkanie odbędzie się o 15:30\"))  # Powinno zwrócić ['15:30']\n",
    "print(date_regex.findall(\"Urodziny mam 20 września\"))  # Powinno zwrócić ['20 września']"
   ],
   "metadata": {
    "collapsed": false,
    "ExecuteTime": {
     "end_time": "2024-10-16T21:14:30.857274Z",
     "start_time": "2024-10-16T21:14:30.735300Z"
    }
   },
   "id": "ed7aad42d39edfb0"
  },
  {
   "cell_type": "code",
   "execution_count": 157,
   "outputs": [
    {
     "name": "stdout",
     "output_type": "stream",
     "text": [
      "Znalezione czasy: ['14:30', '09:45', '25:00']\n",
      "Znalezione daty: ['20 września', '01 oraz', '00 albo', '32 stycznia']\n"
     ]
    }
   ],
   "source": [
    "# Zadanie 2\n",
    "import re\n",
    "# Wyrażenia regularne\n",
    "time_regex = re.compile(r'\\d{1,2}:\\d{2}')\n",
    "date_regex = re.compile(r'\\d{1,2} \\w+')\n",
    "\n",
    "# Wyszukiwanie czasów\n",
    "times = time_regex.findall(text)\n",
    "print(f\"Znalezione czasy: {times}\")\n",
    "\n",
    "# Wyszukiwanie dat\n",
    "dates = date_regex.findall(text)\n",
    "print(f\"Znalezione daty: {dates}\")"
   ],
   "metadata": {
    "collapsed": false,
    "ExecuteTime": {
     "end_time": "2024-10-16T21:14:30.858171Z",
     "start_time": "2024-10-16T21:14:30.763923Z"
    }
   },
   "id": "81ef0bf09406ab8c"
  },
  {
   "cell_type": "code",
   "execution_count": 158,
   "outputs": [
    {
     "data": {
      "text/plain": "<Figure size 1000x600 with 1 Axes>",
      "image/png": "[encoded data removed]"
     },
     "metadata": {},
     "output_type": "display_data"
    },
    {
     "data": {
      "text/plain": "<Figure size 1000x600 with 1 Axes>",
      "image/png": "[encoded data removed]"
     },
     "metadata": {},
     "output_type": "display_data"
    }
   ],
   "source": [
    "#Zadanie 3\n",
    "import re\n",
    "import matplotlib.pyplot as plt\n",
    "from collections import Counter\n",
    "\n",
    "# Wyrażenia regularne\n",
    "time_regex = re.compile(r'\\d{1,2}:\\d{2}')\n",
    "date_regex = re.compile(r'\\d{1,2} \\w+')\n",
    "\n",
    "\n",
    "# Wyszukiwanie czasów\n",
    "times = time_regex.findall(text)\n",
    "\n",
    "# Tworzenie słownika z liczbą wystąpień każdej godziny\n",
    "time_counts = Counter(time.split(\":\")[0] for time in times)\n",
    "\n",
    "# Tworzenie wykresu dla czasów\n",
    "plt.figure(figsize=(10, 6))\n",
    "plt.bar(range(24), [time_counts[str(hour)] for hour in range(24)], width=0.8, label=\"Czas\")\n",
    "plt.xticks(range(24), [f\"{hour}:00\" for hour in range(24)], rotation=45)\n",
    "plt.xlabel(\"Godzina\")\n",
    "plt.ylabel(\"Liczba wystąpień\")\n",
    "plt.title(\"Rozkład czasów\")\n",
    "plt.legend()\n",
    "plt.show()\n",
    "\n",
    "# Wyszukiwanie dat\n",
    "dates = date_regex.findall(text)\n",
    "\n",
    "# Tworzenie słownika z liczbą wystąpień każdego miesiąca\n",
    "date_counts = Counter(date.split()[1] for date in dates)\n",
    "\n",
    "# Tworzenie wykresu dla dat\n",
    "plt.figure(figsize=(10, 6))\n",
    "plt.bar(range(1, 13), [date_counts[month] for month in range(1, 13)], width=0.8, label=\"Miesiąc\")\n",
    "plt.xticks(range(1, 13), [\"styczeń\", \"luty\", \"marzec\", \"kwiecień\", \"maj\", \"czerwiec\", \"lipiec\", \"sierpień\", \"wrzesień\", \"październik\", \"listopad\", \"grudzień\"], rotation=45)\n",
    "plt.xlabel(\"Miesiąc\")\n",
    "plt.ylabel(\"Liczba wystąpień\")\n",
    "plt.title(\"Rozkład dat\")\n",
    "plt.legend()\n",
    "plt.show()"
   ],
   "metadata": {
    "collapsed": false,
    "ExecuteTime": {
     "end_time": "2024-10-16T21:14:31.745759Z",
     "start_time": "2024-10-16T21:14:30.771396Z"
    }
   },
   "id": "915e6a25c37fbd7e"
  },
  {
   "cell_type": "code",
   "execution_count": 159,
   "outputs": [
    {
     "ename": "LookupError",
     "evalue": "\n**********************************************************************\n  Resource \u001B[93mwordnet\u001B[0m not found.\n  Please use the NLTK Downloader to obtain the resource:\n\n  \u001B[31m>>> import nltk\n  >>> nltk.download('wordnet')\n  \u001B[0m\n  For more information see: https://www.nltk.org/data.html\n\n  Attempted to load \u001B[93mcorpora/wordnet\u001B[0m\n\n  Searched in:\n    - '/Users/kasia/nltk_data'\n    - '/Users/kasia/Desktop/nlp/venv/nltk_data'\n    - '/Users/kasia/Desktop/nlp/venv/share/nltk_data'\n    - '/Users/kasia/Desktop/nlp/venv/lib/nltk_data'\n    - '/usr/share/nltk_data'\n    - '/usr/local/share/nltk_data'\n    - '/usr/lib/nltk_data'\n    - '/usr/local/lib/nltk_data'\n**********************************************************************\n",
     "output_type": "error",
     "traceback": [
      "\u001B[0;31m---------------------------------------------------------------------------\u001B[0m",
      "\u001B[0;31mLookupError\u001B[0m                               Traceback (most recent call last)",
      "File \u001B[0;32m~/Desktop/nlp/venv/lib/python3.9/site-packages/nltk/corpus/util.py:84\u001B[0m, in \u001B[0;36mLazyCorpusLoader.__load\u001B[0;34m(self)\u001B[0m\n\u001B[1;32m     83\u001B[0m \u001B[38;5;28;01mtry\u001B[39;00m:\n\u001B[0;32m---> 84\u001B[0m     root \u001B[38;5;241m=\u001B[39m \u001B[43mnltk\u001B[49m\u001B[38;5;241;43m.\u001B[39;49m\u001B[43mdata\u001B[49m\u001B[38;5;241;43m.\u001B[39;49m\u001B[43mfind\u001B[49m\u001B[43m(\u001B[49m\u001B[38;5;124;43mf\u001B[39;49m\u001B[38;5;124;43m\"\u001B[39;49m\u001B[38;5;132;43;01m{\u001B[39;49;00m\u001B[38;5;28;43mself\u001B[39;49m\u001B[38;5;241;43m.\u001B[39;49m\u001B[43msubdir\u001B[49m\u001B[38;5;132;43;01m}\u001B[39;49;00m\u001B[38;5;124;43m/\u001B[39;49m\u001B[38;5;132;43;01m{\u001B[39;49;00m\u001B[43mzip_name\u001B[49m\u001B[38;5;132;43;01m}\u001B[39;49;00m\u001B[38;5;124;43m\"\u001B[39;49m\u001B[43m)\u001B[49m\n\u001B[1;32m     85\u001B[0m \u001B[38;5;28;01mexcept\u001B[39;00m \u001B[38;5;167;01mLookupError\u001B[39;00m:\n",
      "File \u001B[0;32m~/Desktop/nlp/venv/lib/python3.9/site-packages/nltk/data.py:579\u001B[0m, in \u001B[0;36mfind\u001B[0;34m(resource_name, paths)\u001B[0m\n\u001B[1;32m    578\u001B[0m resource_not_found \u001B[38;5;241m=\u001B[39m \u001B[38;5;124mf\u001B[39m\u001B[38;5;124m\"\u001B[39m\u001B[38;5;130;01m\\n\u001B[39;00m\u001B[38;5;132;01m{\u001B[39;00msep\u001B[38;5;132;01m}\u001B[39;00m\u001B[38;5;130;01m\\n\u001B[39;00m\u001B[38;5;132;01m{\u001B[39;00mmsg\u001B[38;5;132;01m}\u001B[39;00m\u001B[38;5;130;01m\\n\u001B[39;00m\u001B[38;5;132;01m{\u001B[39;00msep\u001B[38;5;132;01m}\u001B[39;00m\u001B[38;5;130;01m\\n\u001B[39;00m\u001B[38;5;124m\"\u001B[39m\n\u001B[0;32m--> 579\u001B[0m \u001B[38;5;28;01mraise\u001B[39;00m \u001B[38;5;167;01mLookupError\u001B[39;00m(resource_not_found)\n",
      "\u001B[0;31mLookupError\u001B[0m: \n**********************************************************************\n  Resource \u001B[93mwordnet\u001B[0m not found.\n  Please use the NLTK Downloader to obtain the resource:\n\n  \u001B[31m>>> import nltk\n  >>> nltk.download('wordnet')\n  \u001B[0m\n  For more information see: https://www.nltk.org/data.html\n\n  Attempted to load \u001B[93mcorpora/wordnet.zip/wordnet/\u001B[0m\n\n  Searched in:\n    - '/Users/kasia/nltk_data'\n    - '/Users/kasia/Desktop/nlp/venv/nltk_data'\n    - '/Users/kasia/Desktop/nlp/venv/share/nltk_data'\n    - '/Users/kasia/Desktop/nlp/venv/lib/nltk_data'\n    - '/usr/share/nltk_data'\n    - '/usr/local/share/nltk_data'\n    - '/usr/lib/nltk_data'\n    - '/usr/local/lib/nltk_data'\n**********************************************************************\n",
      "\nDuring handling of the above exception, another exception occurred:\n",
      "\u001B[0;31mLookupError\u001B[0m                               Traceback (most recent call last)",
      "Cell \u001B[0;32mIn[159], line 12\u001B[0m\n\u001B[1;32m      9\u001B[0m lemmatizer \u001B[38;5;241m=\u001B[39m WordNetLemmatizer()\n\u001B[1;32m     11\u001B[0m \u001B[38;5;66;03m# Wyszukiwanie słowa \"kwiecień\" we wszystkich formach\u001B[39;00m\n\u001B[0;32m---> 12\u001B[0m forms \u001B[38;5;241m=\u001B[39m [lemmatizer\u001B[38;5;241m.\u001B[39mlemmatize(word, \u001B[38;5;124m\"\u001B[39m\u001B[38;5;124mnoun\u001B[39m\u001B[38;5;124m\"\u001B[39m) \u001B[38;5;28;01mfor\u001B[39;00m word \u001B[38;5;129;01min\u001B[39;00m re\u001B[38;5;241m.\u001B[39mfindall(\u001B[38;5;124mr\u001B[39m\u001B[38;5;124m'\u001B[39m\u001B[38;5;124m\\\u001B[39m\u001B[38;5;124mw+\u001B[39m\u001B[38;5;124m'\u001B[39m, text) \u001B[38;5;28;01mif\u001B[39;00m lemmatizer\u001B[38;5;241m.\u001B[39mlemmatize(word, \u001B[38;5;124m\"\u001B[39m\u001B[38;5;124mnoun\u001B[39m\u001B[38;5;124m\"\u001B[39m) \u001B[38;5;241m==\u001B[39m \u001B[38;5;124m\"\u001B[39m\u001B[38;5;124mkwiecień\u001B[39m\u001B[38;5;124m\"\u001B[39m]\n\u001B[1;32m     14\u001B[0m \u001B[38;5;66;03m# Policz wystąpienia\u001B[39;00m\n\u001B[1;32m     15\u001B[0m kwiecien_count \u001B[38;5;241m=\u001B[39m \u001B[38;5;28mlen\u001B[39m(forms)\n",
      "Cell \u001B[0;32mIn[159], line 12\u001B[0m, in \u001B[0;36m<listcomp>\u001B[0;34m(.0)\u001B[0m\n\u001B[1;32m      9\u001B[0m lemmatizer \u001B[38;5;241m=\u001B[39m WordNetLemmatizer()\n\u001B[1;32m     11\u001B[0m \u001B[38;5;66;03m# Wyszukiwanie słowa \"kwiecień\" we wszystkich formach\u001B[39;00m\n\u001B[0;32m---> 12\u001B[0m forms \u001B[38;5;241m=\u001B[39m [lemmatizer\u001B[38;5;241m.\u001B[39mlemmatize(word, \u001B[38;5;124m\"\u001B[39m\u001B[38;5;124mnoun\u001B[39m\u001B[38;5;124m\"\u001B[39m) \u001B[38;5;28;01mfor\u001B[39;00m word \u001B[38;5;129;01min\u001B[39;00m re\u001B[38;5;241m.\u001B[39mfindall(\u001B[38;5;124mr\u001B[39m\u001B[38;5;124m'\u001B[39m\u001B[38;5;124m\\\u001B[39m\u001B[38;5;124mw+\u001B[39m\u001B[38;5;124m'\u001B[39m, text) \u001B[38;5;28;01mif\u001B[39;00m \u001B[43mlemmatizer\u001B[49m\u001B[38;5;241;43m.\u001B[39;49m\u001B[43mlemmatize\u001B[49m\u001B[43m(\u001B[49m\u001B[43mword\u001B[49m\u001B[43m,\u001B[49m\u001B[43m \u001B[49m\u001B[38;5;124;43m\"\u001B[39;49m\u001B[38;5;124;43mnoun\u001B[39;49m\u001B[38;5;124;43m\"\u001B[39;49m\u001B[43m)\u001B[49m \u001B[38;5;241m==\u001B[39m \u001B[38;5;124m\"\u001B[39m\u001B[38;5;124mkwiecień\u001B[39m\u001B[38;5;124m\"\u001B[39m]\n\u001B[1;32m     14\u001B[0m \u001B[38;5;66;03m# Policz wystąpienia\u001B[39;00m\n\u001B[1;32m     15\u001B[0m kwiecien_count \u001B[38;5;241m=\u001B[39m \u001B[38;5;28mlen\u001B[39m(forms)\n",
      "File \u001B[0;32m~/Desktop/nlp/venv/lib/python3.9/site-packages/nltk/stem/wordnet.py:85\u001B[0m, in \u001B[0;36mWordNetLemmatizer.lemmatize\u001B[0;34m(self, word, pos)\u001B[0m\n\u001B[1;32m     60\u001B[0m \u001B[38;5;28;01mdef\u001B[39;00m \u001B[38;5;21mlemmatize\u001B[39m(\u001B[38;5;28mself\u001B[39m, word: \u001B[38;5;28mstr\u001B[39m, pos: \u001B[38;5;28mstr\u001B[39m \u001B[38;5;241m=\u001B[39m \u001B[38;5;124m\"\u001B[39m\u001B[38;5;124mn\u001B[39m\u001B[38;5;124m\"\u001B[39m) \u001B[38;5;241m-\u001B[39m\u001B[38;5;241m>\u001B[39m \u001B[38;5;28mstr\u001B[39m:\n\u001B[1;32m     61\u001B[0m \u001B[38;5;250m    \u001B[39m\u001B[38;5;124;03m\"\"\"Lemmatize `word` by picking the shortest of the possible lemmas,\u001B[39;00m\n\u001B[1;32m     62\u001B[0m \u001B[38;5;124;03m    using the wordnet corpus reader's built-in _morphy function.\u001B[39;00m\n\u001B[1;32m     63\u001B[0m \u001B[38;5;124;03m    Returns the input word unchanged if it cannot be found in WordNet.\u001B[39;00m\n\u001B[0;32m   (...)\u001B[0m\n\u001B[1;32m     83\u001B[0m \u001B[38;5;124;03m    :return: The shortest lemma of `word`, for the given `pos`.\u001B[39;00m\n\u001B[1;32m     84\u001B[0m \u001B[38;5;124;03m    \"\"\"\u001B[39;00m\n\u001B[0;32m---> 85\u001B[0m     lemmas \u001B[38;5;241m=\u001B[39m \u001B[38;5;28;43mself\u001B[39;49m\u001B[38;5;241;43m.\u001B[39;49m\u001B[43m_morphy\u001B[49m\u001B[43m(\u001B[49m\u001B[43mword\u001B[49m\u001B[43m,\u001B[49m\u001B[43m \u001B[49m\u001B[43mpos\u001B[49m\u001B[43m)\u001B[49m\n\u001B[1;32m     86\u001B[0m     \u001B[38;5;28;01mreturn\u001B[39;00m \u001B[38;5;28mmin\u001B[39m(lemmas, key\u001B[38;5;241m=\u001B[39m\u001B[38;5;28mlen\u001B[39m) \u001B[38;5;28;01mif\u001B[39;00m lemmas \u001B[38;5;28;01melse\u001B[39;00m word\n",
      "File \u001B[0;32m~/Desktop/nlp/venv/lib/python3.9/site-packages/nltk/stem/wordnet.py:41\u001B[0m, in \u001B[0;36mWordNetLemmatizer._morphy\u001B[0;34m(self, form, pos, check_exceptions)\u001B[0m\n\u001B[1;32m     31\u001B[0m \u001B[38;5;250m\u001B[39m\u001B[38;5;124;03m\"\"\"\u001B[39;00m\n\u001B[1;32m     32\u001B[0m \u001B[38;5;124;03m_morphy() is WordNet's _morphy lemmatizer.\u001B[39;00m\n\u001B[1;32m     33\u001B[0m \u001B[38;5;124;03mIt returns a list of all lemmas found in WordNet.\u001B[39;00m\n\u001B[0;32m   (...)\u001B[0m\n\u001B[1;32m     37\u001B[0m \u001B[38;5;124;03m['us', 'u']\u001B[39;00m\n\u001B[1;32m     38\u001B[0m \u001B[38;5;124;03m\"\"\"\u001B[39;00m\n\u001B[1;32m     39\u001B[0m \u001B[38;5;28;01mfrom\u001B[39;00m \u001B[38;5;21;01mnltk\u001B[39;00m\u001B[38;5;21;01m.\u001B[39;00m\u001B[38;5;21;01mcorpus\u001B[39;00m \u001B[38;5;28;01mimport\u001B[39;00m wordnet \u001B[38;5;28;01mas\u001B[39;00m wn\n\u001B[0;32m---> 41\u001B[0m \u001B[38;5;28;01mreturn\u001B[39;00m \u001B[43mwn\u001B[49m\u001B[38;5;241;43m.\u001B[39;49m\u001B[43m_morphy\u001B[49m(form, pos, check_exceptions)\n",
      "File \u001B[0;32m~/Desktop/nlp/venv/lib/python3.9/site-packages/nltk/corpus/util.py:120\u001B[0m, in \u001B[0;36mLazyCorpusLoader.__getattr__\u001B[0;34m(self, attr)\u001B[0m\n\u001B[1;32m    117\u001B[0m \u001B[38;5;28;01mif\u001B[39;00m attr \u001B[38;5;241m==\u001B[39m \u001B[38;5;124m\"\u001B[39m\u001B[38;5;124m__bases__\u001B[39m\u001B[38;5;124m\"\u001B[39m:\n\u001B[1;32m    118\u001B[0m     \u001B[38;5;28;01mraise\u001B[39;00m \u001B[38;5;167;01mAttributeError\u001B[39;00m(\u001B[38;5;124m\"\u001B[39m\u001B[38;5;124mLazyCorpusLoader object has no attribute \u001B[39m\u001B[38;5;124m'\u001B[39m\u001B[38;5;124m__bases__\u001B[39m\u001B[38;5;124m'\u001B[39m\u001B[38;5;124m\"\u001B[39m)\n\u001B[0;32m--> 120\u001B[0m \u001B[38;5;28;43mself\u001B[39;49m\u001B[38;5;241;43m.\u001B[39;49m\u001B[43m__load\u001B[49m\u001B[43m(\u001B[49m\u001B[43m)\u001B[49m\n\u001B[1;32m    121\u001B[0m \u001B[38;5;66;03m# This looks circular, but its not, since __load() changes our\u001B[39;00m\n\u001B[1;32m    122\u001B[0m \u001B[38;5;66;03m# __class__ to something new:\u001B[39;00m\n\u001B[1;32m    123\u001B[0m \u001B[38;5;28;01mreturn\u001B[39;00m \u001B[38;5;28mgetattr\u001B[39m(\u001B[38;5;28mself\u001B[39m, attr)\n",
      "File \u001B[0;32m~/Desktop/nlp/venv/lib/python3.9/site-packages/nltk/corpus/util.py:86\u001B[0m, in \u001B[0;36mLazyCorpusLoader.__load\u001B[0;34m(self)\u001B[0m\n\u001B[1;32m     84\u001B[0m             root \u001B[38;5;241m=\u001B[39m nltk\u001B[38;5;241m.\u001B[39mdata\u001B[38;5;241m.\u001B[39mfind(\u001B[38;5;124mf\u001B[39m\u001B[38;5;124m\"\u001B[39m\u001B[38;5;132;01m{\u001B[39;00m\u001B[38;5;28mself\u001B[39m\u001B[38;5;241m.\u001B[39msubdir\u001B[38;5;132;01m}\u001B[39;00m\u001B[38;5;124m/\u001B[39m\u001B[38;5;132;01m{\u001B[39;00mzip_name\u001B[38;5;132;01m}\u001B[39;00m\u001B[38;5;124m\"\u001B[39m)\n\u001B[1;32m     85\u001B[0m         \u001B[38;5;28;01mexcept\u001B[39;00m \u001B[38;5;167;01mLookupError\u001B[39;00m:\n\u001B[0;32m---> 86\u001B[0m             \u001B[38;5;28;01mraise\u001B[39;00m e\n\u001B[1;32m     88\u001B[0m \u001B[38;5;66;03m# Load the corpus.\u001B[39;00m\n\u001B[1;32m     89\u001B[0m corpus \u001B[38;5;241m=\u001B[39m \u001B[38;5;28mself\u001B[39m\u001B[38;5;241m.\u001B[39m__reader_cls(root, \u001B[38;5;241m*\u001B[39m\u001B[38;5;28mself\u001B[39m\u001B[38;5;241m.\u001B[39m__args, \u001B[38;5;241m*\u001B[39m\u001B[38;5;241m*\u001B[39m\u001B[38;5;28mself\u001B[39m\u001B[38;5;241m.\u001B[39m__kwargs)\n",
      "File \u001B[0;32m~/Desktop/nlp/venv/lib/python3.9/site-packages/nltk/corpus/util.py:81\u001B[0m, in \u001B[0;36mLazyCorpusLoader.__load\u001B[0;34m(self)\u001B[0m\n\u001B[1;32m     79\u001B[0m \u001B[38;5;28;01melse\u001B[39;00m:\n\u001B[1;32m     80\u001B[0m     \u001B[38;5;28;01mtry\u001B[39;00m:\n\u001B[0;32m---> 81\u001B[0m         root \u001B[38;5;241m=\u001B[39m \u001B[43mnltk\u001B[49m\u001B[38;5;241;43m.\u001B[39;49m\u001B[43mdata\u001B[49m\u001B[38;5;241;43m.\u001B[39;49m\u001B[43mfind\u001B[49m\u001B[43m(\u001B[49m\u001B[38;5;124;43mf\u001B[39;49m\u001B[38;5;124;43m\"\u001B[39;49m\u001B[38;5;132;43;01m{\u001B[39;49;00m\u001B[38;5;28;43mself\u001B[39;49m\u001B[38;5;241;43m.\u001B[39;49m\u001B[43msubdir\u001B[49m\u001B[38;5;132;43;01m}\u001B[39;49;00m\u001B[38;5;124;43m/\u001B[39;49m\u001B[38;5;132;43;01m{\u001B[39;49;00m\u001B[38;5;28;43mself\u001B[39;49m\u001B[38;5;241;43m.\u001B[39;49m\u001B[43m__name\u001B[49m\u001B[38;5;132;43;01m}\u001B[39;49;00m\u001B[38;5;124;43m\"\u001B[39;49m\u001B[43m)\u001B[49m\n\u001B[1;32m     82\u001B[0m     \u001B[38;5;28;01mexcept\u001B[39;00m \u001B[38;5;167;01mLookupError\u001B[39;00m \u001B[38;5;28;01mas\u001B[39;00m e:\n\u001B[1;32m     83\u001B[0m         \u001B[38;5;28;01mtry\u001B[39;00m:\n",
      "File \u001B[0;32m~/Desktop/nlp/venv/lib/python3.9/site-packages/nltk/data.py:579\u001B[0m, in \u001B[0;36mfind\u001B[0;34m(resource_name, paths)\u001B[0m\n\u001B[1;32m    577\u001B[0m sep \u001B[38;5;241m=\u001B[39m \u001B[38;5;124m\"\u001B[39m\u001B[38;5;124m*\u001B[39m\u001B[38;5;124m\"\u001B[39m \u001B[38;5;241m*\u001B[39m \u001B[38;5;241m70\u001B[39m\n\u001B[1;32m    578\u001B[0m resource_not_found \u001B[38;5;241m=\u001B[39m \u001B[38;5;124mf\u001B[39m\u001B[38;5;124m\"\u001B[39m\u001B[38;5;130;01m\\n\u001B[39;00m\u001B[38;5;132;01m{\u001B[39;00msep\u001B[38;5;132;01m}\u001B[39;00m\u001B[38;5;130;01m\\n\u001B[39;00m\u001B[38;5;132;01m{\u001B[39;00mmsg\u001B[38;5;132;01m}\u001B[39;00m\u001B[38;5;130;01m\\n\u001B[39;00m\u001B[38;5;132;01m{\u001B[39;00msep\u001B[38;5;132;01m}\u001B[39;00m\u001B[38;5;130;01m\\n\u001B[39;00m\u001B[38;5;124m\"\u001B[39m\n\u001B[0;32m--> 579\u001B[0m \u001B[38;5;28;01mraise\u001B[39;00m \u001B[38;5;167;01mLookupError\u001B[39;00m(resource_not_found)\n",
      "\u001B[0;31mLookupError\u001B[0m: \n**********************************************************************\n  Resource \u001B[93mwordnet\u001B[0m not found.\n  Please use the NLTK Downloader to obtain the resource:\n\n  \u001B[31m>>> import nltk\n  >>> nltk.download('wordnet')\n  \u001B[0m\n  For more information see: https://www.nltk.org/data.html\n\n  Attempted to load \u001B[93mcorpora/wordnet\u001B[0m\n\n  Searched in:\n    - '/Users/kasia/nltk_data'\n    - '/Users/kasia/Desktop/nlp/venv/nltk_data'\n    - '/Users/kasia/Desktop/nlp/venv/share/nltk_data'\n    - '/Users/kasia/Desktop/nlp/venv/lib/nltk_data'\n    - '/usr/share/nltk_data'\n    - '/usr/local/share/nltk_data'\n    - '/usr/lib/nltk_data'\n    - '/usr/local/lib/nltk_data'\n**********************************************************************\n"
     ]
    }
   ],
   "source": [
    "# Zadanie 4\n",
    "import re\n",
    "from nltk.stem import WordNetLemmatizer\n",
    "\n",
    "# Wyrażenie regularne na słowo \"kwiecień\"\n",
    "word_regex = re.compile(r'\\bkwiecień\\b')\n",
    "\n",
    "# Inicjalizacja lematyzatora\n",
    "lemmatizer = WordNetLemmatizer()\n",
    "\n",
    "# Wyszukiwanie słowa \"kwiecień\" we wszystkich formach\n",
    "forms = [lemmatizer.lemmatize(word, \"noun\") for word in re.findall(r'\\w+', text) if lemmatizer.lemmatize(word, \"noun\") == \"kwiecień\"]\n",
    "\n",
    "# Policz wystąpienia\n",
    "kwiecien_count = len(forms)\n",
    "\n",
    "print(f\"Liczba wystąpień słowa 'kwiecień' we wszystkich formach: {kwiecien_count}\")"
   ],
   "metadata": {
    "collapsed": false,
    "ExecuteTime": {
     "end_time": "2024-10-16T21:14:32.531956Z",
     "start_time": "2024-10-16T21:14:31.750661Z"
    }
   },
   "id": "da1f1d45a6e95258"
  },
  {
   "cell_type": "code",
   "execution_count": null,
   "outputs": [],
   "source": [
    "# Zadanie 5\n",
    "import re\n",
    "from nltk.stem import WordNetLemmatizer\n",
    "\n",
    "# Wyrażenie regularne na słowo \"kwiecień\" poprzedzone liczbą i spacją\n",
    "word_regex = re.compile(r'\\d+\\s+kwiecień\\b')\n",
    "\n",
    "# Inicjalizacja lematyzatora\n",
    "lemmatizer = WordNetLemmatizer()\n",
    "\n",
    "# Wyszukiwanie słowa \"kwiecień\" poprzedzonego liczbą i spacją\n",
    "forms_with_number = [word for word in re.findall(word_regex, text) if lemmatizer.lemmatize(word, \"noun\") == \"kwiecień\"]\n",
    "\n",
    "# Policz wystąpienia\n",
    "kwiecien_count_with_number = len(forms_with_number)\n",
    "\n",
    "print(f\"Liczba wystąpień słowa 'kwiecień' poprzedzonego liczbą i spacją: {kwiecien_count_with_number}\")"
   ],
   "metadata": {
    "collapsed": false,
    "ExecuteTime": {
     "start_time": "2024-10-16T21:14:32.514851Z"
    }
   },
   "id": "3104ab30c96c16aa"
  },
  {
   "cell_type": "code",
   "execution_count": null,
   "outputs": [],
   "source": [
    "# Zadanie 6\n",
    "\n",
    "import re\n",
    "from nltk.stem import WordNetLemmatizer\n",
    "\n",
    "# Wyrażenie regularne na słowo \"kwiecień\" niepoprzedzone liczbą i spacją\n",
    "word_regex = re.compile(r'\\bkwiecień\\b')\n",
    "\n",
    "# Inicjalizacja lematyzatora\n",
    "lemmatizer = WordNetLemmatizer()\n",
    "\n",
    "\n",
    "# Wyszukiwanie słowa \"kwiecień\" niepoprzedzonego liczbą i spacją\n",
    "forms_without_number = [word for word in re.findall(word_regex, text) if lemmatizer.lemmatize(word, \"noun\") == \"kwiecień\"]\n",
    "\n",
    "# Policz wystąpienia\n",
    "kwiecien_count_without_number = len(forms_without_number)\n",
    "\n",
    "print(f\"Liczba wystąpień słowa 'kwiecień' niepoprzedzonego liczbą i spacją: {kwiecien_count_without_number}\")"
   ],
   "metadata": {
    "collapsed": false,
    "ExecuteTime": {
     "start_time": "2024-10-16T21:14:32.517687Z"
    }
   },
   "id": "c82475343fb12875"
  },
  {
   "cell_type": "markdown",
   "source": [
    "Overall, the original code consistently outperformed Bielik's by providing more practical and robust solutions. It effectively handled diverse data formats, larger datasets, and various inflections, such as \"kwiecień,\" using advanced regular expressions and data processing techniques. The original code also included validation steps to ensure accuracy, making it better suited for real-world applications. In contrast, Bielik's code was simpler, often lacked error handling, and struggled with complex tasks, such as using an English lemmatizer for Polish words. Ultimately, the original code was more versatile, accurate, and efficient, while Bielik's solutions were limited to basic examples and less reliable for data analysis."
   ],
   "metadata": {
    "collapsed": false
   },
   "id": "629e09fb5acbd19c"
  },
  {
   "cell_type": "markdown",
   "source": [
    "## Answer the following questions (2 points):\n",
    "\n",
    "#### 1. Are regular expressions good at capturing times?\n",
    "Regular expressions can be effective for extracting time from text when dealing with relatively simple time patterns. Although accounting for all possible formatting variations can be challenging, it is definitely achievable.\n",
    "#### 2. Are regular expressions good at capturing dates?\n",
    "They can be used to capture dates, but they are not the best tool for this task. The variation in date formats across regions and languages can make them less effective at accurately handling all possible cases.\n",
    "#### 3. How one can be sure that the expression has matched all and only the correct expressions of a given type?\n",
    "It’s essential to understand the problem well and keep in mind any possible variations or edge cases. Writing tests can help make sure that only the correct patterns are matched. When dealing with complex regular expressions, getting a fresh perspective can be helpful—for instance, asking a friend or family member how they usually write dates.\n",
    "#### 4. Is LLM able to generate regular expressions?\n",
    "Yes, a language model (LLM) can generate regular expressions based on a description of the desired pattern. It can help create expressions for common use cases, such as matching email addresses or phone numbers. However, for more complex patterns, the generated regular expressions might need some refinement or adjustments to ensure they match exactly what’s intended."
   ],
   "metadata": {
    "collapsed": false
   },
   "id": "b0887fd5d8b5a49c"
  },
  {
   "cell_type": "markdown",
   "source": [
    "## Hints\n",
    "\n",
    "* Some programming languages allow to use Unicode classes in regular expressions, e.g.\n",
    "  * `\\p{L}` - letters from any alphabet (e.g. a, ą, ć, ü, カ)\n",
    "  * `\\p{Ll}` - small letters from any alphabet\n",
    "  * `\\p{Lu}` - capital letters from any alphabet\n",
    "* Not all regular expressions engines support Unicode classes, e.g. `re` from Python does not.\n",
    "  Yet you can use `regex` library (`pip install regex`), which has much more features.\n",
    "* Regular expressions can include positive and negative lookahead and lookbehind constructions, e.g.\n",
    "  * *positive lookahead* - `(\\w+)(?= has a cat)` will match in the string `Ann has a cat`, but it will match `Ann` only.\n",
    "  * *negative lookbehind* - `(?<!New )(York)`, will match `York` in `Yorkshire` but not in `New York`.\n",
    "* `\\b` matches a word border. Regexp `fish` will match in `jellyfish`, but `\\bfish\\b` will only match `fish`.\n",
    "  In the case of Python you should use either `'\\\\bfish\\\\b'` or `r'\\bfish\\b'`.\n",
    "* `\\b` is dependent on what is understood by \"word\". For instance in Ruby polish diacritics are not treated as parts of\n",
    "  a word, thus `\\bpsu\\b` will match both `psu` and `psuć`, since `ć` is a non-word character in Ruby.\n",
    "* Some languages, e.g. Ruby, support regexp match operator as well as regexp literals (`=~`, /fish/ respectively \n",
    "  in the case of Ruby and Perl). Notably Python does not support either.\n",
    "* You should be very careful when copying regexps from Internet - different languages and even different versions of the\n",
    "  same language may interpret them differently, so make sure to always test them on a large set of diversified examples.\n",
    "* You can try regexes using https://regex101.com. It allows you to compare the matches between different programming languages.\n",
    "* You can use `datasets` Python library, to facilitate downloading and loading of the `clarin-knext/fiqa-pl` dataset."
   ],
   "metadata": {
    "collapsed": false
   },
   "id": "6f144fde0e68eda3"
  },
  {
   "cell_type": "code",
   "execution_count": null,
   "outputs": [],
   "source": [],
   "metadata": {
    "collapsed": false
   },
   "id": "a9e2ab804bd7b8c3"
  }
 ],
 "metadata": {
  "kernelspec": {
   "display_name": "Python 3",
   "language": "python",
   "name": "python3"
  },
  "language_info": {
   "codemirror_mode": {
    "name": "ipython",
    "version": 2
   },
   "file_extension": ".py",
   "mimetype": "text/x-python",
   "name": "python",
   "nbconvert_exporter": "python",
   "pygments_lexer": "ipython2",
   "version": "2.7.6"
  }
 },
 "nbformat": 4,
 "nbformat_minor": 5
}
