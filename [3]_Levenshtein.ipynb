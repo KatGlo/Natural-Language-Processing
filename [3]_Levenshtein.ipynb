{
 "cells": [
  {
   "cell_type": "markdown",
   "id": "8a20988bfc2da1d3",
   "metadata": {
    "collapsed": false
   },
   "source": [
    "# Levenshtein distance and spelling corrections\n",
    "\n",
    "The task introduces the Levenshtein distance - a measure that is useful in tasks such as approximate string matching.\n"
   ]
  },
  {
   "cell_type": "markdown",
   "id": "7e233fc11b0d0c91",
   "metadata": {
    "collapsed": false
   },
   "source": [
    "Imports"
   ]
  },
  {
   "cell_type": "code",
   "execution_count": 108,
   "id": "2d49f07e-b7d3-4d3c-a39c-afddc56f0e74",
   "metadata": {
    "collapsed": false,
    "ExecuteTime": {
     "end_time": "2024-11-08T19:29:12.749504Z",
     "start_time": "2024-11-08T19:29:11.138796400Z"
    }
   },
   "outputs": [],
   "source": [
    "from datasets import load_dataset\n",
    "import spacy\n",
    "from spacy.tokenizer import Tokenizer\n",
    "from spacy.lang.pl import Polish\n",
    "from collections import Counter, defaultdict\n",
    "import random\n",
    "import string\n",
    "import morfeusz2\n",
    "import matplotlib.pyplot as plt\n",
    "import ast\n",
    "from Levenshtein import distance\n",
    "import pandas as pd\n",
    "from elasticsearch import Elasticsearch\n",
    "from tqdm import tqdm\n",
    "import numpy as np\n",
    "\n",
    "tqdm.pandas()"
   ]
  },
  {
   "cell_type": "markdown",
   "id": "2fa75f78eaafcf0a",
   "metadata": {
    "collapsed": false
   },
   "source": [
    "## Tasks\n",
    "\n",
    "Task objectives (8 points):\n",
    "1. Use the corpus from exercise no. 1."
   ]
  },
  {
   "cell_type": "code",
   "execution_count": 109,
   "id": "eb5f7cf0fd20c4c3",
   "metadata": {
    "collapsed": false,
    "ExecuteTime": {
     "end_time": "2024-11-08T19:29:14.276428500Z",
     "start_time": "2024-11-08T19:29:11.207260700Z"
    }
   },
   "outputs": [],
   "source": [
    "dataset = load_dataset(\"clarin-knext/fiqa-pl\", \"queries\")"
   ]
  },
  {
   "cell_type": "code",
   "execution_count": 110,
   "id": "921879b07ef0ad7",
   "metadata": {
    "collapsed": false,
    "ExecuteTime": {
     "end_time": "2024-11-08T19:29:14.276937700Z",
     "start_time": "2024-11-08T19:29:13.233466200Z"
    }
   },
   "outputs": [
    {
     "data": {
      "text/plain": "DatasetDict({\n    queries: Dataset({\n        features: ['_id', 'title', 'text'],\n        num_rows: 6648\n    })\n})"
     },
     "execution_count": 110,
     "metadata": {},
     "output_type": "execute_result"
    }
   ],
   "source": [
    "dataset"
   ]
  },
  {
   "cell_type": "code",
   "execution_count": 111,
   "id": "ffd1dcfb2a0e924",
   "metadata": {
    "collapsed": false,
    "ExecuteTime": {
     "end_time": "2024-11-08T19:29:14.276937700Z",
     "start_time": "2024-11-08T19:29:13.265233500Z"
    }
   },
   "outputs": [],
   "source": [
    "df=pd.DataFrame(dataset['queries'])"
   ]
  },
  {
   "cell_type": "code",
   "execution_count": 112,
   "id": "70999a797feb3823",
   "metadata": {
    "collapsed": false,
    "ExecuteTime": {
     "end_time": "2024-11-08T19:29:14.293827900Z",
     "start_time": "2024-11-08T19:29:13.860222700Z"
    }
   },
   "outputs": [
    {
     "data": {
      "text/plain": "       _id title                                               text\n0        0        Co jest uważane za wydatek służbowy w podróży ...\n1        4        Wydatki służbowe - ubezpieczenie samochodu pod...\n2        5                        Rozpoczęcie nowego biznesu online\n3        6           „Dzień roboczy” i „termin płatności” rachunków\n4        7        Nowy właściciel firmy – Jak działają podatki d...\n...    ...   ...                                                ...\n6643  4102        Jak mogę ustalić, czy moja stopa zwrotu jest „...\n6644  3566        Gdzie mogę kupić akcje, jeśli chcę zainwestowa...\n6645    94        Wykorzystywanie punktów kart kredytowych do op...\n6646  2551        Jak znaleźć tańszą alternatywę dla tradycyjnej...\n6647  2399        Skąd strony internetowe uzyskują informacje o ...\n\n[6648 rows x 3 columns]",
      "text/html": "<div>\n<style scoped>\n    .dataframe tbody tr th:only-of-type {\n        vertical-align: middle;\n    }\n\n    .dataframe tbody tr th {\n        vertical-align: top;\n    }\n\n    .dataframe thead th {\n        text-align: right;\n    }\n</style>\n<table border=\"1\" class=\"dataframe\">\n  <thead>\n    <tr style=\"text-align: right;\">\n      <th></th>\n      <th>_id</th>\n      <th>title</th>\n      <th>text</th>\n    </tr>\n  </thead>\n  <tbody>\n    <tr>\n      <th>0</th>\n      <td>0</td>\n      <td></td>\n      <td>Co jest uważane za wydatek służbowy w podróży ...</td>\n    </tr>\n    <tr>\n      <th>1</th>\n      <td>4</td>\n      <td></td>\n      <td>Wydatki służbowe - ubezpieczenie samochodu pod...</td>\n    </tr>\n    <tr>\n      <th>2</th>\n      <td>5</td>\n      <td></td>\n      <td>Rozpoczęcie nowego biznesu online</td>\n    </tr>\n    <tr>\n      <th>3</th>\n      <td>6</td>\n      <td></td>\n      <td>„Dzień roboczy” i „termin płatności” rachunków</td>\n    </tr>\n    <tr>\n      <th>4</th>\n      <td>7</td>\n      <td></td>\n      <td>Nowy właściciel firmy – Jak działają podatki d...</td>\n    </tr>\n    <tr>\n      <th>...</th>\n      <td>...</td>\n      <td>...</td>\n      <td>...</td>\n    </tr>\n    <tr>\n      <th>6643</th>\n      <td>4102</td>\n      <td></td>\n      <td>Jak mogę ustalić, czy moja stopa zwrotu jest „...</td>\n    </tr>\n    <tr>\n      <th>6644</th>\n      <td>3566</td>\n      <td></td>\n      <td>Gdzie mogę kupić akcje, jeśli chcę zainwestowa...</td>\n    </tr>\n    <tr>\n      <th>6645</th>\n      <td>94</td>\n      <td></td>\n      <td>Wykorzystywanie punktów kart kredytowych do op...</td>\n    </tr>\n    <tr>\n      <th>6646</th>\n      <td>2551</td>\n      <td></td>\n      <td>Jak znaleźć tańszą alternatywę dla tradycyjnej...</td>\n    </tr>\n    <tr>\n      <th>6647</th>\n      <td>2399</td>\n      <td></td>\n      <td>Skąd strony internetowe uzyskują informacje o ...</td>\n    </tr>\n  </tbody>\n</table>\n<p>6648 rows × 3 columns</p>\n</div>"
     },
     "execution_count": 112,
     "metadata": {},
     "output_type": "execute_result"
    }
   ],
   "source": [
    "df"
   ]
  },
  {
   "cell_type": "code",
   "execution_count": 113,
   "outputs": [],
   "source": [
    "df = df.sample(100, random_state=42).reset_index(drop=True)"
   ],
   "metadata": {
    "collapsed": false,
    "ExecuteTime": {
     "end_time": "2024-11-08T19:29:14.294845Z",
     "start_time": "2024-11-08T19:29:13.911308900Z"
    }
   },
   "id": "a1b429aeec75bcfd"
  },
  {
   "cell_type": "markdown",
   "source": [
    "The dataset was limited to a random sample of 100 rows (random_state=42) to speed up processing and testing while maintaining consistency of results."
   ],
   "metadata": {
    "collapsed": false
   },
   "id": "9cc08d63214a3366"
  },
  {
   "cell_type": "markdown",
   "id": "abfc777f1c8234af",
   "metadata": {
    "collapsed": false
   },
   "source": [
    "2. Use SpaCy [tokenizer API](https://spacy.io/api/tokenizer) to tokenize the text in the documents."
   ]
  },
  {
   "cell_type": "code",
   "execution_count": 114,
   "id": "b2d1233b78b1995d",
   "metadata": {
    "collapsed": false,
    "ExecuteTime": {
     "end_time": "2024-11-08T19:29:17.124796500Z",
     "start_time": "2024-11-08T19:29:13.940027Z"
    }
   },
   "outputs": [],
   "source": [
    "nlp = spacy.load(\"pl_core_news_sm\")\n",
    "tokenizer=nlp.tokenizer"
   ]
  },
  {
   "cell_type": "code",
   "execution_count": 115,
   "id": "433c9de1bf49bd00",
   "metadata": {
    "collapsed": false,
    "ExecuteTime": {
     "end_time": "2024-11-08T19:29:19.058070400Z",
     "start_time": "2024-11-08T19:29:17.128785400Z"
    }
   },
   "outputs": [
    {
     "name": "stderr",
     "output_type": "stream",
     "text": [
      "100%|██████████| 100/100 [00:01<00:00, 53.27it/s]\n"
     ]
    }
   ],
   "source": [
    "df['tokens'] = df['text'].progress_apply(lambda doc: [token.text for token in nlp(doc)])"
   ]
  },
  {
   "cell_type": "code",
   "execution_count": 116,
   "id": "75cee383d63923e3",
   "metadata": {
    "collapsed": false,
    "ExecuteTime": {
     "end_time": "2024-11-08T19:29:19.131051800Z",
     "start_time": "2024-11-08T19:29:19.032053500Z"
    }
   },
   "outputs": [
    {
     "data": {
      "text/plain": "0     [Gdzie, można, znaleźć, ceny, intraday, dla, f...\n1     [Odliczenie, dla, biura, domowego, metodą, upr...\n2     [Czy, reguła, wzrostu, dotyczy, wszystkich, ak...\n3     [Co, zrobić, ze, swoimi, oszczędnościami, w, J...\n4                [Jak, działa, handel, przedrynkowy, ?]\n                            ...                        \n95    [Dlaczego, nie, można, realizować, transakcji,...\n96    [Jak, dodać, swój, dochód, do, mojego, salda, ...\n97    [Czy, zawsze, będę, mógł, otrzymać, kartę, kre...\n98                       [Definicja, handlu, dziennego]\n99    [Jak, zwolnienie, podatkowe, za, działanie, =,...\nName: tokens, Length: 100, dtype: object"
     },
     "execution_count": 116,
     "metadata": {},
     "output_type": "execute_result"
    }
   ],
   "source": [
    "df['tokens']"
   ]
  },
  {
   "cell_type": "markdown",
   "id": "909ea61311f6a1e5",
   "metadata": {
    "collapsed": false
   },
   "source": [
    "3. Compute **frequency list** for each of the processed files."
   ]
  },
  {
   "cell_type": "code",
   "execution_count": 117,
   "id": "d9e9e81e0e6f8443",
   "metadata": {
    "collapsed": false,
    "ExecuteTime": {
     "end_time": "2024-11-08T19:29:19.276877700Z",
     "start_time": "2024-11-08T19:29:19.088053100Z"
    }
   },
   "outputs": [
    {
     "name": "stderr",
     "output_type": "stream",
     "text": [
      "100%|██████████| 100/100 [00:00<00:00, 33388.82it/s]\n"
     ]
    }
   ],
   "source": [
    "df['frequency_list'] = df['tokens'].progress_apply(lambda tokens: Counter(tokens))"
   ]
  },
  {
   "cell_type": "code",
   "execution_count": 118,
   "outputs": [
    {
     "data": {
      "text/plain": "0     {'Gdzie': 1, 'można': 1, 'znaleźć': 1, 'ceny':...\n1     {'Odliczenie': 1, 'dla': 1, 'biura': 2, 'domow...\n2     {'Czy': 1, 'reguła': 1, 'wzrostu': 1, 'dotyczy...\n3     {'Co': 1, 'zrobić': 1, 'ze': 1, 'swoimi': 1, '...\n4     {'Jak': 1, 'działa': 1, 'handel': 1, 'przedryn...\n                            ...                        \n95    {'Dlaczego': 1, 'nie': 1, 'można': 1, 'realizo...\n96    {'Jak': 1, 'dodać': 1, 'swój': 1, 'dochód': 1,...\n97    {'Czy': 1, 'zawsze': 1, 'będę': 1, 'mógł': 1, ...\n98        {'Definicja': 1, 'handlu': 1, 'dziennego': 1}\n99    {'Jak': 1, 'zwolnienie': 1, 'podatkowe': 1, 'z...\nName: frequency_list, Length: 100, dtype: object"
     },
     "execution_count": 118,
     "metadata": {},
     "output_type": "execute_result"
    }
   ],
   "source": [
    "df['frequency_list']"
   ],
   "metadata": {
    "collapsed": false,
    "ExecuteTime": {
     "end_time": "2024-11-08T19:29:19.396668800Z",
     "start_time": "2024-11-08T19:29:19.134063600Z"
    }
   },
   "id": "17fe6a3d7f96a9c2"
  },
  {
   "cell_type": "markdown",
   "id": "4bb21b9c1bb08a10",
   "metadata": {
    "collapsed": false
   },
   "source": [
    "4. Aggregate the result to obtain one global frequency list. This frequency list gives you unigram statistics of the words\n",
    "   appearing in the corpus."
   ]
  },
  {
   "cell_type": "code",
   "execution_count": 119,
   "id": "d7c4ae9e68322556",
   "metadata": {
    "collapsed": false,
    "ExecuteTime": {
     "end_time": "2024-11-08T19:29:19.621687200Z",
     "start_time": "2024-11-08T19:29:19.183881900Z"
    }
   },
   "outputs": [
    {
     "name": "stderr",
     "output_type": "stream",
     "text": [
      "100%|██████████| 100/100 [00:00<00:00, 50021.51it/s]\n"
     ]
    }
   ],
   "source": [
    "frequency_list = defaultdict(lambda: 0)\n",
    "\n",
    "texts = df['text'].progress_apply(lambda s: s.lower())\n",
    "for doc in tokenizer.pipe(texts, batch_size=50):\n",
    "    for token in doc:\n",
    "        frequency_list[token.text] += 1"
   ]
  },
  {
   "cell_type": "code",
   "execution_count": 120,
   "id": "546a885524e7b42e",
   "metadata": {
    "collapsed": false,
    "ExecuteTime": {
     "end_time": "2024-11-08T19:29:19.624688Z",
     "start_time": "2024-11-08T19:29:19.441670Z"
    }
   },
   "outputs": [
    {
     "data": {
      "text/plain": "defaultdict(<function __main__.<lambda>()>,\n            {'gdzie': 1,\n             'można': 3,\n             'znaleźć': 1,\n             'ceny': 1,\n             'intraday': 1,\n             'dla': 7,\n             'funduszy': 1,\n             'inwestycyjnych': 2,\n             '?': 86,\n             'odliczenie': 1,\n             'biura': 2,\n             'domowego': 1,\n             'metodą': 1,\n             'uproszczoną': 1,\n             'i': 15,\n             'koszt': 1,\n             'niestałej': 1,\n             'modyfikacji': 1,\n             'czy': 37,\n             'reguła': 1,\n             'wzrostu': 1,\n             'dotyczy': 1,\n             'wszystkich': 1,\n             'akcji': 6,\n             '/': 10,\n             'etf': 1,\n             'innych': 1,\n             'papierów': 1,\n             'wartościowych': 1,\n             ',': 36,\n             'tylko': 1,\n             'określonych': 1,\n             'co': 5,\n             'zrobić': 3,\n             'ze': 3,\n             'swoimi': 1,\n             'oszczędnościami': 1,\n             'w': 25,\n             'japonii': 1,\n             'jak': 22,\n             'działa': 1,\n             'handel': 1,\n             'przedrynkowy': 1,\n             'polecana': 1,\n             'książka': 1,\n             'blog': 1,\n             'o': 7,\n             'finansach': 1,\n             'ekonomii': 1,\n             'inżyniera': 1,\n             'oprogramowania': 1,\n             'usługi': 1,\n             'zakupu': 2,\n             'samochodów': 1,\n             'są': 10,\n             'tego': 1,\n             'warte': 1,\n             'wykorzystać': 1,\n             'wahania': 1,\n             'eur': 1,\n             'usd': 2,\n             'moim': 1,\n             'konkretnym': 1,\n             'przypadku': 3,\n             'jakie': 5,\n             'opcje': 2,\n             'dostępne': 1,\n             'kredytu': 4,\n             'mieszkaniowego': 1,\n             'słabym': 1,\n             'kredytem': 2,\n             '\\u200b\\u200bale': 2,\n             'z': 15,\n             'dobrą': 1,\n             'historią': 1,\n             'wynajmu': 1,\n             'stopniowe': 1,\n             'inwestowanie': 2,\n             'średnim': 1,\n             'lub': 6,\n             'wysokim': 1,\n             'ryzyku': 1,\n             'pomoże': 1,\n             'zabezpieczyć': 1,\n             'przyszłość': 1,\n             'mogę': 7,\n             'poprawić': 1,\n             'swoją': 1,\n             'zdolność': 1,\n             'kredytową': 4,\n             'jeśli': 5,\n             'nie': 8,\n             'płacę': 1,\n             'rachunków': 1,\n             'czynszu': 1,\n             'przyczynić': 1,\n             'się': 6,\n             'zarówno': 1,\n             'do': 8,\n             'sep': 1,\n             'ira': 2,\n             'solo': 1,\n             'roth': 2,\n             '401(k': 2,\n             ')': 10,\n             'jaki': 6,\n             'sposób': 2,\n             'program': 1,\n             'aktualizacji': 1,\n             'firmy': 5,\n             'samsung': 1,\n             'może': 4,\n             'zaoferować': 1,\n             'rrso': 1,\n             '0': 1,\n             '%': 1,\n             'inwestować': 3,\n             'złoto': 1,\n             'za': 8,\n             'pośrednictwem': 1,\n             'vanguard': 1,\n             '(': 8,\n             'innego': 1,\n             'instrumentu': 1,\n             'który': 2,\n             'powinien': 1,\n             'dobrze': 1,\n             'działać': 1,\n             'czasie': 2,\n             'kryzysu': 1,\n             'finansowego': 1,\n             'powinienem': 9,\n             'wykluczyć': 1,\n             'obligacje': 2,\n             'naszego': 3,\n             'portfela': 1,\n             'inwestycji': 1,\n             'emerytalnych': 2,\n             'nasz': 1,\n             'horyzont': 1,\n             'czasowy': 1,\n             'jest': 12,\n             'nadal': 3,\n             'wystarczająco': 1,\n             'długi': 1,\n             'pytanie': 2,\n             'podatki': 2,\n             'od': 4,\n             'kupno': 2,\n             'sprzedaż': 2,\n             'krótkoterminowe': 1,\n             'wykryć': 1,\n             'potencjalne': 1,\n             'oszustwo': 1,\n             'firmie': 1,\n             'przed': 1,\n             'zainwestowaniem': 1,\n             'poradzić': 1,\n             'sobie': 1,\n             'małżonkiem': 1,\n             'kompulsywnie': 1,\n             'wydaje': 1,\n             'dokonać': 1,\n             'dużego': 1,\n             'zapasu': 1,\n             'stosunku': 1,\n             'księgi': 1,\n             'zamówień': 1,\n             'zakupy': 1,\n             'odwiedzających': 1,\n             'usa': 3,\n             ':': 3,\n             'otrzymam': 1,\n             'zwrot': 1,\n             'podatku': 2,\n             'będę': 3,\n             'musiał': 1,\n             'coś': 1,\n             'zapłacić': 2,\n             'przy': 3,\n             'wyjeździe': 1,\n             'dlaczego': 4,\n             'ludzie': 1,\n             'korzystają': 1,\n             'kredytów': 1,\n             'hipotecznych': 1,\n             'skoro': 2,\n             'mogliby': 1,\n             'po': 3,\n             'prostu': 1,\n             'dom': 2,\n             'całości': 1,\n             'zrozumienie': 1,\n             'rachunku': 1,\n             'zysków': 1,\n             'strat': 1,\n             'jaka': 1,\n             'dobra': 1,\n             'marża': 1,\n             'zysku': 1,\n             'dzięki': 1,\n             'której': 1,\n             'warto': 2,\n             'rynek': 3,\n             'byka': 1,\n             'bessy': 1,\n             'rzeczywiście': 1,\n             'robi': 1,\n             'różnicę': 1,\n             'jakim': 1,\n             'stopniu': 1,\n             'duże': 1,\n             'inwestorzy': 1,\n             'wpływają': 1,\n             'na': 23,\n             'giełdę': 1,\n             'czego': 1,\n             'służy': 1,\n             'pole': 1,\n             '„': 3,\n             'folio': 1,\n             '”': 3,\n             'księdze': 1,\n             'rachunkowej': 1,\n             'przestać': 1,\n             'marnować': 1,\n             'jedzenie': 1,\n             'jakieś': 1,\n             'realne': 1,\n             'alternatywy': 1,\n             'paypal': 1,\n             'małej': 1,\n             'witryny': 1,\n             'moje': 5,\n             'szanse': 1,\n             'uzyskanie': 1,\n             'hipotecznego': 2,\n             'okropnym': 1,\n             'wysokimi': 1,\n             'dochodami': 1,\n             'anulować': 1,\n             'istniejącą': 1,\n             'kartę': 2,\n             'aby': 3,\n             'móc': 1,\n             'otworzyć': 1,\n             'inną': 1,\n             'nagrodami': 1,\n             'zatrudniony': 1,\n             '-': 3,\n             '9': 1,\n             'płacić': 2,\n             'kwartalnie': 1,\n             'szacunkowy': 1,\n             'podatek': 2,\n             'dokładnie': 1,\n             'możemy': 1,\n             'ocenić': 2,\n             'bogactwo': 1,\n             'marki': 1,\n             'kiedy': 1,\n             'najlepszy': 1,\n             'czas': 2,\n             'nabywanej': 1,\n             'sprzedawanej': 1,\n             'wynajmujący': 1,\n             'nieruchomość': 3,\n             'zmienić': 1,\n             'jednostkę': 1,\n             'zatwierdzeniu': 1,\n             'uiszczeniu': 1,\n             'opłat': 1,\n             'kupić': 2,\n             'właściciela': 3,\n             'głównych': 1,\n             'giełd': 1,\n             'dodawana': 1,\n             'lista': 1,\n             'otc': 1,\n             'muszę': 3,\n             'rozliczać': 1,\n             'wspólnie': 1,\n             'moją': 1,\n             'dziewczyną': 1,\n             'mieszkamy': 1,\n             'razem': 1,\n             'wpływ': 3,\n             'anulowanego': 1,\n             'zlecenia': 2,\n             'akcje': 5,\n             'obecnie': 1,\n             'jestem': 1,\n             'bezrobotna': 1,\n             'zaproponowano': 1,\n             'mi': 1,\n             'pracę': 1,\n             'kontraktową': 1,\n             '.': 8,\n             'włączyć': 1,\n             'mam': 4,\n             'to': 3,\n             'automatyczne': 1,\n             'inwestycje': 2,\n             'tanio': 1,\n             'jakich': 1,\n             'standardów': 1,\n             'oczekiwać': 1,\n             'mojego': 2,\n             'cpa': 1,\n             'popełnienia': 1,\n             'błędu': 1,\n             'wtórny': 1,\n             'wpłynie': 1,\n             'jutrzejsze': 1,\n             'otwarcie': 1,\n             'rynku': 2,\n             'budżet': 1,\n             'obejmuje': 1,\n             'wydatki': 2,\n             'przychody': 1,\n             'kary': 1,\n             'zwłokę': 1,\n             'spłacie': 1,\n             'rent': 1,\n             'rzeczy': 1,\n             'wziąć': 1,\n             'pod': 2,\n             'uwagę': 2,\n             'otrzymując': 1,\n             'wspólny': 1,\n             'kredyt': 5,\n             'hipoteczny': 4,\n             'podstawowe': 1,\n             'poziomy': 1,\n             'które': 1,\n             'sprawiają': 1,\n             'że': 1,\n             'giełda': 1,\n             'idealna': 1,\n             'sprzedać': 1,\n             'korzyści': 1,\n             'posiadania': 2,\n             'emerytury': 1,\n             'konta': 3,\n             'emerytalnego': 1,\n             'irlandii': 1,\n             'przenieść': 1,\n             'fundusze': 2,\n             'pieniężnego': 1,\n             'miałaby': 1,\n             'dewaluacja': 1,\n             'waluty': 1,\n             'zmieniono': 1,\n             'pracy': 3,\n             'która': 1,\n             'miała': 1,\n             '401k': 1,\n             'a': 3,\n             'nowa': 1,\n             'odpowiedzieć': 1,\n             'podczas': 1,\n             'składania': 1,\n             'wniosku': 1,\n             'podatkowe': 2,\n             'zawiłości': 1,\n             'mlp': 1,\n             'czym': 1,\n             'wymiana': 1,\n             'handlowa': 1,\n             'renomowane': 1,\n             'potrzebne': 2,\n             'forwardy': 1,\n             'walutowe': 1,\n             'spółka': 1,\n             'securities': 1,\n             'investor': 1,\n             'protection': 1,\n             'corporation': 1,\n             'sipc': 1,\n             'zbankrutować': 1,\n             'ubezpieczenie': 1,\n             'wypadek': 1,\n             'bezrobocia': 1,\n             'poprzez': 1,\n             'kupując': 1,\n             'budynek': 1,\n             'dwoma': 1,\n             'mieszkaniami': 1,\n             'wynająć': 1,\n             'jedno': 1,\n             'otrzymać': 3,\n             'mieszkaniowy': 1,\n             'domu': 5,\n             'gotówkę': 1,\n             'całość': 1,\n             'uzyskać': 2,\n             'ulgę': 1,\n             'podatkową': 1,\n             'firma': 1,\n             'kupuje': 1,\n             'firmę': 1,\n             'b': 1,\n             'dzieje': 2,\n             'akcjami': 1,\n             'włożyć': 1,\n             'dochód': 2,\n             'poboczny': 1,\n             'budżetu': 1,\n             'żeby': 1,\n             'mój': 1,\n             'mąż': 1,\n             'wiedział': 1,\n             'robo': 1,\n             'doradca': 1,\n             'wart': 1,\n             'ryzyka': 1,\n             'prześlij': 1,\n             'pieniądze': 3,\n             'indii': 1,\n             'salda': 2,\n             'przelewu': 1,\n             'karty': 2,\n             'kredytowej': 3,\n             'obliczyć': 1,\n             'rachunki': 1,\n             'według': 1,\n             'dnia': 1,\n             'graham': 1,\n             'uważa': 1,\n             'złota': 1,\n             'inwestycję': 1,\n             'good': 1,\n             'till': 1,\n             'cancelled': 1,\n             'realizowane': 1,\n             'poza': 4,\n             'godzinami': 2,\n             'pożyczanie': 1,\n             'pieniędzy': 1,\n             'następnie': 1,\n             'ich': 2,\n             '—': 1,\n             'sprytne': 1,\n             'nart': 1,\n             'oblicz': 1,\n             'osiągnięcie': 1,\n             'celów': 1,\n             'biorąc': 2,\n             'saldo': 1,\n             'początkowe': 1,\n             'wymienić': 1,\n             'wynajmowaną': 1,\n             'reit': 1,\n             '1031': 1,\n             'ocenę': 1,\n             'fico': 1,\n             'darmo': 2,\n             'naprawdę': 1,\n             'cel': 1,\n             'dobrego': 1,\n             'gdy': 2,\n             'jesteś': 1,\n             'zamożny': 1,\n             'oferta': 1,\n             'takie': 1,\n             'same': 1,\n             'uniknąć': 1,\n             'gratkę': 1,\n             'małymi': 1,\n             'kawałkami': 1,\n             'negatywy': 1,\n             'zwiększony': 1,\n             'limit': 1,\n             'wydatków': 1,\n             'karcie': 1,\n             '[': 1,\n             'duplikować': 1,\n             ']': 1,\n             'gwarantowane': 1,\n             '700': 1,\n             'zostanie': 1,\n             'dotknięte': 1,\n             'przez': 1,\n             '15': 1,\n             'lat+': 1,\n             'umieścić': 1,\n             'je': 1,\n             'gdziekolwiek': 1,\n             'kontem': 1,\n             'oszczędnościowym': 1,\n             'zaciągnąć': 1,\n             'zakupie': 1,\n             'względów': 1,\n             'kredytowych': 1,\n             'mogą': 1,\n             'moi': 1,\n             'krewni': 1,\n             'zminimalizować': 1,\n             'własnej': 1,\n             'kieszeni': 1,\n             'majątek': 1,\n             'ojca': 1,\n             'bezpłatne': 1,\n             'notowania': 1,\n             'giełdowe': 1,\n             'google': 1,\n             'rzeczywistym': 1,\n             'istnieć': 1,\n             'relacja': 1,\n             'ryzyko': 1,\n             'nagroda': 1,\n             'straty': 1,\n             'spowodowane': 1,\n             'ryzykiem': 1,\n             'powinny': 1,\n             'zrównoważyć': 1,\n             'nagrodę': 1,\n             'dywersyfikować': 1,\n             'wśród': 1,\n             'wielu': 1,\n             'brokerów': 1,\n             'doradztwo': 1,\n             'inwestycyjne': 1,\n             'raz': 1,\n             'pierwszy': 1,\n             'kanada': 1,\n             'dobre': 1,\n             'darmowe': 1,\n             'konto': 1,\n             'czekowe': 1,\n             'utrzymanie': 1,\n             'obecnego': 1,\n             'druga': 1,\n             'jako': 2,\n             'wynajem': 2,\n             'zakłóci': 1,\n             'zakup': 1,\n             'trzeciego': 1,\n             'zacząć': 2,\n             'myśleć': 1,\n             'pieniądzach': 1,\n             'młoda': 1,\n             'osoba': 1,\n             'zapytania': 1,\n             'dotyczące': 1,\n             'natychmiastowe': 1,\n             'zatwierdzenie': 1,\n             'pojawiają': 1,\n             'raporcie': 1,\n             'kredytowym': 1,\n             'często': 1,\n             'stają': 1,\n             'bezwartościowe': 1,\n             'wygaśnięcia': 1,\n             'opcji': 1,\n             'wycenę': 1,\n             'pożyczyć': 1,\n             '401': 1,\n             'tys': 1,\n             'zadatek': 1,\n             'nieruchomości': 1,\n             'rozsądne': 1,\n             'przekierowywanie': 1,\n             'składek': 1,\n             'spłacić': 1,\n             'oszczędzać': 1,\n             'emeryturę': 1,\n             'zbudować': 1,\n             'fundusz': 1,\n             'awaryjny': 1,\n             'dochodowy': 1,\n             'prowadzę': 1,\n             'usługę': 1,\n             'depozytową': 1,\n             'indiach': 1,\n             'poczytalność': 1,\n             'wyborze': 1,\n             'terminu': 1,\n             'refinansowania': 1,\n             'podwójne': 1,\n             'opodatkowanie': 1,\n             '–': 1,\n             'podróże': 1,\n             'służbowe': 1,\n             'zagraniczna': 1,\n             'ulga': 1,\n             'podatkowa': 1,\n             'konieczność': 1,\n             'wymiany': 1,\n             'gotówki': 1,\n             'czek': 1,\n             'kasjerski': 1,\n             'bez': 1,\n             'bankowego': 1,\n             'właśnie': 1,\n             'przyjechałem': 1,\n             'boa': 1,\n             'zamknął': 1,\n             'zamroził': 1,\n             'odzyskać': 1,\n             'czekiem': 1,\n             'kasjerskim': 1,\n             'około': 1,\n             '60k': 1,\n             '$': 1,\n             'myśląc': 1,\n             'zainwestowaniu': 1,\n             'ropę': 1,\n             'postępować': 1,\n             'cena': 2,\n             'oferty': 1,\n             '…': 1,\n             'nagły': 1,\n             'spadek': 1,\n             'spadnie': 1,\n             'kwotę': 1,\n             'wypłaconej': 1,\n             'dywidendy': 2,\n             'pożytek': 1,\n             'realizować': 1,\n             'transakcji': 1,\n             'online': 1,\n             'dodać': 1,\n             'swój': 1,\n             'finansów': 1,\n             'osobistych': 1,\n             'zawsze': 1,\n             'mógł': 1,\n             'zerowym': 1,\n             'oprocentowaniu': 1,\n             'definicja': 1,\n             'handlu': 1,\n             'dziennego': 1,\n             'zwolnienie': 1,\n             'działanie': 1,\n             '=': 1,\n             'kara': 1,\n             'brak': 1,\n             'działania': 1})"
     },
     "execution_count": 120,
     "metadata": {},
     "output_type": "execute_result"
    }
   ],
   "source": [
    "frequency_list"
   ]
  },
  {
   "cell_type": "code",
   "execution_count": 121,
   "id": "9405d4dd4593de13",
   "metadata": {
    "collapsed": false,
    "ExecuteTime": {
     "end_time": "2024-11-08T19:29:19.626685200Z",
     "start_time": "2024-11-08T19:29:19.488686500Z"
    }
   },
   "outputs": [],
   "source": [
    "sorted_frequency_list = dict(sorted(frequency_list.items(), key=lambda item: item[1], reverse=True))"
   ]
  },
  {
   "cell_type": "code",
   "execution_count": 122,
   "id": "9ccbd3310763066f",
   "metadata": {
    "collapsed": false,
    "ExecuteTime": {
     "end_time": "2024-11-08T19:29:19.651687500Z",
     "start_time": "2024-11-08T19:29:19.503670500Z"
    }
   },
   "outputs": [
    {
     "data": {
      "text/plain": "{'?': 86,\n 'czy': 37,\n ',': 36,\n 'w': 25,\n 'na': 23,\n 'jak': 22,\n 'i': 15,\n 'z': 15,\n 'jest': 12,\n '/': 10,\n 'są': 10,\n ')': 10,\n 'powinienem': 9,\n 'nie': 8,\n 'do': 8,\n 'za': 8,\n '(': 8,\n '.': 8,\n 'dla': 7,\n 'o': 7,\n 'mogę': 7,\n 'akcji': 6,\n 'lub': 6,\n 'się': 6,\n 'jaki': 6,\n 'co': 5,\n 'jakie': 5,\n 'jeśli': 5,\n 'firmy': 5,\n 'moje': 5,\n 'akcje': 5,\n 'kredyt': 5,\n 'domu': 5,\n 'kredytu': 4,\n 'kredytową': 4,\n 'może': 4,\n 'od': 4,\n 'dlaczego': 4,\n 'mam': 4,\n 'hipoteczny': 4,\n 'poza': 4,\n 'można': 3,\n 'zrobić': 3,\n 'ze': 3,\n 'przypadku': 3,\n 'inwestować': 3,\n 'naszego': 3,\n 'nadal': 3,\n 'usa': 3,\n ':': 3,\n 'będę': 3,\n 'przy': 3,\n 'po': 3,\n 'rynek': 3,\n '„': 3,\n '”': 3,\n 'aby': 3,\n '-': 3,\n 'nieruchomość': 3,\n 'właściciela': 3,\n 'muszę': 3,\n 'wpływ': 3,\n 'to': 3,\n 'konta': 3,\n 'pracy': 3,\n 'a': 3,\n 'otrzymać': 3,\n 'pieniądze': 3,\n 'kredytowej': 3,\n 'inwestycyjnych': 2,\n 'biura': 2,\n 'zakupu': 2,\n 'usd': 2,\n 'opcje': 2,\n 'kredytem': 2,\n '\\u200b\\u200bale': 2,\n 'inwestowanie': 2,\n 'ira': 2,\n 'roth': 2,\n '401(k': 2,\n 'sposób': 2,\n 'który': 2,\n 'czasie': 2,\n 'obligacje': 2,\n 'emerytalnych': 2,\n 'pytanie': 2,\n 'podatki': 2,\n 'kupno': 2,\n 'sprzedaż': 2,\n 'podatku': 2,\n 'zapłacić': 2,\n 'skoro': 2,\n 'dom': 2,\n 'warto': 2,\n 'hipotecznego': 2,\n 'kartę': 2,\n 'płacić': 2,\n 'podatek': 2,\n 'ocenić': 2,\n 'czas': 2,\n 'kupić': 2,\n 'zlecenia': 2,\n 'inwestycje': 2,\n 'mojego': 2,\n 'rynku': 2,\n 'wydatki': 2,\n 'pod': 2,\n 'uwagę': 2,\n 'posiadania': 2,\n 'fundusze': 2,\n 'podatkowe': 2,\n 'potrzebne': 2,\n 'uzyskać': 2,\n 'dzieje': 2,\n 'dochód': 2,\n 'salda': 2,\n 'karty': 2,\n 'godzinami': 2,\n 'ich': 2,\n 'biorąc': 2,\n 'darmo': 2,\n 'gdy': 2,\n 'jako': 2,\n 'wynajem': 2,\n 'zacząć': 2,\n 'cena': 2,\n 'dywidendy': 2,\n 'gdzie': 1,\n 'znaleźć': 1,\n 'ceny': 1,\n 'intraday': 1,\n 'funduszy': 1,\n 'odliczenie': 1,\n 'domowego': 1,\n 'metodą': 1,\n 'uproszczoną': 1,\n 'koszt': 1,\n 'niestałej': 1,\n 'modyfikacji': 1,\n 'reguła': 1,\n 'wzrostu': 1,\n 'dotyczy': 1,\n 'wszystkich': 1,\n 'etf': 1,\n 'innych': 1,\n 'papierów': 1,\n 'wartościowych': 1,\n 'tylko': 1,\n 'określonych': 1,\n 'swoimi': 1,\n 'oszczędnościami': 1,\n 'japonii': 1,\n 'działa': 1,\n 'handel': 1,\n 'przedrynkowy': 1,\n 'polecana': 1,\n 'książka': 1,\n 'blog': 1,\n 'finansach': 1,\n 'ekonomii': 1,\n 'inżyniera': 1,\n 'oprogramowania': 1,\n 'usługi': 1,\n 'samochodów': 1,\n 'tego': 1,\n 'warte': 1,\n 'wykorzystać': 1,\n 'wahania': 1,\n 'eur': 1,\n 'moim': 1,\n 'konkretnym': 1,\n 'dostępne': 1,\n 'mieszkaniowego': 1,\n 'słabym': 1,\n 'dobrą': 1,\n 'historią': 1,\n 'wynajmu': 1,\n 'stopniowe': 1,\n 'średnim': 1,\n 'wysokim': 1,\n 'ryzyku': 1,\n 'pomoże': 1,\n 'zabezpieczyć': 1,\n 'przyszłość': 1,\n 'poprawić': 1,\n 'swoją': 1,\n 'zdolność': 1,\n 'płacę': 1,\n 'rachunków': 1,\n 'czynszu': 1,\n 'przyczynić': 1,\n 'zarówno': 1,\n 'sep': 1,\n 'solo': 1,\n 'program': 1,\n 'aktualizacji': 1,\n 'samsung': 1,\n 'zaoferować': 1,\n 'rrso': 1,\n '0': 1,\n '%': 1,\n 'złoto': 1,\n 'pośrednictwem': 1,\n 'vanguard': 1,\n 'innego': 1,\n 'instrumentu': 1,\n 'powinien': 1,\n 'dobrze': 1,\n 'działać': 1,\n 'kryzysu': 1,\n 'finansowego': 1,\n 'wykluczyć': 1,\n 'portfela': 1,\n 'inwestycji': 1,\n 'nasz': 1,\n 'horyzont': 1,\n 'czasowy': 1,\n 'wystarczająco': 1,\n 'długi': 1,\n 'krótkoterminowe': 1,\n 'wykryć': 1,\n 'potencjalne': 1,\n 'oszustwo': 1,\n 'firmie': 1,\n 'przed': 1,\n 'zainwestowaniem': 1,\n 'poradzić': 1,\n 'sobie': 1,\n 'małżonkiem': 1,\n 'kompulsywnie': 1,\n 'wydaje': 1,\n 'dokonać': 1,\n 'dużego': 1,\n 'zapasu': 1,\n 'stosunku': 1,\n 'księgi': 1,\n 'zamówień': 1,\n 'zakupy': 1,\n 'odwiedzających': 1,\n 'otrzymam': 1,\n 'zwrot': 1,\n 'musiał': 1,\n 'coś': 1,\n 'wyjeździe': 1,\n 'ludzie': 1,\n 'korzystają': 1,\n 'kredytów': 1,\n 'hipotecznych': 1,\n 'mogliby': 1,\n 'prostu': 1,\n 'całości': 1,\n 'zrozumienie': 1,\n 'rachunku': 1,\n 'zysków': 1,\n 'strat': 1,\n 'jaka': 1,\n 'dobra': 1,\n 'marża': 1,\n 'zysku': 1,\n 'dzięki': 1,\n 'której': 1,\n 'byka': 1,\n 'bessy': 1,\n 'rzeczywiście': 1,\n 'robi': 1,\n 'różnicę': 1,\n 'jakim': 1,\n 'stopniu': 1,\n 'duże': 1,\n 'inwestorzy': 1,\n 'wpływają': 1,\n 'giełdę': 1,\n 'czego': 1,\n 'służy': 1,\n 'pole': 1,\n 'folio': 1,\n 'księdze': 1,\n 'rachunkowej': 1,\n 'przestać': 1,\n 'marnować': 1,\n 'jedzenie': 1,\n 'jakieś': 1,\n 'realne': 1,\n 'alternatywy': 1,\n 'paypal': 1,\n 'małej': 1,\n 'witryny': 1,\n 'szanse': 1,\n 'uzyskanie': 1,\n 'okropnym': 1,\n 'wysokimi': 1,\n 'dochodami': 1,\n 'anulować': 1,\n 'istniejącą': 1,\n 'móc': 1,\n 'otworzyć': 1,\n 'inną': 1,\n 'nagrodami': 1,\n 'zatrudniony': 1,\n '9': 1,\n 'kwartalnie': 1,\n 'szacunkowy': 1,\n 'dokładnie': 1,\n 'możemy': 1,\n 'bogactwo': 1,\n 'marki': 1,\n 'kiedy': 1,\n 'najlepszy': 1,\n 'nabywanej': 1,\n 'sprzedawanej': 1,\n 'wynajmujący': 1,\n 'zmienić': 1,\n 'jednostkę': 1,\n 'zatwierdzeniu': 1,\n 'uiszczeniu': 1,\n 'opłat': 1,\n 'głównych': 1,\n 'giełd': 1,\n 'dodawana': 1,\n 'lista': 1,\n 'otc': 1,\n 'rozliczać': 1,\n 'wspólnie': 1,\n 'moją': 1,\n 'dziewczyną': 1,\n 'mieszkamy': 1,\n 'razem': 1,\n 'anulowanego': 1,\n 'obecnie': 1,\n 'jestem': 1,\n 'bezrobotna': 1,\n 'zaproponowano': 1,\n 'mi': 1,\n 'pracę': 1,\n 'kontraktową': 1,\n 'włączyć': 1,\n 'automatyczne': 1,\n 'tanio': 1,\n 'jakich': 1,\n 'standardów': 1,\n 'oczekiwać': 1,\n 'cpa': 1,\n 'popełnienia': 1,\n 'błędu': 1,\n 'wtórny': 1,\n 'wpłynie': 1,\n 'jutrzejsze': 1,\n 'otwarcie': 1,\n 'budżet': 1,\n 'obejmuje': 1,\n 'przychody': 1,\n 'kary': 1,\n 'zwłokę': 1,\n 'spłacie': 1,\n 'rent': 1,\n 'rzeczy': 1,\n 'wziąć': 1,\n 'otrzymując': 1,\n 'wspólny': 1,\n 'podstawowe': 1,\n 'poziomy': 1,\n 'które': 1,\n 'sprawiają': 1,\n 'że': 1,\n 'giełda': 1,\n 'idealna': 1,\n 'sprzedać': 1,\n 'korzyści': 1,\n 'emerytury': 1,\n 'emerytalnego': 1,\n 'irlandii': 1,\n 'przenieść': 1,\n 'pieniężnego': 1,\n 'miałaby': 1,\n 'dewaluacja': 1,\n 'waluty': 1,\n 'zmieniono': 1,\n 'która': 1,\n 'miała': 1,\n '401k': 1,\n 'nowa': 1,\n 'odpowiedzieć': 1,\n 'podczas': 1,\n 'składania': 1,\n 'wniosku': 1,\n 'zawiłości': 1,\n 'mlp': 1,\n 'czym': 1,\n 'wymiana': 1,\n 'handlowa': 1,\n 'renomowane': 1,\n 'forwardy': 1,\n 'walutowe': 1,\n 'spółka': 1,\n 'securities': 1,\n 'investor': 1,\n 'protection': 1,\n 'corporation': 1,\n 'sipc': 1,\n 'zbankrutować': 1,\n 'ubezpieczenie': 1,\n 'wypadek': 1,\n 'bezrobocia': 1,\n 'poprzez': 1,\n 'kupując': 1,\n 'budynek': 1,\n 'dwoma': 1,\n 'mieszkaniami': 1,\n 'wynająć': 1,\n 'jedno': 1,\n 'mieszkaniowy': 1,\n 'gotówkę': 1,\n 'całość': 1,\n 'ulgę': 1,\n 'podatkową': 1,\n 'firma': 1,\n 'kupuje': 1,\n 'firmę': 1,\n 'b': 1,\n 'akcjami': 1,\n 'włożyć': 1,\n 'poboczny': 1,\n 'budżetu': 1,\n 'żeby': 1,\n 'mój': 1,\n 'mąż': 1,\n 'wiedział': 1,\n 'robo': 1,\n 'doradca': 1,\n 'wart': 1,\n 'ryzyka': 1,\n 'prześlij': 1,\n 'indii': 1,\n 'przelewu': 1,\n 'obliczyć': 1,\n 'rachunki': 1,\n 'według': 1,\n 'dnia': 1,\n 'graham': 1,\n 'uważa': 1,\n 'złota': 1,\n 'inwestycję': 1,\n 'good': 1,\n 'till': 1,\n 'cancelled': 1,\n 'realizowane': 1,\n 'pożyczanie': 1,\n 'pieniędzy': 1,\n 'następnie': 1,\n '—': 1,\n 'sprytne': 1,\n 'nart': 1,\n 'oblicz': 1,\n 'osiągnięcie': 1,\n 'celów': 1,\n 'saldo': 1,\n 'początkowe': 1,\n 'wymienić': 1,\n 'wynajmowaną': 1,\n 'reit': 1,\n '1031': 1,\n 'ocenę': 1,\n 'fico': 1,\n 'naprawdę': 1,\n 'cel': 1,\n 'dobrego': 1,\n 'jesteś': 1,\n 'zamożny': 1,\n 'oferta': 1,\n 'takie': 1,\n 'same': 1,\n 'uniknąć': 1,\n 'gratkę': 1,\n 'małymi': 1,\n 'kawałkami': 1,\n 'negatywy': 1,\n 'zwiększony': 1,\n 'limit': 1,\n 'wydatków': 1,\n 'karcie': 1,\n '[': 1,\n 'duplikować': 1,\n ']': 1,\n 'gwarantowane': 1,\n '700': 1,\n 'zostanie': 1,\n 'dotknięte': 1,\n 'przez': 1,\n '15': 1,\n 'lat+': 1,\n 'umieścić': 1,\n 'je': 1,\n 'gdziekolwiek': 1,\n 'kontem': 1,\n 'oszczędnościowym': 1,\n 'zaciągnąć': 1,\n 'zakupie': 1,\n 'względów': 1,\n 'kredytowych': 1,\n 'mogą': 1,\n 'moi': 1,\n 'krewni': 1,\n 'zminimalizować': 1,\n 'własnej': 1,\n 'kieszeni': 1,\n 'majątek': 1,\n 'ojca': 1,\n 'bezpłatne': 1,\n 'notowania': 1,\n 'giełdowe': 1,\n 'google': 1,\n 'rzeczywistym': 1,\n 'istnieć': 1,\n 'relacja': 1,\n 'ryzyko': 1,\n 'nagroda': 1,\n 'straty': 1,\n 'spowodowane': 1,\n 'ryzykiem': 1,\n 'powinny': 1,\n 'zrównoważyć': 1,\n 'nagrodę': 1,\n 'dywersyfikować': 1,\n 'wśród': 1,\n 'wielu': 1,\n 'brokerów': 1,\n 'doradztwo': 1,\n 'inwestycyjne': 1,\n 'raz': 1,\n 'pierwszy': 1,\n 'kanada': 1,\n 'dobre': 1,\n 'darmowe': 1,\n 'konto': 1,\n 'czekowe': 1,\n 'utrzymanie': 1,\n 'obecnego': 1,\n 'druga': 1,\n 'zakłóci': 1,\n 'zakup': 1,\n 'trzeciego': 1,\n 'myśleć': 1,\n 'pieniądzach': 1,\n 'młoda': 1,\n 'osoba': 1,\n 'zapytania': 1,\n 'dotyczące': 1,\n 'natychmiastowe': 1,\n 'zatwierdzenie': 1,\n 'pojawiają': 1,\n 'raporcie': 1,\n 'kredytowym': 1,\n 'często': 1,\n 'stają': 1,\n 'bezwartościowe': 1,\n 'wygaśnięcia': 1,\n 'opcji': 1,\n 'wycenę': 1,\n 'pożyczyć': 1,\n '401': 1,\n 'tys': 1,\n 'zadatek': 1,\n 'nieruchomości': 1,\n 'rozsądne': 1,\n 'przekierowywanie': 1,\n 'składek': 1,\n 'spłacić': 1,\n 'oszczędzać': 1,\n 'emeryturę': 1,\n 'zbudować': 1,\n 'fundusz': 1,\n 'awaryjny': 1,\n 'dochodowy': 1,\n 'prowadzę': 1,\n 'usługę': 1,\n 'depozytową': 1,\n 'indiach': 1,\n 'poczytalność': 1,\n 'wyborze': 1,\n 'terminu': 1,\n 'refinansowania': 1,\n 'podwójne': 1,\n 'opodatkowanie': 1,\n '–': 1,\n 'podróże': 1,\n 'służbowe': 1,\n 'zagraniczna': 1,\n 'ulga': 1,\n 'podatkowa': 1,\n 'konieczność': 1,\n 'wymiany': 1,\n 'gotówki': 1,\n 'czek': 1,\n 'kasjerski': 1,\n 'bez': 1,\n 'bankowego': 1,\n 'właśnie': 1,\n 'przyjechałem': 1,\n 'boa': 1,\n 'zamknął': 1,\n 'zamroził': 1,\n 'odzyskać': 1,\n 'czekiem': 1,\n 'kasjerskim': 1,\n 'około': 1,\n '60k': 1,\n '$': 1,\n 'myśląc': 1,\n 'zainwestowaniu': 1,\n 'ropę': 1,\n 'postępować': 1,\n 'oferty': 1,\n '…': 1,\n 'nagły': 1,\n 'spadek': 1,\n 'spadnie': 1,\n 'kwotę': 1,\n 'wypłaconej': 1,\n 'pożytek': 1,\n 'realizować': 1,\n 'transakcji': 1,\n 'online': 1,\n 'dodać': 1,\n 'swój': 1,\n 'finansów': 1,\n 'osobistych': 1,\n 'zawsze': 1,\n 'mógł': 1,\n 'zerowym': 1,\n 'oprocentowaniu': 1,\n 'definicja': 1,\n 'handlu': 1,\n 'dziennego': 1,\n 'zwolnienie': 1,\n 'działanie': 1,\n '=': 1,\n 'kara': 1,\n 'brak': 1,\n 'działania': 1}"
     },
     "execution_count": 122,
     "metadata": {},
     "output_type": "execute_result"
    }
   ],
   "source": [
    "sorted_frequency_list"
   ]
  },
  {
   "cell_type": "markdown",
   "id": "354e0bae665df602",
   "metadata": {
    "collapsed": false
   },
   "source": [
    "5. Apply a distortion function to the queries part of the corpus. In each query draw randomly one word and change one letter in the word to some other letter."
   ]
  },
  {
   "cell_type": "code",
   "execution_count": 123,
   "id": "fb6bec12d2e7d970",
   "metadata": {
    "collapsed": false,
    "ExecuteTime": {
     "end_time": "2024-11-08T19:29:19.654686800Z",
     "start_time": "2024-11-08T19:29:19.554669500Z"
    }
   },
   "outputs": [],
   "source": [
    "def distort_word(word):\n",
    "    if len(word) < 2:  \n",
    "        return word\n",
    "    pos = random.randint(0, len(word) - 1)  \n",
    "    char = random.choice(string.ascii_lowercase)  \n",
    "    return word[:pos] + char + word[pos+1:]"
   ]
  },
  {
   "cell_type": "code",
   "execution_count": 124,
   "outputs": [
    {
     "name": "stderr",
     "output_type": "stream",
     "text": [
      "100%|██████████| 100/100 [00:00<00:00, 11126.36it/s]\n"
     ]
    }
   ],
   "source": [
    "df['distorted_queries'] = df['tokens'].progress_apply(lambda tokens: [distort_word(token) for token in tokens])"
   ],
   "metadata": {
    "collapsed": false,
    "ExecuteTime": {
     "end_time": "2024-11-08T19:29:19.655687200Z",
     "start_time": "2024-11-08T19:29:19.572677800Z"
    }
   },
   "id": "4e109d29a673d745"
  },
  {
   "cell_type": "code",
   "execution_count": 125,
   "id": "445d63ba9387e6a3",
   "metadata": {
    "collapsed": false,
    "ExecuteTime": {
     "end_time": "2024-11-08T19:29:19.729685100Z",
     "start_time": "2024-11-08T19:29:19.617684400Z"
    }
   },
   "outputs": [
    {
     "data": {
      "text/plain": "0     [jdzie, możsa, pnaleźć, ceky, iytraday, dll, f...\n1     [Odliczvnie, dlr, siura, dokowego, metoką, upr...\n2     [Czx, regoła, hzrostu, dotymzy, wszysjkich, ak...\n3     [Cs, zrobie, ce, ewoimi, oszczpdnościami, w, J...\n4                [rak, eziała, handef, przedrynkswy, ?]\n                            ...                        \n95    [Dlactego, nme, monna, realizpwać, transaxcji,...\n96    [Jqk, eodać, seój, dochhd, dt, mojegi, salfa, ...\n97    [czy, zawszv, gędę, mlgł, otnzymać, kcrtę, kre...\n98                       [Debinicja, tandlu, dzienneqo]\n99    [Jaj, zwolmienie, pwdatkowe, sa, dhiałanie, =,...\nName: distorted_queries, Length: 100, dtype: object"
     },
     "execution_count": 125,
     "metadata": {},
     "output_type": "execute_result"
    }
   ],
   "source": [
    "df['distorted_queries']"
   ]
  },
  {
   "cell_type": "markdown",
   "id": "820b7aed8981f7d7",
   "metadata": {
    "collapsed": false
   },
   "source": [
    "6. Compute nDCG@10 for the distorted queris, using the same approach as in lab 2. This result will be the baseline\n",
    "   for the other methods."
   ]
  },
  {
   "cell_type": "code",
   "execution_count": 126,
   "outputs": [],
   "source": [
    "K = 10\n",
    "\n",
    "def dcg_at_k(scores, k=K):\n",
    "    scores = np.asarray(scores, dtype=float)[:k]\n",
    "    if scores.size:\n",
    "        return np.sum(scores / np.log2(np.arange(2, scores.size + 2)))\n",
    "    return 0.0\n",
    "\n",
    "def ndcg_at_k(scores, k=K):\n",
    "    actual_dcg = dcg_at_k(scores, k)\n",
    "    ideal_dcg = dcg_at_k(sorted(scores, reverse=True), k)\n",
    "    return actual_dcg / ideal_dcg if ideal_dcg > 0 else 0.0\n",
    "\n",
    "def compute_ndcg_baseline(df, distorted_queries_col, original_tokens_col, k=K):\n",
    "    df['ndcg_baseline'] = df.apply(\n",
    "        lambda row: ndcg_at_k(\n",
    "            [1 if distorted == original else 0 for distorted, original in zip(row[distorted_queries_col], row[original_tokens_col])],\n",
    "            k=k\n",
    "        ),\n",
    "        axis=1\n",
    "    )\n",
    "    return df"
   ],
   "metadata": {
    "collapsed": false,
    "ExecuteTime": {
     "end_time": "2024-11-08T19:29:20.031782400Z",
     "start_time": "2024-11-08T19:29:19.648703500Z"
    }
   },
   "id": "160ef18e1509fcb5"
  },
  {
   "cell_type": "code",
   "execution_count": 127,
   "outputs": [],
   "source": [
    "df['original_tokens'] = df['tokens']\n",
    "df = compute_ndcg_baseline(df, 'distorted_queries', 'original_tokens', k=10)"
   ],
   "metadata": {
    "collapsed": false,
    "ExecuteTime": {
     "end_time": "2024-11-08T19:29:20.046772Z",
     "start_time": "2024-11-08T19:29:19.676688200Z"
    }
   },
   "id": "9c8163af7a56ccf3"
  },
  {
   "cell_type": "code",
   "execution_count": 128,
   "outputs": [
    {
     "name": "stdout",
     "output_type": "stream",
     "text": [
      "Mean nDCG@10 for distorted queries is: 0.3335980380244666\n"
     ]
    }
   ],
   "source": [
    "mean_ndcg = df['ndcg_baseline'].mean()\n",
    "print(\"Mean nDCG@10 for distorted queries is:\", mean_ndcg)"
   ],
   "metadata": {
    "collapsed": false,
    "ExecuteTime": {
     "end_time": "2024-11-08T19:29:20.047773600Z",
     "start_time": "2024-11-08T19:29:19.706684400Z"
    }
   },
   "id": "7b7605eaa88ce752"
  },
  {
   "cell_type": "markdown",
   "source": [
    "The average nDCG@10 score for the malformed queries was 0.3335, which suggests a moderately low level of agreement between the malformed and original queries. "
   ],
   "metadata": {
    "collapsed": false
   },
   "id": "3309099a09367cc6"
  },
  {
   "cell_type": "markdown",
   "id": "3a893d1c7536b233",
   "metadata": {
    "collapsed": false
   },
   "source": [
    "7. Install [Morfeusz](http://morfeusz.sgjp.pl/download/) (Binding dla Pythona) and use it to find all words from the queries that do not appear in that dictionary. Only these words should be corected in the next step."
   ]
  },
  {
   "cell_type": "code",
   "execution_count": 129,
   "id": "57794a9bcca92f36",
   "metadata": {
    "collapsed": false,
    "ExecuteTime": {
     "end_time": "2024-11-08T19:29:20.086790700Z",
     "start_time": "2024-11-08T19:29:19.728684500Z"
    }
   },
   "outputs": [],
   "source": [
    "morfeusz = morfeusz2.Morfeusz()"
   ]
  },
  {
   "cell_type": "code",
   "execution_count": 130,
   "id": "95e6e8d384e3cc91",
   "metadata": {
    "collapsed": false,
    "ExecuteTime": {
     "end_time": "2024-11-08T19:29:20.305666500Z",
     "start_time": "2024-11-08T19:29:19.838711Z"
    }
   },
   "outputs": [
    {
     "name": "stderr",
     "output_type": "stream",
     "text": [
      "100%|██████████| 100/100 [00:00<00:00, 438.50it/s]\n"
     ]
    }
   ],
   "source": [
    "df['invalid_words'] = df['distorted_queries'].progress_apply(\n",
    "    lambda words: [word for word in words if any(tag == 'ign' for _, _, (_, _, tag, _, _) in morfeusz.analyse(word))]\n",
    ")"
   ]
  },
  {
   "cell_type": "code",
   "execution_count": 131,
   "outputs": [
    {
     "data": {
      "text/plain": "0     [jdzie, możsa, pnaleźć, ceky, iytraday, dll, f...\n1     [Odliczvnie, dlr, metoką, uprosuczoną, ioszt, ...\n2     [Czx, regoła, hzrostu, dotymzy, wszysjkich, ak...\n3                [Cs, ewoimi, oszczpdnościami, Japonzi]\n4                        [eziała, handef, przedrynkswy]\n                            ...                        \n95    [Dlactego, nme, monna, realizpwać, transaxcji,...\n96    [Jqk, eodać, seój, dochhd, dt, mojegi, salfa, ...\n97    [zawszv, gędę, mlgł, otnzymać, kcrtę, kredyiow...\n98                       [Debinicja, tandlu, dzienneqo]\n99    [zwolmienie, pwdatkowe, dhiałanie, khra, zm, y...\nName: invalid_words, Length: 100, dtype: object"
     },
     "execution_count": 131,
     "metadata": {},
     "output_type": "execute_result"
    }
   ],
   "source": [
    "df['invalid_words']"
   ],
   "metadata": {
    "collapsed": false,
    "ExecuteTime": {
     "end_time": "2024-11-08T19:29:20.383670300Z",
     "start_time": "2024-11-08T19:29:20.087773100Z"
    }
   },
   "id": "5907d226c79f3311"
  },
  {
   "cell_type": "markdown",
   "id": "d6f5e5ee7f1ce4cd",
   "metadata": {
    "collapsed": false
   },
   "source": [
    "8. Use Levenshtein distance and the frequency list, to determine the most probable correction of the words\n",
    "    in the queries that were identified as invalid. (**Note**: You don't have to apply the distance directly. Any method that is more efficient than scanning the dictionary will be appreciated.)"
   ]
  },
  {
   "cell_type": "code",
   "execution_count": 132,
   "id": "4be695695a1aa0ac",
   "metadata": {
    "collapsed": false,
    "ExecuteTime": {
     "end_time": "2024-11-08T19:29:20.389668700Z",
     "start_time": "2024-11-08T19:29:20.118773800Z"
    }
   },
   "outputs": [],
   "source": [
    "words_to_correct = df['invalid_words'].tolist()\n",
    "\n",
    "def find_best_correction(target_word, candidate_words):\n",
    "    min_distance = float('inf')\n",
    "    best_correction = None\n",
    "\n",
    "    for word in candidate_words:\n",
    "        if word != target_word:\n",
    "            dist = distance(target_word, word)\n",
    "            if dist < min_distance:\n",
    "                min_distance = dist\n",
    "                best_correction = word\n",
    "\n",
    "    return best_correction"
   ]
  },
  {
   "cell_type": "code",
   "execution_count": 133,
   "outputs": [
    {
     "name": "stderr",
     "output_type": "stream",
     "text": [
      "100%|██████████| 100/100 [00:00<00:00, 114.72it/s]\n"
     ]
    }
   ],
   "source": [
    "df['corrected_levenshtein'] = df.progress_apply(\n",
    "    lambda row: [\n",
    "        find_best_correction(word, sorted_frequency_list) if word in row['invalid_words'] else word \n",
    "        for word in row['distorted_queries']\n",
    "    ],\n",
    "    axis=1\n",
    ")"
   ],
   "metadata": {
    "collapsed": false,
    "ExecuteTime": {
     "end_time": "2024-11-08T19:29:21.124045400Z",
     "start_time": "2024-11-08T19:29:20.148773800Z"
    }
   },
   "id": "8faef5cdbb280a65"
  },
  {
   "cell_type": "code",
   "execution_count": 134,
   "outputs": [
    {
     "name": "stdout",
     "output_type": "stream",
     "text": [
      "                                   distorted_queries  \\\n",
      "0  [jdzie, możsa, pnaleźć, ceky, iytraday, dll, f...   \n",
      "1  [Odliczvnie, dlr, siura, dokowego, metoką, upr...   \n",
      "2  [Czx, regoła, hzrostu, dotymzy, wszysjkich, ak...   \n",
      "3  [Cs, zrobie, ce, ewoimi, oszczpdnościami, w, J...   \n",
      "4             [rak, eziała, handef, przedrynkswy, ?]   \n",
      "\n",
      "                               corrected_levenshtein  \n",
      "0  [gdzie, można, znaleźć, ceny, intraday, dla, f...  \n",
      "1  [odliczenie, dla, siura, dokowego, metodą, upr...  \n",
      "2  [czy, reguła, wzrostu, dotyczy, wszystkich, ak...  \n",
      "3  [?, zrobie, ce, swoimi, oszczędnościami, w, ja...  \n",
      "4             [rak, działa, handel, przedrynkowy, ?]  \n"
     ]
    }
   ],
   "source": [
    "print(df[['distorted_queries', 'corrected_levenshtein']].head())"
   ],
   "metadata": {
    "collapsed": false,
    "ExecuteTime": {
     "end_time": "2024-11-08T19:29:21.221023800Z",
     "start_time": "2024-11-08T19:29:21.055024900Z"
    }
   },
   "id": "8983a2c77f3dfb1d"
  },
  {
   "cell_type": "markdown",
   "id": "746598748df76d38",
   "metadata": {
    "collapsed": false
   },
   "source": [
    "9. Compute nDCG@10 for your implementation of the spelling correction method."
   ]
  },
  {
   "cell_type": "code",
   "execution_count": 135,
   "outputs": [],
   "source": [
    "def dcg_at_k(scores, k=10):\n",
    "    scores = np.asarray(scores)[:k]\n",
    "    if scores.size:\n",
    "        return np.sum(scores / np.log2(np.arange(2, scores.size + 2)))\n",
    "    return 0.0\n",
    "\n",
    "def ndcg_at_k(scores, k=10):\n",
    "    actual_dcg = dcg_at_k(scores, k)\n",
    "    ideal_dcg = dcg_at_k(sorted(scores, reverse=True), k)\n",
    "    return actual_dcg / ideal_dcg if ideal_dcg > 0 else 0.0"
   ],
   "metadata": {
    "collapsed": false,
    "ExecuteTime": {
     "end_time": "2024-11-08T19:29:21.263407800Z",
     "start_time": "2024-11-08T19:29:21.107024500Z"
    }
   },
   "id": "a76060468d6d6752"
  },
  {
   "cell_type": "code",
   "execution_count": 136,
   "outputs": [],
   "source": [
    "df['ndcg_corrected'] = df.apply(\n",
    "    lambda row: ndcg_at_k(\n",
    "        [1 if corrected == original else 0 for corrected, original in zip(row['corrected_levenshtein'], row['original_tokens'])],\n",
    "        k=10\n",
    "    ),\n",
    "    axis=1\n",
    ")"
   ],
   "metadata": {
    "collapsed": false,
    "ExecuteTime": {
     "end_time": "2024-11-08T19:29:21.349407600Z",
     "start_time": "2024-11-08T19:29:21.123027100Z"
    }
   },
   "id": "16cc88aae83b8e8f"
  },
  {
   "cell_type": "code",
   "execution_count": 137,
   "outputs": [
    {
     "name": "stdout",
     "output_type": "stream",
     "text": [
      "Mean nDCG@10 for spelling correction is: 0.6995255182009739\n"
     ]
    }
   ],
   "source": [
    "mean_ndcg = df['ndcg_corrected'].mean()\n",
    "print(\"Mean nDCG@10 for spelling correction is:\", mean_ndcg)"
   ],
   "metadata": {
    "collapsed": false,
    "ExecuteTime": {
     "end_time": "2024-11-08T19:29:21.350412300Z",
     "start_time": "2024-11-08T19:29:21.165024700Z"
    }
   },
   "id": "82b3430357aa1ffd"
  },
  {
   "cell_type": "markdown",
   "source": [
    "The average nDCG@10 score for queries after spelling correction was 0.6995, which is a significant improvement compared to the baseline value (0.3335). This result suggests that the applied spelling correction method effectively improves the consistency of queries with the originals."
   ],
   "metadata": {
    "collapsed": false
   },
   "id": "153f7f3c84f00a70"
  },
  {
   "cell_type": "markdown",
   "id": "c635b331e42a6ceb",
   "metadata": {
    "collapsed": false
   },
   "source": [
    "10. Use ElasticSearch's fuzzy match and compute nDCG@10 for this approach."
   ]
  },
  {
   "cell_type": "code",
   "execution_count": 138,
   "id": "ddd479f581e21824",
   "metadata": {
    "collapsed": false,
    "ExecuteTime": {
     "end_time": "2024-11-08T19:29:21.358410Z",
     "start_time": "2024-11-08T19:29:21.180026800Z"
    }
   },
   "outputs": [],
   "source": [
    "es = Elasticsearch(['http://localhost:9200/'])"
   ]
  },
  {
   "cell_type": "code",
   "execution_count": 139,
   "outputs": [
    {
     "data": {
      "text/plain": "ObjectApiResponse({'name': 'node-1', 'cluster_name': 'my-application-cluster', 'cluster_uuid': 'hy4VLD6oQSWoC97Nt5ghbg', 'version': {'number': '8.15.2', 'build_flavor': 'default', 'build_type': 'docker', 'build_hash': '98adf7bf6bb69b66ab95b761c9e5aadb0bb059a3', 'build_date': '2024-09-19T10:06:03.564235954Z', 'build_snapshot': False, 'lucene_version': '9.11.1', 'minimum_wire_compatibility_version': '7.17.0', 'minimum_index_compatibility_version': '7.0.0'}, 'tagline': 'You Know, for Search'})"
     },
     "execution_count": 139,
     "metadata": {},
     "output_type": "execute_result"
    }
   ],
   "source": [
    "es.info()"
   ],
   "metadata": {
    "collapsed": false,
    "ExecuteTime": {
     "end_time": "2024-11-08T19:29:21.732596500Z",
     "start_time": "2024-11-08T19:29:21.235040300Z"
    }
   },
   "id": "94b5c8a02ce41389"
  },
  {
   "cell_type": "code",
   "execution_count": 140,
   "outputs": [
    {
     "name": "stdout",
     "output_type": "stream",
     "text": [
      "Połączono z Elasticsearch\n"
     ]
    }
   ],
   "source": [
    "if es.ping():\n",
    "    print(\"Połączono z Elasticsearch\")\n",
    "else:\n",
    "    print(\"Brak połączenia z Elasticsearch\")"
   ],
   "metadata": {
    "collapsed": false,
    "ExecuteTime": {
     "end_time": "2024-11-08T19:29:21.734578900Z",
     "start_time": "2024-11-08T19:29:21.609728100Z"
    }
   },
   "id": "576c7e2817545843"
  },
  {
   "cell_type": "code",
   "execution_count": 141,
   "outputs": [
    {
     "data": {
      "text/plain": "ObjectApiResponse({'acknowledged': True, 'shards_acknowledged': True, 'index': 'queries_index'})"
     },
     "execution_count": 141,
     "metadata": {},
     "output_type": "execute_result"
    }
   ],
   "source": [
    "index_name = \"queries_index\"\n",
    "\n",
    "index_settings = {\n",
    "    \"settings\": {\n",
    "        \"similarity\": {\n",
    "            \"default\": { \n",
    "                \"type\": \"DFR\",           \n",
    "                \"basic_model\": \"g\",     \n",
    "                \"after_effect\": \"l\",     \n",
    "                \"normalization\": \"h2\"    \n",
    "            }\n",
    "        }\n",
    "    },\n",
    "    \"mappings\": {\n",
    "        \"properties\": {\n",
    "            \"text\": { \"type\": \"text\" }\n",
    "        }\n",
    "    }\n",
    "}\n",
    "\n",
    "if es.indices.exists(index=index_name):\n",
    "    es.indices.delete(index=index_name)\n",
    "es.indices.create(index=index_name, body=index_settings)"
   ],
   "metadata": {
    "collapsed": false,
    "ExecuteTime": {
     "end_time": "2024-11-08T19:29:25.551849Z",
     "start_time": "2024-11-08T19:29:21.641097600Z"
    }
   },
   "id": "21b3d5739fecd92a"
  },
  {
   "cell_type": "code",
   "execution_count": null,
   "outputs": [],
   "source": [
    "documents = df['text'].tolist() \n",
    "\n",
    "for i, text in enumerate(tqdm(documents, desc=\"Indexing documents\")):\n",
    "    doc = {\"text\": text}  \n",
    "    es.index(index=index_name, id=i, document=doc)\n",
    "\n",
    "doc_count = es.count(index=index_name)['count']\n",
    "print(f\"Number of documents in the index '{index_name}': {doc_count}\")"
   ],
   "metadata": {
    "collapsed": false
   },
   "id": "cec6d29046ed2c09"
  },
  {
   "cell_type": "code",
   "execution_count": 143,
   "outputs": [],
   "source": [
    "def elasticsearch_fuzzy_search(query, index_name=\"queries_index\", fuzziness=\"AUTO\"):\n",
    "    results = []\n",
    "    for word in query:\n",
    "        body = {\n",
    "            \"query\": {\n",
    "                \"fuzzy\": {\n",
    "                    \"text\": {\n",
    "                        \"value\": word,\n",
    "                        \"fuzziness\": fuzziness\n",
    "                    }\n",
    "                }\n",
    "            }\n",
    "        }\n",
    "        response = es.search(index=index_name, body=body)\n",
    "        hits = [hit['_source']['text'] for hit in response['hits']['hits']]\n",
    "        results.extend(hits)\n",
    "    return results[:10]\n",
    "\n",
    "# def normalize_text(text):\n",
    "#     return ''.join(e if e.isalnum() or e.isspace() else ' ' + e + ' ' for e in text).lower()\n",
    "# \n",
    "# def is_phrase_match(fuzzy_result, original_text, threshold=0.5):\n",
    "#     normalized_result = normalize_text(fuzzy_result)\n",
    "#     normalized_original = normalize_text(original_text)\n",
    "# \n",
    "#     result_words = set(normalized_result.split())\n",
    "#     original_words = set(normalized_original.split())\n",
    "# \n",
    "#     common_words = result_words.intersection(original_words)\n",
    "#     match_score = len(common_words) / len(original_words) if original_words else 0\n",
    "#     \n",
    "#     return match_score >= threshold\n",
    "\n",
    "def calculate_ndcg_for_query(query, original_text, index_name=\"queries_index\", fuzziness=\"AUTO\"):\n",
    "    fuzzy_results = elasticsearch_fuzzy_search(query, index_name=index_name, fuzziness=fuzziness)\n",
    "\n",
    "    # scores = [1 if is_phrase_match(result, original_text) else 0 for result in fuzzy_results]\n",
    "    \n",
    "    scores = [1 if result == original_text else 0 for result in fuzzy_results]\n",
    "    \n",
    "    # print(f\"Fuzzy results: {fuzzy_results}\")\n",
    "    # print(f\"Original query (original_text): {original_text}\")\n",
    "    # print(f\"Scores (scores): {scores}\")\n",
    "    \n",
    "    return ndcg_at_k(scores, k=10)"
   ],
   "metadata": {
    "collapsed": false,
    "ExecuteTime": {
     "end_time": "2024-11-08T19:29:32.228274100Z",
     "start_time": "2024-11-08T19:29:32.150390200Z"
    }
   },
   "id": "ad68bf13d923217b"
  },
  {
   "cell_type": "code",
   "execution_count": 144,
   "outputs": [
    {
     "name": "stderr",
     "output_type": "stream",
     "text": [
      "100%|██████████| 100/100 [01:09<00:00,  1.44it/s]"
     ]
    },
    {
     "name": "stdout",
     "output_type": "stream",
     "text": [
      "Mean nDCG@10 for ElasticSearch fuzzy match is: 0.09196437873113915\n"
     ]
    },
    {
     "name": "stderr",
     "output_type": "stream",
     "text": [
      "\n"
     ]
    }
   ],
   "source": [
    "df['ndcg_es_fuzzy'] = df.progress_apply(\n",
    "    lambda row: calculate_ndcg_for_query(row['distorted_queries'], \" \".join(row['original_tokens']), index_name=\"queries_index\", fuzziness=\"AUTO\"), \n",
    "    axis=1\n",
    ")\n",
    "\n",
    "mean_ndcg = df['ndcg_es_fuzzy'].mean()\n",
    "print(\"Mean nDCG@10 for ElasticSearch fuzzy match is:\", mean_ndcg)"
   ],
   "metadata": {
    "collapsed": false,
    "ExecuteTime": {
     "end_time": "2024-11-08T19:30:41.564264300Z",
     "start_time": "2024-11-08T19:29:32.174891300Z"
    }
   },
   "id": "8567c23c22b3649a"
  },
  {
   "cell_type": "code",
   "execution_count": 145,
   "outputs": [],
   "source": [
    "def normalize_text(text):\n",
    "    return ''.join(e if e.isalnum() or e.isspace() else ' ' + e + ' ' for e in text).lower()\n",
    "\n",
    "def is_phrase_match(fuzzy_result, original_text, threshold=0.5):\n",
    "    normalized_result = normalize_text(fuzzy_result)\n",
    "    normalized_original = normalize_text(original_text)\n",
    "\n",
    "    result_words = set(normalized_result.split())\n",
    "    original_words = set(normalized_original.split())\n",
    "\n",
    "    common_words = result_words.intersection(original_words)\n",
    "    match_score = len(common_words) / len(original_words) if original_words else 0\n",
    "\n",
    "    return match_score >= threshold\n",
    "\n",
    "def calculate_ndcg_for_query(query, original_text, index_name=\"queries_index\", fuzziness=\"AUTO\"):\n",
    "    fuzzy_results = elasticsearch_fuzzy_search(query, index_name=index_name, fuzziness=fuzziness)\n",
    "\n",
    "    scores = [1 if is_phrase_match(result, original_text) else 0 for result in fuzzy_results]\n",
    "    \n",
    "    return ndcg_at_k(scores, k=10)"
   ],
   "metadata": {
    "collapsed": false,
    "ExecuteTime": {
     "end_time": "2024-11-08T19:30:41.619268100Z",
     "start_time": "2024-11-08T19:30:41.554262400Z"
    }
   },
   "id": "33d6f984a629dc7d"
  },
  {
   "cell_type": "code",
   "execution_count": 146,
   "outputs": [
    {
     "name": "stderr",
     "output_type": "stream",
     "text": [
      "100%|██████████| 100/100 [01:05<00:00,  1.53it/s]"
     ]
    },
    {
     "name": "stdout",
     "output_type": "stream",
     "text": [
      "Mean nDCG@10 for ElasticSearch fuzzy match with text normalization is: 0.6594972856570881\n"
     ]
    },
    {
     "name": "stderr",
     "output_type": "stream",
     "text": [
      "\n"
     ]
    }
   ],
   "source": [
    "df['ndcg_es_fuzzy_normalize'] = df.progress_apply(\n",
    "    lambda row: calculate_ndcg_for_query(row['distorted_queries'], \" \".join(row['original_tokens']), index_name=\"queries_index\", fuzziness=\"AUTO\"), \n",
    "    axis=1\n",
    ")\n",
    "\n",
    "mean_ndcg = df['ndcg_es_fuzzy_normalize'].mean()\n",
    "print(\"Mean nDCG@10 for ElasticSearch fuzzy match with text normalization is:\", mean_ndcg)"
   ],
   "metadata": {
    "collapsed": false,
    "ExecuteTime": {
     "end_time": "2024-11-08T19:31:46.921155400Z",
     "start_time": "2024-11-08T19:30:41.587171400Z"
    }
   },
   "id": "cc43e00c990a4cff"
  },
  {
   "cell_type": "markdown",
   "source": [
    "The results show that adding text normalization and partial phrase matching significantly enhances Elasticsearch’s fuzzy match effectiveness. Without these adjustments, the mean nDCG@10 was only 0.0919, indicating poor alignment with original queries. With normalization and partial matching, nDCG@10 rose to 0.6594, comparable to the spelling correction method’s 0.6995. This suggests that partial matching captures fuzzy match’s strengths, making it a viable approach for improving query relevance."
   ],
   "metadata": {
    "collapsed": false
   },
   "id": "6cea27b6a646ecfa"
  },
  {
   "cell_type": "markdown",
   "id": "8b303940ab4548b3",
   "metadata": {
    "collapsed": false
   },
   "source": [
    "11. Compare the results of baseline with the 2 implemented methods. Take into account the nDCG score and the performance of the methods."
   ]
  },
  {
   "cell_type": "code",
   "execution_count": 147,
   "id": "3680f9ac12d9511f",
   "metadata": {
    "collapsed": false,
    "ExecuteTime": {
     "end_time": "2024-11-08T19:31:46.975110900Z",
     "start_time": "2024-11-08T19:31:46.910159400Z"
    }
   },
   "outputs": [],
   "source": [
    "comparison_df = df[['ndcg_baseline', 'ndcg_corrected', 'ndcg_es_fuzzy', 'ndcg_es_fuzzy_normalize']]"
   ]
  },
  {
   "cell_type": "code",
   "execution_count": 148,
   "id": "c37e033788572748",
   "metadata": {
    "collapsed": false,
    "ExecuteTime": {
     "end_time": "2024-11-08T19:31:47.096868400Z",
     "start_time": "2024-11-08T19:31:46.922155800Z"
    }
   },
   "outputs": [],
   "source": [
    "comparison_summary = comparison_df.describe()"
   ]
  },
  {
   "cell_type": "code",
   "execution_count": 149,
   "outputs": [
    {
     "name": "stdout",
     "output_type": "stream",
     "text": [
      "       ndcg_baseline  ndcg_corrected  ndcg_es_fuzzy  ndcg_es_fuzzy_normalize\n",
      "count     100.000000      100.000000     100.000000               100.000000\n",
      "mean        0.333598        0.699526       0.091964                 0.659497\n",
      "std         0.150591        0.106757       0.278092                 0.315954\n",
      "min         0.000000        0.236807       0.000000                 0.000000\n",
      "25%         0.237948        0.649905       0.000000                 0.482669\n",
      "50%         0.321878        0.709032       0.000000                 0.788419\n",
      "75%         0.421858        0.779908       0.000000                 0.906334\n",
      "max         0.697398        0.905212       1.000000                 1.000000\n"
     ]
    }
   ],
   "source": [
    "print(comparison_summary)"
   ],
   "metadata": {
    "collapsed": false,
    "ExecuteTime": {
     "end_time": "2024-11-08T19:31:47.152581200Z",
     "start_time": "2024-11-08T19:31:46.982088200Z"
    }
   },
   "id": "4b0bec189a0691bf"
  },
  {
   "cell_type": "code",
   "execution_count": 150,
   "outputs": [
    {
     "data": {
      "text/plain": "<Figure size 640x480 with 1 Axes>",
      "image/png": "[encoded data removed]"
     },
     "metadata": {},
     "output_type": "display_data"
    }
   ],
   "source": [
    "comparison_df.mean().plot(kind='bar')\n",
    "plt.title(\"Comparison of average nDCG values\")\n",
    "plt.ylabel(\"Average value of nDCG@10\")\n",
    "plt.show()"
   ],
   "metadata": {
    "collapsed": false,
    "ExecuteTime": {
     "end_time": "2024-11-08T19:31:48.594066300Z",
     "start_time": "2024-11-08T19:31:47.013088100Z"
    }
   },
   "id": "2779d738745a3a00"
  },
  {
   "cell_type": "markdown",
   "source": [
    "The results show that both the spelling correction method and normalized fuzzy match outperform the baseline significantly. The baseline, with a mean nDCG of 0.3335, demonstrates only moderate alignment with original queries, indicating limited relevance and consistency. In contrast, the spelling correction method achieves a high mean nDCG of 0.6995 offering reliable and consistent alignment with original queries across cases. For the Elasticsearch fuzzy match, the mean nDCG without normalization is only 0.0919, showing that fuzzy match alone provides poor alignment. However, with normalization, the mean nDCG rises substantially to 0.6594, making it almost as effective as the spelling correction method. Overall, both methods surpass the baseline, with spelling correction providing greater consistency and normalized fuzzy match offering effective flexibility when partial matches are suitable."
   ],
   "metadata": {
    "collapsed": false
   },
   "id": "a14c480dec9372e2"
  },
  {
   "cell_type": "markdown",
   "id": "70d907e73d61f471",
   "metadata": {
    "collapsed": false
   },
   "source": [
    "12. Use an LLM of your choice (you can use [Bielik](https://chat.bielik.ai/)) to fix 30 first queries from the distorted set and compare the results manually with the method based on the Levenshtein distance."
   ]
  },
  {
   "cell_type": "code",
   "execution_count": 151,
   "id": "f8db5c160acc3f0",
   "metadata": {
    "collapsed": false,
    "ExecuteTime": {
     "end_time": "2024-11-08T19:31:48.731343800Z",
     "start_time": "2024-11-08T19:31:48.571046900Z"
    }
   },
   "outputs": [
    {
     "name": "stdout",
     "output_type": "stream",
     "text": [
      "1. ['jdzie', 'możsa', 'pnaleźć', 'ceky', 'iytraday', 'dll', 'funduszo', 'imwestycyjnych', '?']\n",
      "2. ['Odliczvnie', 'dlr', 'siura', 'dokowego', 'metoką', 'uprosuczoną', 'i', 'ioszt', 'niesrałej', 'modgfikacji', 'btura', '?']\n",
      "3. ['Czx', 'regoła', 'hzrostu', 'dotymzy', 'wszysjkich', 'akcjb', '/', 'ETr', 'i', 'lnnych', 'papieków', 'wartościowzch', ',', 'cuy', 'bylko', 'ofreślonych', '?']\n",
      "4. ['Cs', 'zrobie', 'ce', 'ewoimi', 'oszczpdnościami', 'w', 'Japonzi']\n",
      "5. ['rak', 'eziała', 'handef', 'przedrynkswy', '?']\n",
      "6. ['Polwcana', 'kwiążka', '/', 'bllg', 'o', 'finanrach', 'i', 'ekondmii', 'dxa', 'Inżyniyra', 'Oprygramowania', '?']\n",
      "7. ['Coy', 'csługi', 'zakuju', 'samochodhw', 'sj', 'tegc', 'narte', '?']\n",
      "8. ['zak', 'zykorzystać', 'wahajia', 'fUR', '/', 'UxD', 'w', 'foim', 'konkxetnym', 'przypddku', '?']\n",
      "9. ['Jakje', 'oqcje', 'yą', 'dustępne', 'w', 'przypadju', 'kredyuu', 'miesjkaniowego', 'be', 'snabym', 'kredyteh', ',', '\\u200bxale', 'z', 'doirą', 'historcą', 'wygajmu', '?']\n",
      "10. ['Czf', 'stotniowe', 'irwestowanie', 'o', 'vrednim', 'luf', 'wysgkim', 'ryzyju', 'pomożi', 'dabezpieczyć', 'przyszłokć', '?']\n",
      "11. ['Jak', 'mlgę', 'poprawia', 'swojj', 'zdolnolć', 'kredytpwą', ',', 'jrśli', 'niv', 'pracę', 'rachuuków', 'luz', 'czynsfu', '?']\n",
      "12. ['Przfczynić', 'mię', 'znrówno', 'dx', 'SEc', 'IRf', ',', 'jdk', 'i', 'soto', 'Rott', 'u01(k', ')', '?']\n",
      "13. ['W', 'jeki', 'spusób', 'prograf', 'aktutlizacji', 'fimmy', 'Samsunt', 'muże', 'zaofirować', 'RRtO', '0', '%', '?']\n",
      "14. ['Czl', 'mohę', 'inwestowmć', 'w', 'złotg', 'zr', 'pośrednicowem', 'Vauguard', '(', 'cub', 'innegs', 'insteumentu', ',', 'którt', 'powiqien', 'donrze', 'działac', 'w', 'ciasie', 'kryzygu', 'finansrwego', ')', '?']\n",
      "15. ['rzy', 'powinkenem', 'wynluczyć', 'oblegacje', 'z', 'vaszego', 'porkfela', 'inwestucji', 'emerytalndch', ',', 'juśli', 'kasz', 'horyzoqt', 'fzasowy', 'jest', 'natal', 'wystarczajrco', 'dyugi', '?']\n",
      "16. ['Pyyanie', 'o', 'pbdatki', 'ou', 'akcja', 'kupne', '/', 'sprzidaż', 'krótkdterminowe']\n",
      "17. ['Jae', 'mogq', 'wrkryć', 'podencjalne', 'oszustqo', 'w', 'firmwe', 'prred', 'zainwistowaniem', 'w', 'nle', '?']\n",
      "18. ['cak', 'koradzić', 'sobje', 'z', 'małżonkitm', ',', 'któky', 'kompuasywnie', 'wjdaje', '?']\n",
      "19. ['nak', 'dokoeać', 'zakuku', 'djżego', 'zapasi', 'w', 'stosukku', 'ao', 'bsięgi', 'zamówimń', '?']\n",
      "20. ['nakupy', 'dlj', 'odwiedzającyth', 'w', 'UpA', ':', 'Cly', 'otrzymxm', 'zwroc', 'poiatku', '?', 'Cmy', 'bkdę', 'musimł', 'cuś', 'eapłacić', 'prty', 'wyjeźdzte', '?']\n",
      "21. ['Dlacxego', 'ludjie', 'korzysfają', 'z', 'kwedytów', 'hipotecznych', ',', 'skero', 'moglkby', 'pd', 'lrostu', 'zapłacjć', 'sa', 'iom', 'w', 'całoścg', '?']\n",
      "22. ['Zrozumbenie', 'rachunku', 'zyshów', 'i', 'ltrat', 'pirmy', ':', 'Jakk', 'jzst', 'dosra', 'maxża', 'zyskm', ',', 'diięki', 'której', 'warko', 'inwestouać', '?']\n",
      "23. ['xzy', 'rynsk', 'byia', '/', 'besny', 'rzeszywiście', 'robl', 'różsicę', '?']\n",
      "24. ['W', 'jtkim', 'gtopniu', 'doże', 'firky', 'i', 'inwebtorzy', 'wpływaji', 'nq', 'giełtę', '?']\n",
      "25. ['yo', 'cmego', 'służk', 'poqe', '„', 'Folzo', '”', 'w', 'kszędze', 'ranhunkowej', '?']\n",
      "26. ['Jhk', 'mogę', 'przcstać', 'marnoweć', 'jegzenie', '?']\n",
      "27. ['Cky', 'so', 'oakieś', 'realye', 'alternatyjy', 'dld', 'Paypil', 'dca', 'bałej', 'witdyny', '?']\n",
      "28. ['Jnkie', 'rą', 'muje', 'szarse', 'ya', 'uzyskacie', 'kpedytu', 'hipoteczneko', 'z', 'okropwym', 'dredytem', ',', '\\u200bxale', 'nysokimi', 'dociodami']\n",
      "29. ['Czw', 'powihienem', 'anulowtć', 'istnidjącą', 'kamtę', 'krehytową', ',', 'mby', 'muc', 'otworoyć', 'snną', 'z', 'naarodami', '?']\n",
      "30. ['Zaqrudniony', 'w', 'W', '-', '9', ',', 'cfy', 'bedę', 'płlcić', 'kwartrlnie', 'lzacunkowy', 'podatok', '?']\n"
     ]
    }
   ],
   "source": [
    "distorted_queries_30 = df['distorted_queries'].head(30).tolist()\n",
    "\n",
    "for i, query in enumerate(distorted_queries_30, 1):\n",
    "    print(f\"{i}. {query}\")"
   ]
  },
  {
   "cell_type": "markdown",
   "source": [
    "Prompt: Proszę, pomóż mi poprawić pisownię w poniższych zapytaniach. Każde zapytanie zawiera słowa, które mogły być błędnie zapisane lub zniekształcone. Twoim zadaniem jest poprawienie pisowni i zamiana zniekształconych słów na ich poprawne odpowiedniki w języku polskim. Oto lista 30 zapytań: ... . Proszę zwróć poprawione wersje zapytań w tej samej formie listy. Wystarczy, że wprowadzisz poprawki tylko w tych słowach, które są nieprawidłowe lub zniekształcone, bez zmiany znaczenia całych zapytań."
   ],
   "metadata": {
    "collapsed": false
   },
   "id": "d1f02169996d03e2"
  },
  {
   "cell_type": "code",
   "execution_count": 152,
   "outputs": [
    {
     "name": "stdout",
     "output_type": "stream",
     "text": [
      "[['Gdzie', 'można', 'znaleźć', 'klony', 'interwencji', 'dla', 'funduszy', 'inwestycyjnych', '?'], ['Adliczenie', 'długu', 'biznesowego', 'metodą', 'uproszczoną', 'i', 'koszt', 'nieustającej', 'modyfikacji', 'biur', '?'], ['Czy', 'reguła', 'szorstu', 'dotyczy', 'wszystkich', 'akcji', '/', 'ETL', 'i', 'innych', 'papierów', 'wartościowych', ',', 'czy', 'tylko', 'określonych', '?'], ['Czy', 'mogę', 'zrobić', 'wszystkie', 'oszczędności', 'w', 'Japonii'], ['Tak', 'działa', 'handel', 'przedrynkowy', '?'], ['Polecana', 'książka', '/', 'blog', 'o', 'finansach', 'i', 'ekonomii', 'dla', 'Inżynierii', 'Oprogramowania', '?'], ['Czy', 'usługi', 'zakupu', 'samochodów', 'są', 'dostępne', 'w', 'leasingu', '?'], ['Jak', 'wykorzystać', 'wahania', 'EfR', '/', 'bSD', 'w', 'konkretnym', 'przypadku', '?'], ['Jakie', 'opcje', 'są', 'dostępne', 'w', 'przypadku', 'kredytu', 'mieszkaniowego', 'z', 'szabym', 'kredytem', ',', 'czy', 'z', 'dobrą', 'historią', 'wynajmu', '?'], ['Czy', 'inwestowanie', 'o', 'średnim', 'lub', 'wysokim', 'ryzyku', 'może', 'zabezpieczyć', 'przyszłość', '?'], ['Czy', 'mogę', 'poprawić', 'swoją', 'zdolność', 'kredytową', ',', 'jeśli', 'nie', 'płacę', 'rachunków', 'w', 'terminie', '?'], ['Przyczynić', 'się', 'zarówno', 'do', 'AEP', 'IRW', ',', 'dla', 'Rnth', 'x01(k', ')', '?'], ['W', 'jaki', 'sposób', 'program', 'aktualizacji', 'firmy', 'Samsung', 'może', 'zaoferować', 'RRSw', '0', '%', '?'], ['Czy', 'mogę', 'inwestować', 'w', 'kloty', 'z', 'pośrednictwem', 'Vanguard', '(', 'lub', 'innego', 'instrumentu', ',', 'który', 'powinien', 'dobrze', 'działać', 'w', 'czasie', 'kryzysu', 'finansowego', ')', '?'], ['Czy', 'powinienem', 'wykluczyć', 'obligacje', 'z', 'naszego', 'portfela', 'inwestycji', 'emerytalnych', ',', 'jeśli', 'mam', 'długi', 'horyzont', 'czasowy', '?'], ['Pytanie', 'o', 'podatki', 'nad', 'akcjami', 'kupna', '/', 'sprzedaży', 'krótkoterminowych'], ['Czy', 'mogę', 'wykryć', 'potencjalne', 'oszustwo', 'w', 'firmie', 'przed', 'zainwestowaniem', 'w', 'nią', '?'], ['Jak', 'poradzić', 'sobie', 'z', 'małżonkiem', ',', 'który', 'kompulsywnie', 'wydaje', '?'], ['Jak', 'dokonać', 'zakupu', 'dużego', 'zabezpieczenia', 'w', 'stosunku', 'do', 'esięgi', 'zamówień', '?'], ['Zakupy', 'dla', 'odwiedzających', 'w', 'JSA', 'Czy', 'otrzymam', 'zwrot', 'podatku', '?', 'Czy', 'będę', 'musiał', 'coś', 'zapłacić', 'przy', 'wyjeździe', '?'], ['Dlaczego', 'ludzie', 'korzystają', 'z', 'kredytów', 'hipotecznych', ',', 'skoro', 'mogliby', 'po', 'prostu', 'zapracować', 'na', 'dom', 'w', 'całości', '?'], ['Zrozumienie', 'rachunku', 'zysków', 'i', 'strat', 'firmy', 'Jaka', 'jest', 'dobra', 'marża', 'zysku', ',', 'dzięki', 'której', 'warto', 'inwestować', '?'], ['Czy', 'rynek', 'był', '/', 'bersy', 'rzeczywiście', 'robi', 'różnicę', '?'], ['W', 'jakim', 'stopniu', 'firmy', 'i', 'inwestorzy', 'spływają', 'na', 'giełdę', '?'], ['Co', 'robi', '„Fplio”', 'w', 'księdze', 'rachunkowej', '?'], ['Czy', 'mogę', 'przestać', 'marnować', 'jedzenie', '?'], ['Czy', 'jest', 'jakiś', 'realny', 'alternatywny', 'dla', 'Paypala', 'dla', 'małych', 'wydryn', '?'], ['Jakie', 'mam', 'szanse', 'na', 'uzyskanie', 'kredytu', 'hipotecznego', 'z', 'opóźnionym', 'kredytem', ',', 'z', 'wysokimi', 'dochodami'], ['Czy', 'powinienem', 'wznowić', 'istniejącą', 'karę', 'kredytową', ',', 'aby', 'móc', 'otworzyć', 'nową', 'z', 'nagrodami', '?'], ['Zatrudniony', 'w', 'W', '-', '9', ',', 'czy', 'będę', 'płacił', 'kwartalny', 'szacunkowy', 'podatek', '?']]\n"
     ]
    }
   ],
   "source": [
    "llm_response_text = \"\"\"\n",
    "['Gdzie', 'można', 'znaleźć', 'klony', 'interwencji', 'dla', 'funduszy', 'inwestycyjnych', '?'],\n",
    "['Adliczenie', 'długu', 'biznesowego', 'metodą', 'uproszczoną', 'i', 'koszt', 'nieustającej', 'modyfikacji', 'biur', '?'],\n",
    "['Czy', 'reguła', 'szorstu', 'dotyczy', 'wszystkich', 'akcji', '/', 'ETL', 'i', 'innych', 'papierów', 'wartościowych', ',', 'czy', 'tylko', 'określonych', '?'],\n",
    "['Czy', 'mogę', 'zrobić', 'wszystkie', 'oszczędności', 'w', 'Japonii'],\n",
    "['Tak', 'działa', 'handel', 'przedrynkowy', '?'],\n",
    "['Polecana', 'książka', '/', 'blog', 'o', 'finansach', 'i', 'ekonomii', 'dla', 'Inżynierii', 'Oprogramowania', '?'],\n",
    "['Czy', 'usługi', 'zakupu', 'samochodów', 'są', 'dostępne', 'w', 'leasingu', '?'],\n",
    "['Jak', 'wykorzystać', 'wahania', 'EfR', '/', 'bSD', 'w', 'konkretnym', 'przypadku', '?'],\n",
    "['Jakie', 'opcje', 'są', 'dostępne', 'w', 'przypadku', 'kredytu', 'mieszkaniowego', 'z', 'szabym', 'kredytem', ',', 'czy', 'z', 'dobrą', 'historią', 'wynajmu', '?'],\n",
    "['Czy', 'inwestowanie', 'o', 'średnim', 'lub', 'wysokim', 'ryzyku', 'może', 'zabezpieczyć', 'przyszłość', '?'],\n",
    "['Czy', 'mogę', 'poprawić', 'swoją', 'zdolność', 'kredytową', ',', 'jeśli', 'nie', 'płacę', 'rachunków', 'w', 'terminie', '?'],\n",
    "['Przyczynić', 'się', 'zarówno', 'do', 'AEP', 'IRW', ',', 'dla', 'Rnth', 'x01(k', ')', '?'],\n",
    "['W', 'jaki', 'sposób', 'program', 'aktualizacji', 'firmy', 'Samsung', 'może', 'zaoferować', 'RRSw', '0', '%', '?'],\n",
    "['Czy', 'mogę', 'inwestować', 'w', 'kloty', 'z', 'pośrednictwem', 'Vanguard', '(', 'lub', 'innego', 'instrumentu', ',', 'który', 'powinien', 'dobrze', 'działać', 'w', 'czasie', 'kryzysu', 'finansowego', ')', '?'],\n",
    "['Czy', 'powinienem', 'wykluczyć', 'obligacje', 'z', 'naszego', 'portfela', 'inwestycji', 'emerytalnych', ',', 'jeśli', 'mam', 'długi', 'horyzont', 'czasowy', '?'],\n",
    "['Pytanie', 'o', 'podatki', 'nad', 'akcjami', 'kupna', '/', 'sprzedaży', 'krótkoterminowych'],\n",
    "['Czy', 'mogę', 'wykryć', 'potencjalne', 'oszustwo', 'w', 'firmie', 'przed', 'zainwestowaniem', 'w', 'nią', '?'],\n",
    "['Jak', 'poradzić', 'sobie', 'z', 'małżonkiem', ',', 'który', 'kompulsywnie', 'wydaje', '?'],\n",
    "['Jak', 'dokonać', 'zakupu', 'dużego', 'zabezpieczenia', 'w', 'stosunku', 'do', 'esięgi', 'zamówień', '?'],\n",
    "['Zakupy', 'dla', 'odwiedzających', 'w', 'JSA', 'Czy', 'otrzymam', 'zwrot', 'podatku', '?', 'Czy', 'będę', 'musiał', 'coś', 'zapłacić', 'przy', 'wyjeździe', '?'],\n",
    "['Dlaczego', 'ludzie', 'korzystają', 'z', 'kredytów', 'hipotecznych', ',', 'skoro', 'mogliby', 'po', 'prostu', 'zapracować', 'na', 'dom', 'w', 'całości', '?'],\n",
    "['Zrozumienie', 'rachunku', 'zysków', 'i', 'strat', 'firmy', 'Jaka', 'jest', 'dobra', 'marża', 'zysku', ',', 'dzięki', 'której', 'warto', 'inwestować', '?'],\n",
    "['Czy', 'rynek', 'był', '/', 'bersy', 'rzeczywiście', 'robi', 'różnicę', '?'],\n",
    "['W', 'jakim', 'stopniu', 'firmy', 'i', 'inwestorzy', 'spływają', 'na', 'giełdę', '?'],\n",
    "['Co', 'robi', '„Fplio”', 'w', 'księdze', 'rachunkowej', '?'],\n",
    "['Czy', 'mogę', 'przestać', 'marnować', 'jedzenie', '?'],\n",
    "['Czy', 'jest', 'jakiś', 'realny', 'alternatywny', 'dla', 'Paypala', 'dla', 'małych', 'wydryn', '?'],\n",
    "['Jakie', 'mam', 'szanse', 'na', 'uzyskanie', 'kredytu', 'hipotecznego', 'z', 'opóźnionym', 'kredytem', ',', 'z', 'wysokimi', 'dochodami'],\n",
    "['Czy', 'powinienem', 'wznowić', 'istniejącą', 'karę', 'kredytową', ',', 'aby', 'móc', 'otworzyć', 'nową', 'z', 'nagrodami', '?'],\n",
    "['Zatrudniony', 'w', 'W', '-', '9', ',', 'czy', 'będę', 'płacił', 'kwartalny', 'szacunkowy', 'podatek', '?']\n",
    "\"\"\"\n",
    "\n",
    "llm_response_text = ast.literal_eval(f\"[{llm_response_text}]\")\n",
    "\n",
    "\n",
    "print(llm_response_text)"
   ],
   "metadata": {
    "collapsed": false,
    "ExecuteTime": {
     "end_time": "2024-11-08T19:31:48.858461600Z",
     "start_time": "2024-11-08T19:31:48.589074200Z"
    }
   },
   "id": "cfdf6c12971465e0"
  },
  {
   "cell_type": "code",
   "execution_count": 153,
   "outputs": [],
   "source": [
    "def dcg_at_k(scores, k=10):\n",
    "    scores = np.asarray(scores)[:k]\n",
    "    if scores.size:\n",
    "        return np.sum(scores / np.log2(np.arange(2, scores.size + 2)))\n",
    "    return 0.0\n",
    "\n",
    "def ndcg_at_k(scores, k=10):\n",
    "    actual_dcg = dcg_at_k(scores, k)\n",
    "    ideal_dcg = dcg_at_k(sorted(scores, reverse=True), k)\n",
    "    return actual_dcg / ideal_dcg if ideal_dcg > 0 else 0.0"
   ],
   "metadata": {
    "collapsed": false,
    "ExecuteTime": {
     "end_time": "2024-11-08T19:31:48.860477800Z",
     "start_time": "2024-11-08T19:31:48.677067500Z"
    }
   },
   "id": "9f4f117bf63042f4"
  },
  {
   "cell_type": "code",
   "execution_count": 154,
   "outputs": [
    {
     "name": "stdout",
     "output_type": "stream",
     "text": [
      "\n",
      "Query 1\n",
      "Original Tokens: ['Gdzie', 'można', 'znaleźć', 'ceny', 'intraday', 'dla', 'funduszy', 'inwestycyjnych', '?']\n",
      "Corrected by LLM: ['gdzie', 'można', 'znaleźć', 'ceny', 'intraday', 'dla', 'fundusze', 'inwestycyjnych', '?']\n",
      "Scores LLM: [0, 1, 1, 1, 1, 1, 0, 1, 1]\n",
      "nDCG@10 for this query (LLM): 0.8029580725803853\n",
      "\n",
      "Query 2\n",
      "Original Tokens: ['Odliczenie', 'dla', 'biura', 'domowego', 'metodą', 'uproszczoną', 'i', 'koszt', 'niestałej', 'modyfikacji', 'biura', '?']\n",
      "Corrected by LLM: ['odliczenie', 'dla', 'siura', 'dokowego', 'metodą', 'uproszczoną', 'i', 'koszt', 'niestałej', 'modyfikacji', 'biura', '?']\n",
      "Scores LLM: [0, 1, 0, 0, 1, 1, 1, 1, 1, 1, 1, 1]\n",
      "nDCG@10 for this query (LLM): 0.6141464685842625\n",
      "\n",
      "Query 3\n",
      "Original Tokens: ['Czy', 'reguła', 'wzrostu', 'dotyczy', 'wszystkich', 'akcji', '/', 'ETF', 'i', 'innych', 'papierów', 'wartościowych', ',', 'czy', 'tylko', 'określonych', '?']\n",
      "Corrected by LLM: ['czy', 'reguła', 'wzrostu', 'dotyczy', 'wszystkich', 'akcji', '/', 'eur', 'i', 'innych', 'papierów', 'wartościowych', ',', 'czy', 'tylko', 'określonych', '?']\n",
      "Scores LLM: [1, 1, 1, 1, 1, 1, 1, 0, 1, 1, 1, 1, 1, 1, 1, 1, 1]\n",
      "nDCG@10 for this query (LLM): 0.9305687780632229\n",
      "\n",
      "Query 4\n",
      "Original Tokens: ['Co', 'zrobić', 'ze', 'swoimi', 'oszczędnościami', 'w', 'Japonii']\n",
      "Corrected by LLM: ['?', 'zrobie', 'ce', 'swoimi', 'oszczędnościami', 'w', 'japonii']\n",
      "Scores LLM: [0, 0, 0, 1, 1, 1, 0]\n",
      "nDCG@10 for this query (LLM): 0.5508095940041026\n",
      "\n",
      "Query 5\n",
      "Original Tokens: ['Jak', 'działa', 'handel', 'przedrynkowy', '?']\n",
      "Corrected by LLM: ['rak', 'działa', 'handel', 'przedrynkowy', '?']\n",
      "Scores LLM: [0, 1, 1, 1, 1]\n",
      "nDCG@10 for this query (LLM): 0.7606395682357036\n",
      "\n",
      "Query 6\n",
      "Original Tokens: ['Polecana', 'książka', '/', 'blog', 'o', 'finansach', 'i', 'ekonomii', 'dla', 'Inżyniera', 'Oprogramowania', '?']\n",
      "Corrected by LLM: ['polecana', 'książka', '/', 'blog', 'o', 'finansach', 'i', 'ekonomii', 'dla', 'inżyniera', 'oprogramowania', '?']\n",
      "Scores LLM: [0, 1, 1, 1, 1, 1, 1, 1, 1, 0, 0, 1]\n",
      "nDCG@10 for this query (LLM): 0.7649544505855147\n",
      "\n",
      "Query 7\n",
      "Original Tokens: ['Czy', 'usługi', 'zakupu', 'samochodów', 'są', 'tego', 'warte', '?']\n",
      "Corrected by LLM: ['czy', 'usługi', 'zakupu', 'samochodów', 'są', 'tego', 'warte', '?']\n",
      "Scores LLM: [0, 1, 1, 1, 1, 1, 1, 1]\n",
      "nDCG@10 for this query (LLM): 0.8118374955798289\n",
      "\n",
      "Query 8\n",
      "Original Tokens: ['Jak', 'wykorzystać', 'wahania', 'EUR', '/', 'USD', 'w', 'moim', 'konkretnym', 'przypadku', '?']\n",
      "Corrected by LLM: ['jak', 'wykorzystać', 'wahania', 'fUR', '/', 'UxD', 'w', 'moim', 'konkretnym', 'przypadku', '?']\n",
      "Scores LLM: [0, 1, 1, 0, 1, 0, 1, 1, 1, 1, 1]\n",
      "nDCG@10 for this query (LLM): 0.6972809751235127\n",
      "\n",
      "Query 9\n",
      "Original Tokens: ['Jakie', 'opcje', 'są', 'dostępne', 'w', 'przypadku', 'kredytu', 'mieszkaniowego', 'ze', 'słabym', 'kredytem', ',', '\\u200b\\u200bale', 'z', 'dobrą', 'historią', 'wynajmu', '?']\n",
      "Corrected by LLM: ['jakie', 'opcje', 'są', 'dostępne', 'w', 'przypadku', 'kredytu', 'mieszkaniowego', 'be', 'słabym', 'kredytem', ',', '\\u200b\\u200bale', 'z', 'dobrą', 'historią', 'wynajmu', '?']\n",
      "Scores LLM: [0, 1, 1, 1, 1, 1, 1, 1, 0, 1, 1, 1, 1, 1, 1, 1, 1, 1]\n",
      "nDCG@10 for this query (LLM): 0.713654010247531\n",
      "\n",
      "Query 10\n",
      "Original Tokens: ['Czy', 'stopniowe', 'inwestowanie', 'o', 'średnim', 'lub', 'wysokim', 'ryzyku', 'pomoże', 'zabezpieczyć', 'przyszłość', '?']\n",
      "Corrected by LLM: ['czy', 'stopniowe', 'inwestowanie', 'o', 'średnim', 'luf', 'wysokim', 'ryzyku', 'pomoże', 'zabezpieczyć', 'przyszłość', '?']\n",
      "Scores LLM: [0, 1, 1, 1, 1, 0, 1, 1, 1, 1, 1, 1]\n",
      "nDCG@10 for this query (LLM): 0.7015099647232446\n",
      "\n",
      "Query 11\n",
      "Original Tokens: ['Jak', 'mogę', 'poprawić', 'swoją', 'zdolność', 'kredytową', ',', 'jeśli', 'nie', 'płacę', 'rachunków', 'lub', 'czynszu', '?']\n",
      "Corrected by LLM: ['Jak', 'mogę', 'poprawia', 'swoją', 'zdolność', 'kredytową', ',', 'jeśli', 'nie', 'pracę', 'rachunków', 'luz', 'czynszu', '?']\n",
      "Scores LLM: [1, 1, 0, 1, 1, 1, 1, 1, 1, 0, 1, 0, 1, 1]\n",
      "nDCG@10 for this query (LLM): 0.8263333286520084\n",
      "\n",
      "Query 12\n",
      "Original Tokens: ['Przyczynić', 'się', 'zarówno', 'do', 'SEP', 'IRA', ',', 'jak', 'i', 'solo', 'Roth', '401(k', ')', '?']\n",
      "Corrected by LLM: ['przyczynić', 'mię', 'zarówno', 'dx', 'móc', 'etf', ',', 'jak', 'i', 'soto', 'Rott', '401(k', ')', '?']\n",
      "Scores LLM: [0, 0, 1, 0, 0, 0, 1, 1, 1, 0, 0, 1, 1, 1]\n",
      "nDCG@10 for this query (LLM): 0.39852346056134885\n",
      "\n",
      "Query 13\n",
      "Original Tokens: ['W', 'jaki', 'sposób', 'program', 'aktualizacji', 'firmy', 'Samsung', 'może', 'zaoferować', 'RRSO', '0', '%', '?']\n",
      "Corrected by LLM: ['W', 'jeki', 'sposób', 'prograf', 'aktualizacji', 'firmy', 'samsung', 'muże', 'zaoferować', 'to', '0', '%', '?']\n",
      "Scores LLM: [1, 0, 1, 0, 1, 1, 0, 0, 1, 0, 1, 1, 1]\n",
      "nDCG@10 for this query (LLM): 0.6435089981563973\n",
      "\n",
      "Query 14\n",
      "Original Tokens: ['Czy', 'mogę', 'inwestować', 'w', 'złoto', 'za', 'pośrednictwem', 'Vanguard', '(', 'lub', 'innego', 'instrumentu', ',', 'który', 'powinien', 'dobrze', 'działać', 'w', 'czasie', 'kryzysu', 'finansowego', ')', '?']\n",
      "Corrected by LLM: ['czy', 'mogę', 'inwestować', 'w', 'złoto', 'z', 'pośrednictwem', 'vanguard', '(', 'lub', 'innego', 'instrumentu', ',', 'który', 'powinien', 'dobrze', 'działa', 'w', 'ciasie', 'kryzysu', 'finansowego', ')', '?']\n",
      "Scores LLM: [0, 1, 1, 1, 1, 0, 1, 0, 1, 1, 1, 1, 1, 1, 1, 1, 0, 1, 0, 1, 1, 1, 1]\n",
      "nDCG@10 for this query (LLM): 0.6320787427864673\n",
      "\n",
      "Query 15\n",
      "Original Tokens: ['Czy', 'powinienem', 'wykluczyć', 'obligacje', 'z', 'naszego', 'portfela', 'inwestycji', 'emerytalnych', ',', 'jeśli', 'nasz', 'horyzont', 'czasowy', 'jest', 'nadal', 'wystarczająco', 'długi', '?']\n",
      "Corrected by LLM: ['rzy', 'powinienem', 'wykluczyć', 'obligacje', 'z', 'naszego', 'portfela', 'inwestycji', 'emerytalnych', ',', 'jeśli', 'kasz', 'horyzont', 'czasowy', 'jest', 'nadal', 'wystarczająco', 'długi', '?']\n",
      "Scores LLM: [0, 1, 1, 1, 1, 1, 1, 1, 1, 1, 1, 0, 1, 1, 1, 1, 1, 1, 1]\n",
      "nDCG@10 for this query (LLM): 0.77990823370192\n",
      "\n",
      "Query 16\n",
      "Original Tokens: ['Pytanie', 'o', 'podatki', 'od', 'akcji', 'kupno', '/', 'sprzedaż', 'krótkoterminowe']\n",
      "Corrected by LLM: ['pytanie', 'o', 'podatki', 'ou', 'akcja', 'kupne', '/', 'sprzedaż', 'krótkoterminowe']\n",
      "Scores LLM: [0, 1, 1, 0, 0, 0, 1, 1, 1]\n",
      "nDCG@10 for this query (LLM): 0.7057102966193831\n",
      "\n",
      "Query 17\n",
      "Original Tokens: ['Jak', 'mogę', 'wykryć', 'potencjalne', 'oszustwo', 'w', 'firmie', 'przed', 'zainwestowaniem', 'w', 'nie', '?']\n",
      "Corrected by LLM: ['na', 'mogę', 'wykryć', 'potencjalne', 'oszustwo', 'w', 'firmie', 'przed', 'zainwestowaniem', 'w', 'nie', '?']\n",
      "Scores LLM: [0, 1, 1, 1, 1, 1, 1, 1, 1, 1, 1, 1]\n",
      "nDCG@10 for this query (LLM): 0.77990823370192\n",
      "\n",
      "Query 18\n",
      "Original Tokens: ['Jak', 'poradzić', 'sobie', 'z', 'małżonkiem', ',', 'który', 'kompulsywnie', 'wydaje', '?']\n",
      "Corrected by LLM: ['cak', 'poradzić', 'sobie', 'z', 'małżonkiem', ',', 'który', 'kompulsywnie', 'wydaje', '?']\n",
      "Scores LLM: [0, 1, 1, 1, 1, 1, 1, 1, 1, 1]\n",
      "nDCG@10 for this query (LLM): 0.8328978515038055\n",
      "\n",
      "Query 19\n",
      "Original Tokens: ['Jak', 'dokonać', 'zakupu', 'dużego', 'zapasu', 'w', 'stosunku', 'do', 'księgi', 'zamówień', '?']\n",
      "Corrected by LLM: ['na', 'dokonać', 'zakupu', 'dużego', 'zapasu', 'w', 'stosunku', 'do', 'księgi', 'zamówień', '?']\n",
      "Scores LLM: [0, 1, 1, 1, 1, 1, 1, 1, 1, 1, 1]\n",
      "nDCG@10 for this query (LLM): 0.77990823370192\n",
      "\n",
      "Query 20\n",
      "Original Tokens: ['Zakupy', 'dla', 'odwiedzających', 'w', 'USA', ':', 'Czy', 'otrzymam', 'zwrot', 'podatku', '?', 'Czy', 'będę', 'musiał', 'coś', 'zapłacić', 'przy', 'wyjeździe', '?']\n",
      "Corrected by LLM: ['zakupy', 'dla', 'odwiedzających', 'w', 'UpA', ':', 'czy', 'otrzymam', 'zwrot', 'podatku', '?', 'czy', 'będę', 'musiał', 'coś', 'zapłacić', 'przy', 'wyjeździe', '?']\n",
      "Scores LLM: [0, 1, 1, 1, 0, 1, 0, 1, 1, 1, 1, 0, 1, 1, 1, 1, 1, 1, 1]\n",
      "nDCG@10 for this query (LLM): 0.6214011939609387\n",
      "\n",
      "Query 21\n",
      "Original Tokens: ['Dlaczego', 'ludzie', 'korzystają', 'z', 'kredytów', 'hipotecznych', ',', 'skoro', 'mogliby', 'po', 'prostu', 'zapłacić', 'za', 'dom', 'w', 'całości', '?']\n",
      "Corrected by LLM: ['dlaczego', 'ludzie', 'korzystają', 'z', 'kredytów', 'hipotecznych', ',', 'skoro', 'mogliby', 'od', 'prostu', 'zapłacić', 'sa', 'dom', 'w', 'całości', '?']\n",
      "Scores LLM: [0, 1, 1, 1, 1, 1, 1, 1, 1, 0, 1, 1, 0, 1, 1, 1, 1]\n",
      "nDCG@10 for this query (LLM): 0.7162874455029682\n",
      "\n",
      "Query 22\n",
      "Original Tokens: ['Zrozumienie', 'rachunku', 'zysków', 'i', 'strat', 'firmy', ':', 'Jaka', 'jest', 'dobra', 'marża', 'zysku', ',', 'dzięki', 'której', 'warto', 'inwestować', '?']\n",
      "Corrected by LLM: ['zrozumienie', 'rachunku', 'zysków', 'i', 'strat', 'firmy', ':', 'jak', 'jest', 'dosra', 'marża', 'zysku', ',', 'dzięki', 'której', 'warko', 'inwestować', '?']\n",
      "Scores LLM: [0, 1, 1, 1, 1, 1, 1, 0, 1, 0, 1, 1, 1, 1, 1, 0, 1, 1]\n",
      "nDCG@10 for this query (LLM): 0.6468562235661909\n",
      "\n",
      "Query 23\n",
      "Original Tokens: ['Czy', 'rynek', 'byka', '/', 'bessy', 'rzeczywiście', 'robi', 'różnicę', '?']\n",
      "Corrected by LLM: ['czy', 'rynek', 'byka', '/', 'bessy', 'rzeczywiście', 'robi', 'różnicę', '?']\n",
      "Scores LLM: [0, 1, 1, 1, 1, 1, 1, 1, 1]\n",
      "nDCG@10 for this query (LLM): 0.8232006379497264\n",
      "\n",
      "Query 24\n",
      "Original Tokens: ['W', 'jakim', 'stopniu', 'duże', 'firmy', 'i', 'inwestorzy', 'wpływają', 'na', 'giełdę', '?']\n",
      "Corrected by LLM: ['W', 'jakim', 'stopniu', 'doże', 'firmy', 'i', 'inwestorzy', 'wpływają', 'na', 'giełdę', '?']\n",
      "Scores LLM: [1, 1, 1, 0, 1, 1, 1, 1, 1, 1, 1]\n",
      "nDCG@10 for this query (LLM): 0.9052116356304495\n",
      "\n",
      "Query 25\n",
      "Original Tokens: ['Do', 'czego', 'służy', 'pole', '„', 'Folio', '”', 'w', 'księdze', 'rachunkowej', '?']\n",
      "Corrected by LLM: ['do', 'czego', 'służy', 'pole', '„', 'solo', '”', 'w', 'księdze', 'rachunkowej', '?']\n",
      "Scores LLM: [0, 1, 1, 1, 1, 0, 1, 1, 1, 1, 1]\n",
      "nDCG@10 for this query (LLM): 0.7491729375046119\n",
      "\n",
      "Query 26\n",
      "Original Tokens: ['Jak', 'mogę', 'przestać', 'marnować', 'jedzenie', '?']\n",
      "Corrected by LLM: ['jak', 'mogę', 'przestać', 'marnować', 'jedzenie', '?']\n",
      "Scores LLM: [0, 1, 1, 1, 1, 1]\n",
      "nDCG@10 for this query (LLM): 0.7816510974258781\n",
      "\n",
      "Query 27\n",
      "Original Tokens: ['Czy', 'są', 'jakieś', 'realne', 'alternatywy', 'dla', 'Paypal', 'dla', 'małej', 'witryny', '?']\n",
      "Corrected by LLM: ['czy', 'so', 'jakieś', 'realne', 'alternatywy', 'dla', 'paypal', 'dla', 'małej', 'witryny', '?']\n",
      "Scores LLM: [0, 0, 1, 1, 1, 1, 0, 1, 1, 1, 1]\n",
      "nDCG@10 for this query (LLM): 0.6524141650128541\n",
      "\n",
      "Query 28\n",
      "Original Tokens: ['Jakie', 'są', 'moje', 'szanse', 'na', 'uzyskanie', 'kredytu', 'hipotecznego', 'z', 'okropnym', 'kredytem', ',', '\\u200b\\u200bale', 'wysokimi', 'dochodami']\n",
      "Corrected by LLM: ['nie', 'są', 'moje', 'szanse', 'na', 'uzyskacie', 'kredytu', 'hipotecznego', 'z', 'okropnym', 'kredytem', ',', '\\u200b\\u200bale', 'wysokimi', 'dochodami']\n",
      "Scores LLM: [0, 1, 1, 1, 1, 0, 1, 1, 1, 1, 1, 1, 1, 1, 1]\n",
      "nDCG@10 for this query (LLM): 0.7015099647232446\n",
      "\n",
      "Query 29\n",
      "Original Tokens: ['Czy', 'powinienem', 'anulować', 'istniejącą', 'kartę', 'kredytową', ',', 'aby', 'móc', 'otworzyć', 'inną', 'z', 'nagrodami', '?']\n",
      "Corrected by LLM: ['czy', 'powinienem', 'anulować', 'istniejącą', 'kartę', 'kredytową', ',', 'aby', 'muc', 'otworzyć', 'inną', 'z', 'nagrodami', '?']\n",
      "Scores LLM: [0, 1, 1, 1, 1, 1, 1, 1, 0, 1, 1, 1, 1, 1]\n",
      "nDCG@10 for this query (LLM): 0.713654010247531\n",
      "\n",
      "Query 30\n",
      "Original Tokens: ['Zatrudniony', 'w', 'W', '-', '9', ',', 'czy', 'będę', 'płacić', 'kwartalnie', 'szacunkowy', 'podatek', '?']\n",
      "Corrected by LLM: ['zatrudniony', 'w', 'W', '-', '9', ',', 'czy', 'bedę', 'płacić', 'kwartalnie', 'szacunkowy', 'podatek', '?']\n",
      "Scores LLM: [0, 1, 1, 1, 1, 1, 1, 0, 1, 1, 1, 1, 1]\n",
      "nDCG@10 for this query (LLM): 0.7104770117651427\n"
     ]
    }
   ],
   "source": [
    "ndcg_scores_levenshtein = []\n",
    "\n",
    "df_30 = df[df['distorted_queries'].isin(distorted_queries_30)].copy()\n",
    "\n",
    "for idx, row in df_30.iterrows():\n",
    "    original_tokens = row['original_tokens']\n",
    "    distorted_query = row['distorted_queries']\n",
    "    \n",
    "    corrected_levenshtein = row['corrected_levenshtein']\n",
    "    scores_levenshtein = [1 if word in original_tokens else 0 for word in corrected_levenshtein]\n",
    "    ndcg_score_levenshtein = ndcg_at_k(scores_levenshtein, k=10)\n",
    "    ndcg_scores_levenshtein.append(ndcg_score_levenshtein)\n",
    "    \n",
    "    print(f\"\\nQuery {idx + 1}\")\n",
    "    print(\"Original Tokens:\", original_tokens)\n",
    "    print(\"Corrected by LLM:\", corrected_levenshtein)\n",
    "    print(\"Scores LLM:\", scores_levenshtein)\n",
    "    print(\"nDCG@10 for this query (LLM):\", ndcg_score_levenshtein)\n",
    "\n",
    "df_30['ndcg_levenshtein'] = ndcg_scores_levenshtein\n",
    "\n",
    "mean_ndcg_levenshtein = np.mean(ndcg_scores_levenshtein)"
   ],
   "metadata": {
    "collapsed": false,
    "ExecuteTime": {
     "end_time": "2024-11-08T19:31:49.382668200Z",
     "start_time": "2024-11-08T19:31:48.724342500Z"
    }
   },
   "id": "11abde47225ccda6"
  },
  {
   "cell_type": "code",
   "execution_count": 155,
   "outputs": [
    {
     "name": "stdout",
     "output_type": "stream",
     "text": [
      "\n",
      "Query 1\n",
      "Original Tokens: ['Gdzie', 'można', 'znaleźć', 'ceny', 'intraday', 'dla', 'funduszy', 'inwestycyjnych', '?']\n",
      "Corrected by LLM: ['Gdzie', 'można', 'znaleźć', 'klony', 'interwencji', 'dla', 'funduszy', 'inwestycyjnych', '?']\n",
      "Scores LLM: [1, 1, 1, 0, 0, 1, 1, 1, 1]\n",
      "nDCG@10 for this query (LLM): 0.9447403758138471\n",
      "\n",
      "Query 2\n",
      "Original Tokens: ['Odliczenie', 'dla', 'biura', 'domowego', 'metodą', 'uproszczoną', 'i', 'koszt', 'niestałej', 'modyfikacji', 'biura', '?']\n",
      "Corrected by LLM: ['Adliczenie', 'długu', 'biznesowego', 'metodą', 'uproszczoną', 'i', 'koszt', 'nieustającej', 'modyfikacji', 'biur', '?']\n",
      "Scores LLM: [0, 0, 0, 1, 1, 1, 1, 0, 1, 0, 1]\n",
      "nDCG@10 for this query (LLM): 0.5471353879625743\n",
      "\n",
      "Query 3\n",
      "Original Tokens: ['Czy', 'reguła', 'wzrostu', 'dotyczy', 'wszystkich', 'akcji', '/', 'ETF', 'i', 'innych', 'papierów', 'wartościowych', ',', 'czy', 'tylko', 'określonych', '?']\n",
      "Corrected by LLM: ['Czy', 'reguła', 'szorstu', 'dotyczy', 'wszystkich', 'akcji', '/', 'ETL', 'i', 'innych', 'papierów', 'wartościowych', ',', 'czy', 'tylko', 'określonych', '?']\n",
      "Scores LLM: [1, 1, 0, 1, 1, 1, 1, 0, 1, 1, 1, 1, 1, 1, 1, 1, 1]\n",
      "nDCG@10 for this query (LLM): 0.8205228949141828\n",
      "\n",
      "Query 4\n",
      "Original Tokens: ['Co', 'zrobić', 'ze', 'swoimi', 'oszczędnościami', 'w', 'Japonii']\n",
      "Corrected by LLM: ['Czy', 'mogę', 'zrobić', 'wszystkie', 'oszczędności', 'w', 'Japonii']\n",
      "Scores LLM: [0, 0, 1, 0, 0, 1, 1]\n",
      "nDCG@10 for this query (LLM): 0.558226059985166\n",
      "\n",
      "Query 5\n",
      "Original Tokens: ['Jak', 'działa', 'handel', 'przedrynkowy', '?']\n",
      "Corrected by LLM: ['Tak', 'działa', 'handel', 'przedrynkowy', '?']\n",
      "Scores LLM: [0, 1, 1, 1, 1]\n",
      "nDCG@10 for this query (LLM): 0.7606395682357036\n",
      "\n",
      "Query 6\n",
      "Original Tokens: ['Polecana', 'książka', '/', 'blog', 'o', 'finansach', 'i', 'ekonomii', 'dla', 'Inżyniera', 'Oprogramowania', '?']\n",
      "Corrected by LLM: ['Polecana', 'książka', '/', 'blog', 'o', 'finansach', 'i', 'ekonomii', 'dla', 'Inżynierii', 'Oprogramowania', '?']\n",
      "Scores LLM: [1, 1, 1, 1, 1, 1, 1, 1, 1, 0, 1, 1]\n",
      "nDCG@10 for this query (LLM): 0.9363792118010483\n",
      "\n",
      "Query 7\n",
      "Original Tokens: ['Czy', 'usługi', 'zakupu', 'samochodów', 'są', 'tego', 'warte', '?']\n",
      "Corrected by LLM: ['Czy', 'usługi', 'zakupu', 'samochodów', 'są', 'dostępne', 'w', 'leasingu', '?']\n",
      "Scores LLM: [1, 1, 1, 1, 1, 0, 0, 0, 1]\n",
      "nDCG@10 for this query (LLM): 0.9833032486989473\n",
      "\n",
      "Query 8\n",
      "Original Tokens: ['Jak', 'wykorzystać', 'wahania', 'EUR', '/', 'USD', 'w', 'moim', 'konkretnym', 'przypadku', '?']\n",
      "Corrected by LLM: ['Jak', 'wykorzystać', 'wahania', 'EfR', '/', 'bSD', 'w', 'konkretnym', 'przypadku', '?']\n",
      "Scores LLM: [1, 1, 1, 0, 1, 0, 1, 1, 1, 1]\n",
      "nDCG@10 for this query (LLM): 0.9502236778911698\n",
      "\n",
      "Query 9\n",
      "Original Tokens: ['Jakie', 'opcje', 'są', 'dostępne', 'w', 'przypadku', 'kredytu', 'mieszkaniowego', 'ze', 'słabym', 'kredytem', ',', '\\u200b\\u200bale', 'z', 'dobrą', 'historią', 'wynajmu', '?']\n",
      "Corrected by LLM: ['Jakie', 'opcje', 'są', 'dostępne', 'w', 'przypadku', 'kredytu', 'mieszkaniowego', 'z', 'szabym', 'kredytem', ',', 'czy', 'z', 'dobrą', 'historią', 'wynajmu', '?']\n",
      "Scores LLM: [1, 1, 1, 1, 1, 1, 1, 1, 1, 0, 1, 1, 0, 1, 1, 1, 1, 1]\n",
      "nDCG@10 for this query (LLM): 0.9363792118010483\n",
      "\n",
      "Query 10\n",
      "Original Tokens: ['Czy', 'stopniowe', 'inwestowanie', 'o', 'średnim', 'lub', 'wysokim', 'ryzyku', 'pomoże', 'zabezpieczyć', 'przyszłość', '?']\n",
      "Corrected by LLM: ['Czy', 'inwestowanie', 'o', 'średnim', 'lub', 'wysokim', 'ryzyku', 'może', 'zabezpieczyć', 'przyszłość', '?']\n",
      "Scores LLM: [1, 1, 1, 1, 1, 1, 1, 0, 1, 1, 1]\n",
      "nDCG@10 for this query (LLM): 0.9305687780632229\n",
      "\n",
      "Query 11\n",
      "Original Tokens: ['Jak', 'mogę', 'poprawić', 'swoją', 'zdolność', 'kredytową', ',', 'jeśli', 'nie', 'płacę', 'rachunków', 'lub', 'czynszu', '?']\n",
      "Corrected by LLM: ['Czy', 'mogę', 'poprawić', 'swoją', 'zdolność', 'kredytową', ',', 'jeśli', 'nie', 'płacę', 'rachunków', 'w', 'terminie', '?']\n",
      "Scores LLM: [0, 1, 1, 1, 1, 1, 1, 1, 1, 1, 1, 0, 0, 1]\n",
      "nDCG@10 for this query (LLM): 0.77990823370192\n",
      "\n",
      "Query 12\n",
      "Original Tokens: ['Przyczynić', 'się', 'zarówno', 'do', 'SEP', 'IRA', ',', 'jak', 'i', 'solo', 'Roth', '401(k', ')', '?']\n",
      "Corrected by LLM: ['Przyczynić', 'się', 'zarówno', 'do', 'AEP', 'IRW', ',', 'dla', 'Rnth', 'x01(k', ')', '?']\n",
      "Scores LLM: [1, 1, 1, 1, 0, 0, 1, 0, 0, 0, 1, 1]\n",
      "nDCG@10 for this query (LLM): 0.7957503936198024\n",
      "\n",
      "Query 13\n",
      "Original Tokens: ['W', 'jaki', 'sposób', 'program', 'aktualizacji', 'firmy', 'Samsung', 'może', 'zaoferować', 'RRSO', '0', '%', '?']\n",
      "Corrected by LLM: ['W', 'jaki', 'sposób', 'program', 'aktualizacji', 'firmy', 'Samsung', 'może', 'zaoferować', 'RRSw', '0', '%', '?']\n",
      "Scores LLM: [1, 1, 1, 1, 1, 1, 1, 1, 1, 0, 1, 1, 1]\n",
      "nDCG@10 for this query (LLM): 0.9363792118010483\n",
      "\n",
      "Query 14\n",
      "Original Tokens: ['Czy', 'mogę', 'inwestować', 'w', 'złoto', 'za', 'pośrednictwem', 'Vanguard', '(', 'lub', 'innego', 'instrumentu', ',', 'który', 'powinien', 'dobrze', 'działać', 'w', 'czasie', 'kryzysu', 'finansowego', ')', '?']\n",
      "Corrected by LLM: ['Czy', 'mogę', 'inwestować', 'w', 'kloty', 'z', 'pośrednictwem', 'Vanguard', '(', 'lub', 'innego', 'instrumentu', ',', 'który', 'powinien', 'dobrze', 'działać', 'w', 'czasie', 'kryzysu', 'finansowego', ')', '?']\n",
      "Scores LLM: [1, 1, 1, 1, 0, 0, 1, 1, 1, 1, 1, 1, 1, 1, 1, 1, 1, 1, 1, 1, 1, 1, 1]\n",
      "nDCG@10 for this query (LLM): 0.8364586133797037\n",
      "\n",
      "Query 15\n",
      "Original Tokens: ['Czy', 'powinienem', 'wykluczyć', 'obligacje', 'z', 'naszego', 'portfela', 'inwestycji', 'emerytalnych', ',', 'jeśli', 'nasz', 'horyzont', 'czasowy', 'jest', 'nadal', 'wystarczająco', 'długi', '?']\n",
      "Corrected by LLM: ['Czy', 'powinienem', 'wykluczyć', 'obligacje', 'z', 'naszego', 'portfela', 'inwestycji', 'emerytalnych', ',', 'jeśli', 'mam', 'długi', 'horyzont', 'czasowy', '?']\n",
      "Scores LLM: [1, 1, 1, 1, 1, 1, 1, 1, 1, 1, 1, 0, 1, 1, 1, 1]\n",
      "nDCG@10 for this query (LLM): 1.0\n",
      "\n",
      "Query 16\n",
      "Original Tokens: ['Pytanie', 'o', 'podatki', 'od', 'akcji', 'kupno', '/', 'sprzedaż', 'krótkoterminowe']\n",
      "Corrected by LLM: ['Pytanie', 'o', 'podatki', 'nad', 'akcjami', 'kupna', '/', 'sprzedaży', 'krótkoterminowych']\n",
      "Scores LLM: [1, 1, 1, 0, 0, 0, 1, 0, 0]\n",
      "nDCG@10 for this query (LLM): 0.9619991470595832\n",
      "\n",
      "Query 17\n",
      "Original Tokens: ['Jak', 'mogę', 'wykryć', 'potencjalne', 'oszustwo', 'w', 'firmie', 'przed', 'zainwestowaniem', 'w', 'nie', '?']\n",
      "Corrected by LLM: ['Czy', 'mogę', 'wykryć', 'potencjalne', 'oszustwo', 'w', 'firmie', 'przed', 'zainwestowaniem', 'w', 'nią', '?']\n",
      "Scores LLM: [0, 1, 1, 1, 1, 1, 1, 1, 1, 1, 0, 1]\n",
      "nDCG@10 for this query (LLM): 0.77990823370192\n",
      "\n",
      "Query 18\n",
      "Original Tokens: ['Jak', 'poradzić', 'sobie', 'z', 'małżonkiem', ',', 'który', 'kompulsywnie', 'wydaje', '?']\n",
      "Corrected by LLM: ['Jak', 'poradzić', 'sobie', 'z', 'małżonkiem', ',', 'który', 'kompulsywnie', 'wydaje', '?']\n",
      "Scores LLM: [1, 1, 1, 1, 1, 1, 1, 1, 1, 1]\n",
      "nDCG@10 for this query (LLM): 1.0\n",
      "\n",
      "Query 19\n",
      "Original Tokens: ['Jak', 'dokonać', 'zakupu', 'dużego', 'zapasu', 'w', 'stosunku', 'do', 'księgi', 'zamówień', '?']\n",
      "Corrected by LLM: ['Jak', 'dokonać', 'zakupu', 'dużego', 'zabezpieczenia', 'w', 'stosunku', 'do', 'esięgi', 'zamówień', '?']\n",
      "Scores LLM: [1, 1, 1, 1, 0, 1, 1, 1, 0, 1, 1]\n",
      "nDCG@10 for this query (LLM): 0.9062596095782314\n",
      "\n",
      "Query 20\n",
      "Original Tokens: ['Zakupy', 'dla', 'odwiedzających', 'w', 'USA', ':', 'Czy', 'otrzymam', 'zwrot', 'podatku', '?', 'Czy', 'będę', 'musiał', 'coś', 'zapłacić', 'przy', 'wyjeździe', '?']\n",
      "Corrected by LLM: ['Zakupy', 'dla', 'odwiedzających', 'w', 'JSA', 'Czy', 'otrzymam', 'zwrot', 'podatku', '?', 'Czy', 'będę', 'musiał', 'coś', 'zapłacić', 'przy', 'wyjeździe', '?']\n",
      "Scores LLM: [1, 1, 1, 1, 0, 1, 1, 1, 1, 1, 1, 1, 1, 1, 1, 1, 1, 1]\n",
      "nDCG@10 for this query (LLM): 0.9148568823583791\n",
      "\n",
      "Query 21\n",
      "Original Tokens: ['Dlaczego', 'ludzie', 'korzystają', 'z', 'kredytów', 'hipotecznych', ',', 'skoro', 'mogliby', 'po', 'prostu', 'zapłacić', 'za', 'dom', 'w', 'całości', '?']\n",
      "Corrected by LLM: ['Dlaczego', 'ludzie', 'korzystają', 'z', 'kredytów', 'hipotecznych', ',', 'skoro', 'mogliby', 'po', 'prostu', 'zapracować', 'na', 'dom', 'w', 'całości', '?']\n",
      "Scores LLM: [1, 1, 1, 1, 1, 1, 1, 1, 1, 1, 1, 0, 0, 1, 1, 1, 1]\n",
      "nDCG@10 for this query (LLM): 1.0\n",
      "\n",
      "Query 22\n",
      "Original Tokens: ['Zrozumienie', 'rachunku', 'zysków', 'i', 'strat', 'firmy', ':', 'Jaka', 'jest', 'dobra', 'marża', 'zysku', ',', 'dzięki', 'której', 'warto', 'inwestować', '?']\n",
      "Corrected by LLM: ['Zrozumienie', 'rachunku', 'zysków', 'i', 'strat', 'firmy', 'Jaka', 'jest', 'dobra', 'marża', 'zysku', ',', 'dzięki', 'której', 'warto', 'inwestować', '?']\n",
      "Scores LLM: [1, 1, 1, 1, 1, 1, 1, 1, 1, 1, 1, 1, 1, 1, 1, 1, 1]\n",
      "nDCG@10 for this query (LLM): 1.0\n",
      "\n",
      "Query 23\n",
      "Original Tokens: ['Czy', 'rynek', 'byka', '/', 'bessy', 'rzeczywiście', 'robi', 'różnicę', '?']\n",
      "Corrected by LLM: ['Czy', 'rynek', 'był', '/', 'bersy', 'rzeczywiście', 'robi', 'różnicę', '?']\n",
      "Scores LLM: [1, 1, 0, 1, 0, 1, 1, 1, 1]\n",
      "nDCG@10 for this query (LLM): 0.9256850023120645\n",
      "\n",
      "Query 24\n",
      "Original Tokens: ['W', 'jakim', 'stopniu', 'duże', 'firmy', 'i', 'inwestorzy', 'wpływają', 'na', 'giełdę', '?']\n",
      "Corrected by LLM: ['W', 'jakim', 'stopniu', 'firmy', 'i', 'inwestorzy', 'spływają', 'na', 'giełdę', '?']\n",
      "Scores LLM: [1, 1, 1, 1, 1, 1, 0, 1, 1, 1]\n",
      "nDCG@10 for this query (LLM): 0.9895948844467957\n",
      "\n",
      "Query 25\n",
      "Original Tokens: ['Do', 'czego', 'służy', 'pole', '„', 'Folio', '”', 'w', 'księdze', 'rachunkowej', '?']\n",
      "Corrected by LLM: ['Co', 'robi', '„Fplio”', 'w', 'księdze', 'rachunkowej', '?']\n",
      "Scores LLM: [0, 0, 0, 1, 1, 1, 1]\n",
      "nDCG@10 for this query (LLM): 0.5883300173403988\n",
      "\n",
      "Query 26\n",
      "Original Tokens: ['Jak', 'mogę', 'przestać', 'marnować', 'jedzenie', '?']\n",
      "Corrected by LLM: ['Czy', 'mogę', 'przestać', 'marnować', 'jedzenie', '?']\n",
      "Scores LLM: [0, 1, 1, 1, 1, 1]\n",
      "nDCG@10 for this query (LLM): 0.7816510974258781\n",
      "\n",
      "Query 27\n",
      "Original Tokens: ['Czy', 'są', 'jakieś', 'realne', 'alternatywy', 'dla', 'Paypal', 'dla', 'małej', 'witryny', '?']\n",
      "Corrected by LLM: ['Czy', 'jest', 'jakiś', 'realny', 'alternatywny', 'dla', 'Paypala', 'dla', 'małych', 'wydryn', '?']\n",
      "Scores LLM: [1, 0, 0, 0, 0, 1, 0, 1, 0, 0, 1]\n",
      "nDCG@10 for this query (LLM): 0.6525874238732423\n",
      "\n",
      "Query 28\n",
      "Original Tokens: ['Jakie', 'są', 'moje', 'szanse', 'na', 'uzyskanie', 'kredytu', 'hipotecznego', 'z', 'okropnym', 'kredytem', ',', '\\u200b\\u200bale', 'wysokimi', 'dochodami']\n",
      "Corrected by LLM: ['Jakie', 'mam', 'szanse', 'na', 'uzyskanie', 'kredytu', 'hipotecznego', 'z', 'opóźnionym', 'kredytem', ',', 'z', 'wysokimi', 'dochodami']\n",
      "Scores LLM: [1, 0, 1, 1, 1, 1, 1, 1, 0, 1, 1, 1, 1, 1]\n",
      "nDCG@10 for this query (LLM): 0.7948833326720566\n",
      "\n",
      "Query 29\n",
      "Original Tokens: ['Czy', 'powinienem', 'anulować', 'istniejącą', 'kartę', 'kredytową', ',', 'aby', 'móc', 'otworzyć', 'inną', 'z', 'nagrodami', '?']\n",
      "Corrected by LLM: ['Czy', 'powinienem', 'wznowić', 'istniejącą', 'karę', 'kredytową', ',', 'aby', 'móc', 'otworzyć', 'nową', 'z', 'nagrodami', '?']\n",
      "Scores LLM: [1, 1, 0, 1, 0, 1, 1, 1, 1, 1, 0, 1, 1, 1]\n",
      "nDCG@10 for this query (LLM): 0.8048109992093391\n",
      "\n",
      "Query 30\n",
      "Original Tokens: ['Zatrudniony', 'w', 'W', '-', '9', ',', 'czy', 'będę', 'płacić', 'kwartalnie', 'szacunkowy', 'podatek', '?']\n",
      "Corrected by LLM: ['Zatrudniony', 'w', 'W', '-', '9', ',', 'czy', 'będę', 'płacił', 'kwartalny', 'szacunkowy', 'podatek', '?']\n",
      "Scores LLM: [1, 1, 1, 1, 1, 1, 1, 1, 0, 0, 1, 1, 1]\n",
      "nDCG@10 for this query (LLM): 0.8701249883466594\n"
     ]
    }
   ],
   "source": [
    "df_30['corrected_llm'] = llm_response_text\n",
    "\n",
    "ndcg_scores_llm = []\n",
    "\n",
    "for idx, row in df_30.iterrows():\n",
    "    original_tokens = row['original_tokens']\n",
    "    corrected_llm = row['corrected_llm']\n",
    "    \n",
    "    scores_llm = [1 if word in original_tokens else 0 for word in corrected_llm]\n",
    "    ndcg_score_llm = ndcg_at_k(scores_llm, k=10)\n",
    "    ndcg_scores_llm.append(ndcg_score_llm)\n",
    "    \n",
    "    print(f\"\\nQuery {idx + 1}\")\n",
    "    print(\"Original Tokens:\", original_tokens)\n",
    "    print(\"Corrected by LLM:\", corrected_llm)\n",
    "    print(\"Scores LLM:\", scores_llm)\n",
    "    print(\"nDCG@10 for this query (LLM):\", ndcg_score_llm)\n",
    "\n",
    "df_30['ndcg_llm'] = ndcg_scores_llm\n",
    "mean_ndcg_llm = np.mean(ndcg_scores_llm)"
   ],
   "metadata": {
    "collapsed": false,
    "ExecuteTime": {
     "end_time": "2024-11-08T19:31:49.525592800Z",
     "start_time": "2024-11-08T19:31:49.369655900Z"
    }
   },
   "id": "589753a0dadf9686"
  },
  {
   "cell_type": "code",
   "execution_count": 156,
   "outputs": [
    {
     "name": "stdout",
     "output_type": "stream",
     "text": [
      "Mean nDCG@10 for Levenshtein method (30 queries): 0.7249657693467337\n",
      "Mean nDCG@10 for LLM method (30 queries): 0.8562435495331312\n"
     ]
    }
   ],
   "source": [
    "print(\"Mean nDCG@10 for Levenshtein method (30 queries):\", mean_ndcg_levenshtein)\n",
    "print(\"Mean nDCG@10 for LLM method (30 queries):\", mean_ndcg_llm)"
   ],
   "metadata": {
    "collapsed": false,
    "ExecuteTime": {
     "end_time": "2024-11-08T19:31:49.528563800Z",
     "start_time": "2024-11-08T19:31:49.453564300Z"
    }
   },
   "id": "ca3efd24098308dc"
  },
  {
   "cell_type": "markdown",
   "source": [
    "Comparing the Levenshtein-based method and the LLM-based method (using Bielik) for query correction shows a clear difference in performance in favor of the LLM approach. The average nDCG@10 for the Levenshtein method is 0.7249, while the LLM method achieves a higher average nDCG@10 of 0.8562.\n",
    "\n",
    "This suggests that the LLM-based correction provides a more accurate match to the original queries. The LLM method is likely superior because it can take into account broader linguistic patterns and context beyond simple character-based corrections. In contrast, the Levenshtein method focuses primarily on minimizing character differences, which, while effective, may not fully capture the intended meaning of each query."
   ],
   "metadata": {
    "collapsed": false
   },
   "id": "de97c8187c0cfd68"
  },
  {
   "cell_type": "markdown",
   "id": "9ed5b0f4456a5676",
   "metadata": {
    "collapsed": false
   },
   "source": [
    "##### Draw conclusions regarding (2 points):\n",
    "**The distribution of words in the corpus**\n",
    "The word distribution in the corpus shows that some words appear frequently, while many others are rare. This uneven distribution can influence query correction, as frequent words are easier for algorithms to recognize and correct accurately. In contrast, rare words may be harder to identify and correct properly, potentially leading to less accurate corrections for those terms.\n",
    "    \n",
    "**The performance of your method compared to ElasticSearch**\n",
    "The performance of your method compared to ElasticSearch:\n",
    "Compared to Elasticsearch’s fuzzy match, my method generally performs better in terms of relevance and alignment with original queries. This is indicated by higher nDCG scores, suggesting that the method provides more accurate corrections for distorted queries.\n",
    "\n",
    "**The results provided by your method compared to ElasticSearch**\n",
    "The results from my method show improved query relevance over Elasticsearch’s fuzzy match. While Elasticsearch often captures partial matches, my method yields results that align more closely with the intended queries, especially when normalizing for contextual similarity.\n",
    "\n",
    "**The validity of the obtained corrections**\n",
    "The corrections generated by my method are generally valid and reflect a strong alignment with original query intents. Higher nDCG scores confirm that the corrections not only reduce distortions but also enhance search relevance.\n",
    "\n",
    "**Ability of an LLM to fix invalid queries**\n",
    "The LLM demonstrates a strong ability to fix invalid queries, outperforming traditional methods like Levenshtein in capturing the intended meaning. By understanding context and language patterns, the LLM provides corrections that are both accurate and contextually appropriate."
   ]
  },
  {
   "cell_type": "markdown",
   "id": "e5be86051d3ce8f6",
   "metadata": {
    "collapsed": false
   },
   "source": [
    "## Hints\n",
    "\n",
    "1. Levenshtein distance (Edit distance) is a measure defined for any pair of strings. It is defined as the minimal\n",
    "   number of single character edits (insertions, deletions or substitutions) needed to transform one string to the\n",
    "   other. The measure is symmetric.\n",
    "1. The algorithm is usually implemented as a dynamic program,\n",
    "   see [Wikipedia article](https://en.wikipedia.org/wiki/Levenshtein_distance) for details.\n",
    "1. The distance may be used to fix an invalid word by inspecting in the growing order of the distance, the words\n",
    "   that are *n* edits away from the invalid word. If there are no words *n* edits away, the words *n+1* edits away\n",
    "   are inspected.\n",
    "1. The frequency list may be used to select the most popular word with given distance, if there are many candidate\n",
    "   corrections.\n",
    "1. Usually the correction algorithm does not use the edit distance directly, since it would require to compare the\n",
    "   invalid word with all words in the dictionary. The algorithms work in the opposite way - they generate candidate\n",
    "   words that are 1 or 2 edits away from the invalid word (cf. P. Norvig's\n",
    "   [article](https://norvig.com/spell-correct.html) for the details). A different approach is to\n",
    "   use [Levenshtein automaton](https://norvig.com/spell-correct.html) for finding the corrections effectively.\n",
    "1. ElasticSearch has\n",
    "   a [fuzziness](https://www.elastic.co/guide/en/elasticsearch/reference/current/query-dsl-fuzzy-query.html)\n",
    "   parameter for finding approximate matches of a query."
   ]
  },
  {
   "cell_type": "code",
   "execution_count": 156,
   "outputs": [],
   "source": [],
   "metadata": {
    "collapsed": false,
    "ExecuteTime": {
     "end_time": "2024-11-08T19:31:49.528563800Z",
     "start_time": "2024-11-08T19:31:49.475566200Z"
    }
   },
   "id": "c56e532b3bee7130"
  }
 ],
 "metadata": {
  "kernelspec": {
   "display_name": "Python 3 (ipykernel)",
   "language": "python",
   "name": "python3"
  },
  "language_info": {
   "codemirror_mode": {
    "name": "ipython",
    "version": 3
   },
   "file_extension": ".py",
   "mimetype": "text/x-python",
   "name": "python",
   "nbconvert_exporter": "python",
   "pygments_lexer": "ipython3",
   "version": "3.10.11"
  }
 },
 "nbformat": 4,
 "nbformat_minor": 5
}
